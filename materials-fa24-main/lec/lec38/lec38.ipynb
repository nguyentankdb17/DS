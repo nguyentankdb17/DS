{
 "cells": [
  {
   "cell_type": "code",
   "execution_count": 2,
   "id": "bd22629d-ea02-4c9c-aa2c-eb816b24800d",
   "metadata": {},
   "outputs": [],
   "source": [
    "from datascience import *\n",
    "import numpy as np\n",
    "import matplotlib\n",
    "from mpl_toolkits.mplot3d import Axes3D\n",
    "\n",
    "%matplotlib inline\n",
    "import matplotlib.pyplot as plots\n",
    "plots.style.use('fivethirtyeight')\n",
    "\n",
    "import warnings\n",
    "warnings.simplefilter(\"ignore\")"
   ]
  },
  {
   "cell_type": "code",
   "execution_count": 3,
   "id": "b2ca698c-d4d7-42c9-9eff-38eddc7daa55",
   "metadata": {},
   "outputs": [],
   "source": [
    "def create_population(prior_disease_prob, n):\n",
    "    disease = round(n * prior_disease_prob)\n",
    "    no_disease = round(n * (1 - prior_disease_prob))\n",
    "\n",
    "    status = np.array(['Disease'] * disease  +  ['No disease'] * no_disease)\n",
    "    result = np.array(['Test +'] * (disease) + ['Test +'] * (round(no_disease * 0.05))  + \\\n",
    "                 ['Test -'] * (round(no_disease * 0.95)))\n",
    "                 \n",
    "    t = Table().with_columns(\n",
    "    'Status', status,\n",
    "    'Test Result', result\n",
    "    )\n",
    "    return t.pivot('Test Result', 'Status')"
   ]
  },
  {
   "cell_type": "markdown",
   "id": "cef850ce-f1b2-41e8-92f7-0ec175d348dd",
   "metadata": {},
   "source": [
    "## New material"
   ]
  },
  {
   "cell_type": "markdown",
   "id": "b8437d81-edef-4b91-8c7e-c419fadf31ca",
   "metadata": {},
   "source": [
    "### Here's a scenario (college course)"
   ]
  },
  {
   "cell_type": "markdown",
   "id": "c96e72a7-d057-4331-aa02-8fd835769cd6",
   "metadata": {},
   "source": [
    "Here is the data for this example(s). Verify that the data looks as is in the question statements."
   ]
  },
  {
   "cell_type": "code",
   "execution_count": 7,
   "id": "77cc40eb-e4e1-4b61-ac17-3879813dd59e",
   "metadata": {},
   "outputs": [],
   "source": [
    "n = 100\n",
    "second = round(n * 0.6)\n",
    "third = round(n * 0.4)\n",
    "\n",
    "year = np.array(['Second'] * second + ['Third'] * third)\n",
    "major = np.array(['Declared'] * (round(second * 0.5)) + ['Undeclared'] * (round(second * 0.5)) + \\\n",
    "                 ['Declared'] * (round(third * 0.8))  + ['Undeclared'] * (round(third * 0.2)))\n",
    "                 \n",
    "students = Table().with_columns(\n",
    "    'Year', year,\n",
    "    'Major', major\n",
    ")"
   ]
  },
  {
   "cell_type": "code",
   "execution_count": 8,
   "id": "18532662-22d7-4d23-87c3-04e3f358590e",
   "metadata": {},
   "outputs": [
    {
     "data": {
      "text/html": [
       "<table border=\"1\" class=\"dataframe\">\n",
       "    <thead>\n",
       "        <tr>\n",
       "            <th>Year</th> <th>Major</th>\n",
       "        </tr>\n",
       "    </thead>\n",
       "    <tbody>\n",
       "        <tr>\n",
       "            <td>Second</td> <td>Declared</td>\n",
       "        </tr>\n",
       "        <tr>\n",
       "            <td>Second</td> <td>Declared</td>\n",
       "        </tr>\n",
       "        <tr>\n",
       "            <td>Second</td> <td>Declared</td>\n",
       "        </tr>\n",
       "    </tbody>\n",
       "</table>\n",
       "<p>... (97 rows omitted)</p>"
      ],
      "text/plain": [
       "<IPython.core.display.HTML object>"
      ]
     },
     "metadata": {},
     "output_type": "display_data"
    }
   ],
   "source": [
    "students.show(3)"
   ]
  },
  {
   "cell_type": "code",
   "execution_count": 9,
   "id": "8f5231c0-c18c-4031-bece-ba30c8e14272",
   "metadata": {},
   "outputs": [
    {
     "data": {
      "text/html": [
       "<table border=\"1\" class=\"dataframe\">\n",
       "    <thead>\n",
       "        <tr>\n",
       "            <th>Year</th> <th>Declared</th> <th>Undeclared</th>\n",
       "        </tr>\n",
       "    </thead>\n",
       "    <tbody>\n",
       "        <tr>\n",
       "            <td>Second</td> <td>30      </td> <td>30        </td>\n",
       "        </tr>\n",
       "        <tr>\n",
       "            <td>Third </td> <td>32      </td> <td>8         </td>\n",
       "        </tr>\n",
       "    </tbody>\n",
       "</table>"
      ],
      "text/plain": [
       "Year   | Declared | Undeclared\n",
       "Second | 30       | 30\n",
       "Third  | 32       | 8"
      ]
     },
     "execution_count": 9,
     "metadata": {},
     "output_type": "execute_result"
    }
   ],
   "source": [
    "students.pivot('Major', 'Year')"
   ]
  },
  {
   "cell_type": "markdown",
   "id": "be10740f-fbe0-45e7-bcbe-1ac9b71b88ee",
   "metadata": {},
   "source": [
    "Given that the person is declared, which person is more likely?"
   ]
  },
  {
   "cell_type": "markdown",
   "id": "79fb5c40-a6ac-4562-afee-b2d3f8ac9487",
   "metadata": {},
   "source": [
    "$\\mathbb{P}(\\text{Third|Declared}) = \\frac{32}{62}$"
   ]
  },
  {
   "cell_type": "code",
   "execution_count": 13,
   "id": "45f069e0-23ff-411d-ba88-61895188fb4a",
   "metadata": {},
   "outputs": [
    {
     "data": {
      "text/plain": [
       "0.5161290322580645"
      ]
     },
     "execution_count": 13,
     "metadata": {},
     "output_type": "execute_result"
    }
   ],
   "source": [
    "32/62"
   ]
  },
  {
   "cell_type": "markdown",
   "id": "a4ec2c73-d885-4a9b-97a1-20690aa3224a",
   "metadata": {},
   "source": [
    "$\\mathbb{P}({\\text{Second|Declared}}) = \\frac{30}{62}$"
   ]
  },
  {
   "cell_type": "code",
   "execution_count": 14,
   "id": "a4ab5f88-c057-40ff-861d-45ff3979dc0d",
   "metadata": {},
   "outputs": [
    {
     "data": {
      "text/plain": [
       "0.4838709677419355"
      ]
     },
     "execution_count": 14,
     "metadata": {},
     "output_type": "execute_result"
    }
   ],
   "source": [
    "30/62"
   ]
  },
  {
   "cell_type": "markdown",
   "id": "6a5ccdb7-b934-49ed-8381-da79d2e5c419",
   "metadata": {},
   "source": [
    "### Here's a second scenario (Doctors and clinical tests)"
   ]
  },
  {
   "cell_type": "markdown",
   "id": "0edaf3a6-d5bd-44a8-85a5-e2b3e6519f5a",
   "metadata": {},
   "source": [
    "Create a population where the rate of prevalence is $\\frac{1}{1000}$ and with size 1000. The function actually makes the dataset and then creates the pivot table for us."
   ]
  },
  {
   "cell_type": "markdown",
   "id": "f156999d-bc5e-4966-8156-aa476ca257d3",
   "metadata": {},
   "source": [
    "**Challenge Question**: What are the dimensions (rows and columns) of the dataset from which the pivot table was created?"
   ]
  },
  {
   "cell_type": "code",
   "execution_count": 11,
   "id": "68954051-589c-4974-95e4-bfb697e3629f",
   "metadata": {},
   "outputs": [
    {
     "data": {
      "text/html": [
       "<table border=\"1\" class=\"dataframe\">\n",
       "    <thead>\n",
       "        <tr>\n",
       "            <th>Status</th> <th>Test +</th> <th>Test -</th>\n",
       "        </tr>\n",
       "    </thead>\n",
       "    <tbody>\n",
       "        <tr>\n",
       "            <td>Disease   </td> <td>10    </td> <td>0     </td>\n",
       "        </tr>\n",
       "        <tr>\n",
       "            <td>No disease</td> <td>500   </td> <td>9490  </td>\n",
       "        </tr>\n",
       "    </tbody>\n",
       "</table>"
      ],
      "text/plain": [
       "Status     | Test + | Test -\n",
       "Disease    | 10     | 0\n",
       "No disease | 500    | 9490"
      ]
     },
     "execution_count": 11,
     "metadata": {},
     "output_type": "execute_result"
    }
   ],
   "source": [
    "create_population(1/1000, 10000)"
   ]
  },
  {
   "cell_type": "markdown",
   "id": "9ca9bd83-a0c4-4ccd-8de3-ed639ce67b81",
   "metadata": {},
   "source": [
    "The probability we calculated, $\\mathbb{P}(\\text{Disease|Test +})$, is $\\frac{10}{500}$"
   ]
  },
  {
   "cell_type": "code",
   "execution_count": 12,
   "id": "64ca94e5-27d9-4297-bcb9-6e64fae85039",
   "metadata": {},
   "outputs": [
    {
     "data": {
      "text/plain": [
       "0.02"
      ]
     },
     "execution_count": 12,
     "metadata": {},
     "output_type": "execute_result"
    }
   ],
   "source": [
    "10/500"
   ]
  },
  {
   "cell_type": "markdown",
   "id": "ed09be0a-cef4-4a24-ae68-94a3edbf23b3",
   "metadata": {},
   "source": [
    "### Changing the prior can change our classification"
   ]
  },
  {
   "cell_type": "markdown",
   "id": "814a1137-d53b-4583-b727-b48f10ec83da",
   "metadata": {},
   "source": [
    "$$\\mathbb{P}(\\text{Disease|Test +}) = \\frac{\\mathbb{P}(\\text{Test +|Disease})}{\\mathbb{P}(\\text{Test +|Disease}) + \\mathbb{P}(\\text{Test +|No Disease})}$$"
   ]
  },
  {
   "cell_type": "markdown",
   "id": "647e00af-4cd1-4e94-8d81-02a161679f5d",
   "metadata": {},
   "source": [
    "#### \"Assume a patient is selected at random\""
   ]
  },
  {
   "cell_type": "code",
   "execution_count": 34,
   "id": "5cda02ce-9912-4b05-9e95-f9ef6ea6ffed",
   "metadata": {},
   "outputs": [
    {
     "data": {
      "text/plain": [
       "0.019627085377821395"
      ]
     },
     "execution_count": 34,
     "metadata": {},
     "output_type": "execute_result"
    }
   ],
   "source": [
    "(0.001 * 1) / (0.001*1 + 0.999*0.05)"
   ]
  },
  {
   "cell_type": "code",
   "execution_count": 17,
   "id": "919861dc-1475-4f53-8c8b-75ead15fff7f",
   "metadata": {},
   "outputs": [],
   "source": [
    "random_selection_prior = 1/1000"
   ]
  },
  {
   "cell_type": "code",
   "execution_count": 21,
   "id": "db9b14a5-e8a1-439c-9b4f-3dcf79729b7e",
   "metadata": {},
   "outputs": [
    {
     "data": {
      "text/plain": [
       "0.019627085377821395"
      ]
     },
     "execution_count": 21,
     "metadata": {},
     "output_type": "execute_result"
    }
   ],
   "source": [
    "(random_selection_prior * 1) / (random_selection_prior*1 + (1-random_selection_prior)*0.05)"
   ]
  },
  {
   "cell_type": "code",
   "execution_count": 25,
   "id": "178b79c9-6887-4f66-a8ff-3f1d1a10ea35",
   "metadata": {},
   "outputs": [
    {
     "data": {
      "text/html": [
       "<table border=\"1\" class=\"dataframe\">\n",
       "    <thead>\n",
       "        <tr>\n",
       "            <th>Status</th> <th>Test +</th> <th>Test -</th>\n",
       "        </tr>\n",
       "    </thead>\n",
       "    <tbody>\n",
       "        <tr>\n",
       "            <td>Disease   </td> <td>10    </td> <td>0     </td>\n",
       "        </tr>\n",
       "        <tr>\n",
       "            <td>No disease</td> <td>500   </td> <td>9490  </td>\n",
       "        </tr>\n",
       "    </tbody>\n",
       "</table>"
      ],
      "text/plain": [
       "Status     | Test + | Test -\n",
       "Disease    | 10     | 0\n",
       "No disease | 500    | 9490"
      ]
     },
     "execution_count": 25,
     "metadata": {},
     "output_type": "execute_result"
    }
   ],
   "source": [
    "create_population(random_selection_prior, 10000)"
   ]
  },
  {
   "cell_type": "code",
   "execution_count": 24,
   "id": "4ea90f1b-79ec-4d5c-841d-8fb2fa7ccf67",
   "metadata": {},
   "outputs": [
    {
     "data": {
      "text/plain": [
       "0.02"
      ]
     },
     "execution_count": 24,
     "metadata": {},
     "output_type": "execute_result"
    }
   ],
   "source": [
    "10/500"
   ]
  },
  {
   "cell_type": "markdown",
   "id": "bedc97b7-ca50-4025-a999-d7be42a8fad6",
   "metadata": {},
   "source": [
    "#### One doctor's prior"
   ]
  },
  {
   "cell_type": "code",
   "execution_count": 26,
   "id": "6276f7e8-d5d4-434a-a3f1-c75f8f0c6f7d",
   "metadata": {},
   "outputs": [],
   "source": [
    "one_doctors_prior = 100/1000"
   ]
  },
  {
   "cell_type": "code",
   "execution_count": 27,
   "id": "aa51f1c5-2e27-4467-89d6-d946bd411e77",
   "metadata": {},
   "outputs": [
    {
     "data": {
      "text/plain": [
       "0.689655172413793"
      ]
     },
     "execution_count": 27,
     "metadata": {},
     "output_type": "execute_result"
    }
   ],
   "source": [
    "(one_doctors_prior * 1) / (one_doctors_prior*1 + (1-one_doctors_prior)*0.05)"
   ]
  },
  {
   "cell_type": "code",
   "execution_count": 28,
   "id": "f3234a59-1e7c-435f-bd00-e32d32b0e0af",
   "metadata": {},
   "outputs": [
    {
     "data": {
      "text/html": [
       "<table border=\"1\" class=\"dataframe\">\n",
       "    <thead>\n",
       "        <tr>\n",
       "            <th>Status</th> <th>Test +</th> <th>Test -</th>\n",
       "        </tr>\n",
       "    </thead>\n",
       "    <tbody>\n",
       "        <tr>\n",
       "            <td>Disease   </td> <td>1000  </td> <td>0     </td>\n",
       "        </tr>\n",
       "        <tr>\n",
       "            <td>No disease</td> <td>450   </td> <td>8550  </td>\n",
       "        </tr>\n",
       "    </tbody>\n",
       "</table>"
      ],
      "text/plain": [
       "Status     | Test + | Test -\n",
       "Disease    | 1000   | 0\n",
       "No disease | 450    | 8550"
      ]
     },
     "execution_count": 28,
     "metadata": {},
     "output_type": "execute_result"
    }
   ],
   "source": [
    "create_population(one_doctors_prior, 10000)"
   ]
  },
  {
   "cell_type": "code",
   "execution_count": 29,
   "id": "d2a05f7d-3fd9-42a1-acb5-dbf668239f69",
   "metadata": {},
   "outputs": [
    {
     "data": {
      "text/plain": [
       "0.6896551724137931"
      ]
     },
     "execution_count": 29,
     "metadata": {},
     "output_type": "execute_result"
    }
   ],
   "source": [
    "1000/1450"
   ]
  },
  {
   "cell_type": "markdown",
   "id": "cd07e5bb-db63-4284-bce4-6282d4b9e2a3",
   "metadata": {},
   "source": [
    "#### Another doctor's prior"
   ]
  },
  {
   "cell_type": "code",
   "execution_count": 30,
   "id": "f95a327d-ea5a-43b5-8d1d-a46b8b0d221e",
   "metadata": {},
   "outputs": [],
   "source": [
    "another_doctors_prior = 500/1000"
   ]
  },
  {
   "cell_type": "code",
   "execution_count": 31,
   "id": "bd30eeec-d52f-4213-8169-be3156dc8f08",
   "metadata": {},
   "outputs": [
    {
     "data": {
      "text/plain": [
       "0.9523809523809523"
      ]
     },
     "execution_count": 31,
     "metadata": {},
     "output_type": "execute_result"
    }
   ],
   "source": [
    "(another_doctors_prior * 1) / (another_doctors_prior*1 + (1-another_doctors_prior)*0.05)"
   ]
  },
  {
   "cell_type": "code",
   "execution_count": 32,
   "id": "8766148f-8856-49cb-985a-618019d3a75a",
   "metadata": {},
   "outputs": [
    {
     "data": {
      "text/html": [
       "<table border=\"1\" class=\"dataframe\">\n",
       "    <thead>\n",
       "        <tr>\n",
       "            <th>Status</th> <th>Test +</th> <th>Test -</th>\n",
       "        </tr>\n",
       "    </thead>\n",
       "    <tbody>\n",
       "        <tr>\n",
       "            <td>Disease   </td> <td>5000  </td> <td>0     </td>\n",
       "        </tr>\n",
       "        <tr>\n",
       "            <td>No disease</td> <td>250   </td> <td>4750  </td>\n",
       "        </tr>\n",
       "    </tbody>\n",
       "</table>"
      ],
      "text/plain": [
       "Status     | Test + | Test -\n",
       "Disease    | 5000   | 0\n",
       "No disease | 250    | 4750"
      ]
     },
     "execution_count": 32,
     "metadata": {},
     "output_type": "execute_result"
    }
   ],
   "source": [
    "create_population(0.5, 10000)"
   ]
  },
  {
   "cell_type": "code",
   "execution_count": 33,
   "id": "7f0a20d6-84c1-40a5-b35b-e82d9ae99791",
   "metadata": {},
   "outputs": [
    {
     "data": {
      "text/plain": [
       "0.9523809523809523"
      ]
     },
     "execution_count": 33,
     "metadata": {},
     "output_type": "execute_result"
    }
   ],
   "source": [
    "5000/5250"
   ]
  }
 ],
 "metadata": {
  "kernelspec": {
   "display_name": "Python 3 (ipykernel)",
   "language": "python",
   "name": "python3"
  },
  "language_info": {
   "codemirror_mode": {
    "name": "ipython",
    "version": 3
   },
   "file_extension": ".py",
   "mimetype": "text/x-python",
   "name": "python",
   "nbconvert_exporter": "python",
   "pygments_lexer": "ipython3",
   "version": "3.12.4"
  }
 },
 "nbformat": 4,
 "nbformat_minor": 5
}
