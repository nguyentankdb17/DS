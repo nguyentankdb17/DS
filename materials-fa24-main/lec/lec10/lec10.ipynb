{
 "cells": [
  {
   "cell_type": "code",
   "execution_count": 12,
   "id": "d9553382-f8c7-4a61-bd9c-8fe287983e8e",
   "metadata": {},
   "outputs": [],
   "source": [
    "from datascience import *\n",
    "import numpy as np\n",
    "\n",
    "%matplotlib inline\n",
    "import matplotlib.pyplot as plots\n",
    "plots.style.use('fivethirtyeight')\n",
    "import warnings\n",
    "warnings.simplefilter(action='ignore',category=np.VisibleDeprecationWarning)"
   ]
  },
  {
   "cell_type": "markdown",
   "id": "11607002-6181-4a55-bd25-9adb8e9d7a6d",
   "metadata": {},
   "source": [
    "## Review"
   ]
  },
  {
   "cell_type": "markdown",
   "id": "3135ca0b-40d9-492d-9403-a96ff5c62c83",
   "metadata": {},
   "source": [
    "From your homework: \n",
    "\n",
    "> *Below we load ... 200,000 weekday Uber rides in the ...  Boston, Massachusetts metropolitan area from the [Uber Movement](https://www.uber.com/newsroom/introducing-uber-movement-2/) project. The `sourceid` and `dstid` columns contain codes corresponding to start and end locations of each ride. The `hod` column contains codes corresponding to the hour of the day the ride took place. The `ride time` column contains the length of the ride in minutes.*"
   ]
  },
  {
   "cell_type": "code",
   "execution_count": 13,
   "id": "370104dc-a728-4e8f-afd1-fc3f7e293c6c",
   "metadata": {},
   "outputs": [
    {
     "data": {
      "text/html": [
       "<table border=\"1\" class=\"dataframe\">\n",
       "    <thead>\n",
       "        <tr>\n",
       "            <th>sourceid</th> <th>dstid</th> <th>hod</th> <th>ride time</th>\n",
       "        </tr>\n",
       "    </thead>\n",
       "    <tbody>\n",
       "        <tr>\n",
       "            <td>584     </td> <td>33   </td> <td>7   </td> <td>11.866   </td>\n",
       "        </tr>\n",
       "        <tr>\n",
       "            <td>1013    </td> <td>1116 </td> <td>13  </td> <td>17.7993  </td>\n",
       "        </tr>\n",
       "        <tr>\n",
       "            <td>884     </td> <td>1190 </td> <td>22  </td> <td>19.3488  </td>\n",
       "        </tr>\n",
       "        <tr>\n",
       "            <td>211     </td> <td>364  </td> <td>1   </td> <td>1.7235   </td>\n",
       "        </tr>\n",
       "        <tr>\n",
       "            <td>218     </td> <td>1189 </td> <td>7   </td> <td>42.5588  </td>\n",
       "        </tr>\n",
       "        <tr>\n",
       "            <td>1048    </td> <td>461  </td> <td>7   </td> <td>26.4212  </td>\n",
       "        </tr>\n",
       "    </tbody>\n",
       "</table>\n",
       "<p>... (199994 rows omitted)</p>"
      ],
      "text/plain": [
       "<IPython.core.display.HTML object>"
      ]
     },
     "metadata": {},
     "output_type": "display_data"
    }
   ],
   "source": [
    "boston = Table.read_table(\"boston.csv\")\n",
    "boston.show(6)"
   ]
  },
  {
   "cell_type": "markdown",
   "id": "4ee2d2bb-c78b-45f9-bb48-eda0beec647c",
   "metadata": {},
   "source": [
    "**Discussion Question:** I would like to add a column to this dataset giving the ride time in seconds. \n",
    "\n",
    "What is a method that makes the most sense:\n",
    "\n",
    "- If I plan to work with only the `boston` dataset?\n",
    "- If I plan to work with multiple Uber Movement datasets, such as the `manila` dataset you saw in your homework?"
   ]
  },
  {
   "cell_type": "code",
   "execution_count": 14,
   "id": "d99e9337-4ba4-4feb-aaa3-94faf7d7de72",
   "metadata": {},
   "outputs": [
    {
     "data": {
      "text/html": [
       "<table border=\"1\" class=\"dataframe\">\n",
       "    <thead>\n",
       "        <tr>\n",
       "            <th>sourceid</th> <th>dstid</th> <th>hod</th> <th>ride time</th> <th>ride time seconds</th>\n",
       "        </tr>\n",
       "    </thead>\n",
       "    <tbody>\n",
       "        <tr>\n",
       "            <td>584     </td> <td>33   </td> <td>7   </td> <td>11.866   </td> <td>711.96           </td>\n",
       "        </tr>\n",
       "        <tr>\n",
       "            <td>1013    </td> <td>1116 </td> <td>13  </td> <td>17.7993  </td> <td>1067.96          </td>\n",
       "        </tr>\n",
       "        <tr>\n",
       "            <td>884     </td> <td>1190 </td> <td>22  </td> <td>19.3488  </td> <td>1160.93          </td>\n",
       "        </tr>\n",
       "        <tr>\n",
       "            <td>211     </td> <td>364  </td> <td>1   </td> <td>1.7235   </td> <td>103.41           </td>\n",
       "        </tr>\n",
       "        <tr>\n",
       "            <td>218     </td> <td>1189 </td> <td>7   </td> <td>42.5588  </td> <td>2553.53          </td>\n",
       "        </tr>\n",
       "        <tr>\n",
       "            <td>1048    </td> <td>461  </td> <td>7   </td> <td>26.4212  </td> <td>1585.27          </td>\n",
       "        </tr>\n",
       "        <tr>\n",
       "            <td>879     </td> <td>461  </td> <td>11  </td> <td>23.7743  </td> <td>1426.46          </td>\n",
       "        </tr>\n",
       "        <tr>\n",
       "            <td>1047    </td> <td>1002 </td> <td>17  </td> <td>36.3583  </td> <td>2181.5           </td>\n",
       "        </tr>\n",
       "        <tr>\n",
       "            <td>930     </td> <td>856  </td> <td>6   </td> <td>16.6407  </td> <td>998.44           </td>\n",
       "        </tr>\n",
       "        <tr>\n",
       "            <td>1110    </td> <td>875  </td> <td>22  </td> <td>17.3533  </td> <td>1041.2           </td>\n",
       "        </tr>\n",
       "    </tbody>\n",
       "</table>\n",
       "<p>... (199990 rows omitted)</p>"
      ],
      "text/plain": [
       "sourceid | dstid | hod  | ride time | ride time seconds\n",
       "584      | 33    | 7    | 11.866    | 711.96\n",
       "1013     | 1116  | 13   | 17.7993   | 1067.96\n",
       "884      | 1190  | 22   | 19.3488   | 1160.93\n",
       "211      | 364   | 1    | 1.7235    | 103.41\n",
       "218      | 1189  | 7    | 42.5588   | 2553.53\n",
       "1048     | 461   | 7    | 26.4212   | 1585.27\n",
       "879      | 461   | 11   | 23.7743   | 1426.46\n",
       "1047     | 1002  | 17   | 36.3583   | 2181.5\n",
       "930      | 856   | 6    | 16.6407   | 998.44\n",
       "1110     | 875   | 22   | 17.3533   | 1041.2\n",
       "... (199990 rows omitted)"
      ]
     },
     "execution_count": 14,
     "metadata": {},
     "output_type": "execute_result"
    }
   ],
   "source": [
    "boston.with_columns('ride time seconds', boston.column('ride time')*60)"
   ]
  },
  {
   "cell_type": "code",
   "execution_count": 15,
   "id": "1c969bbf-b838-4448-821b-c8fec10bbcb2",
   "metadata": {},
   "outputs": [],
   "source": [
    "def mins_to_seconds(times):\n",
    "    return times*60"
   ]
  },
  {
   "cell_type": "code",
   "execution_count": 16,
   "id": "c600344d-7b73-4e95-9b05-b0dedf4f6217",
   "metadata": {},
   "outputs": [
    {
     "data": {
      "text/html": [
       "<table border=\"1\" class=\"dataframe\">\n",
       "    <thead>\n",
       "        <tr>\n",
       "            <th>sourceid</th> <th>dstid</th> <th>hod</th> <th>ride time</th> <th>ride time seconds</th>\n",
       "        </tr>\n",
       "    </thead>\n",
       "    <tbody>\n",
       "        <tr>\n",
       "            <td>584     </td> <td>33   </td> <td>7   </td> <td>11.866   </td> <td>711.96           </td>\n",
       "        </tr>\n",
       "        <tr>\n",
       "            <td>1013    </td> <td>1116 </td> <td>13  </td> <td>17.7993  </td> <td>1067.96          </td>\n",
       "        </tr>\n",
       "        <tr>\n",
       "            <td>884     </td> <td>1190 </td> <td>22  </td> <td>19.3488  </td> <td>1160.93          </td>\n",
       "        </tr>\n",
       "        <tr>\n",
       "            <td>211     </td> <td>364  </td> <td>1   </td> <td>1.7235   </td> <td>103.41           </td>\n",
       "        </tr>\n",
       "        <tr>\n",
       "            <td>218     </td> <td>1189 </td> <td>7   </td> <td>42.5588  </td> <td>2553.53          </td>\n",
       "        </tr>\n",
       "        <tr>\n",
       "            <td>1048    </td> <td>461  </td> <td>7   </td> <td>26.4212  </td> <td>1585.27          </td>\n",
       "        </tr>\n",
       "        <tr>\n",
       "            <td>879     </td> <td>461  </td> <td>11  </td> <td>23.7743  </td> <td>1426.46          </td>\n",
       "        </tr>\n",
       "        <tr>\n",
       "            <td>1047    </td> <td>1002 </td> <td>17  </td> <td>36.3583  </td> <td>2181.5           </td>\n",
       "        </tr>\n",
       "        <tr>\n",
       "            <td>930     </td> <td>856  </td> <td>6   </td> <td>16.6407  </td> <td>998.44           </td>\n",
       "        </tr>\n",
       "        <tr>\n",
       "            <td>1110    </td> <td>875  </td> <td>22  </td> <td>17.3533  </td> <td>1041.2           </td>\n",
       "        </tr>\n",
       "    </tbody>\n",
       "</table>\n",
       "<p>... (199990 rows omitted)</p>"
      ],
      "text/plain": [
       "sourceid | dstid | hod  | ride time | ride time seconds\n",
       "584      | 33    | 7    | 11.866    | 711.96\n",
       "1013     | 1116  | 13   | 17.7993   | 1067.96\n",
       "884      | 1190  | 22   | 19.3488   | 1160.93\n",
       "211      | 364   | 1    | 1.7235    | 103.41\n",
       "218      | 1189  | 7    | 42.5588   | 2553.53\n",
       "1048     | 461   | 7    | 26.4212   | 1585.27\n",
       "879      | 461   | 11   | 23.7743   | 1426.46\n",
       "1047     | 1002  | 17   | 36.3583   | 2181.5\n",
       "930      | 856   | 6    | 16.6407   | 998.44\n",
       "1110     | 875   | 22   | 17.3533   | 1041.2\n",
       "... (199990 rows omitted)"
      ]
     },
     "execution_count": 16,
     "metadata": {},
     "output_type": "execute_result"
    }
   ],
   "source": [
    "boston.with_columns('ride time seconds', boston.apply(mins_to_seconds,'ride time'))"
   ]
  },
  {
   "cell_type": "code",
   "execution_count": 11,
   "id": "c4b3ff3e-cac8-4de8-9cc4-f3bab0fab75a",
   "metadata": {},
   "outputs": [
    {
     "ename": "ValueError",
     "evalue": "label \"boston\" not in labels ('sourceid', 'dstid', 'hod', 'ride time')",
     "output_type": "error",
     "traceback": [
      "\u001b[0;31m---------------------------------------------------------------------------\u001b[0m",
      "\u001b[0;31mValueError\u001b[0m                                Traceback (most recent call last)",
      "Cell \u001b[0;32mIn[11], line 1\u001b[0m\n\u001b[0;32m----> 1\u001b[0m boston\u001b[38;5;241m.\u001b[39mwhere(\u001b[38;5;124m'\u001b[39m\u001b[38;5;124mboston\u001b[39m\u001b[38;5;124m'\u001b[39m, \u001b[38;5;124m'\u001b[39m\u001b[38;5;124mride time\u001b[39m\u001b[38;5;124m'\u001b[39m)\n",
      "File \u001b[0;32m/opt/anaconda3/lib/python3.12/site-packages/datascience/tables.py:1404\u001b[0m, in \u001b[0;36mTable.where\u001b[0;34m(self, column_or_label, value_or_predicate, other)\u001b[0m\n\u001b[1;32m   1322\u001b[0m \u001b[38;5;28;01mdef\u001b[39;00m \u001b[38;5;21mwhere\u001b[39m(\u001b[38;5;28mself\u001b[39m, column_or_label, value_or_predicate\u001b[38;5;241m=\u001b[39m\u001b[38;5;28;01mNone\u001b[39;00m, other\u001b[38;5;241m=\u001b[39m\u001b[38;5;28;01mNone\u001b[39;00m):\n\u001b[1;32m   1323\u001b[0m \u001b[38;5;250m    \u001b[39m\u001b[38;5;124;03m\"\"\"\u001b[39;00m\n\u001b[1;32m   1324\u001b[0m \u001b[38;5;124;03m    Return a new ``Table`` containing rows where ``value_or_predicate``\u001b[39;00m\n\u001b[1;32m   1325\u001b[0m \u001b[38;5;124;03m    returns True for values in ``column_or_label``.\u001b[39;00m\n\u001b[0;32m   (...)\u001b[0m\n\u001b[1;32m   1402\u001b[0m \u001b[38;5;124;03m    Color | Shape | Amount | Price\u001b[39;00m\n\u001b[1;32m   1403\u001b[0m \u001b[38;5;124;03m    \"\"\"\u001b[39;00m\n\u001b[0;32m-> 1404\u001b[0m     column \u001b[38;5;241m=\u001b[39m \u001b[38;5;28mself\u001b[39m\u001b[38;5;241m.\u001b[39m_get_column(column_or_label)\n\u001b[1;32m   1405\u001b[0m     \u001b[38;5;28;01mif\u001b[39;00m other \u001b[38;5;129;01mis\u001b[39;00m \u001b[38;5;129;01mnot\u001b[39;00m \u001b[38;5;28;01mNone\u001b[39;00m:\n\u001b[1;32m   1406\u001b[0m         \u001b[38;5;28;01massert\u001b[39;00m \u001b[38;5;28mcallable\u001b[39m(value_or_predicate), \u001b[38;5;124m\"\u001b[39m\u001b[38;5;124mPredicate required for 3-arg where\u001b[39m\u001b[38;5;124m\"\u001b[39m\n",
      "File \u001b[0;32m/opt/anaconda3/lib/python3.12/site-packages/datascience/tables.py:2209\u001b[0m, in \u001b[0;36mTable._get_column\u001b[0;34m(self, column_or_label)\u001b[0m\n\u001b[1;32m   2207\u001b[0m     \u001b[38;5;28;01mreturn\u001b[39;00m \u001b[38;5;28mself\u001b[39m[c]\n\u001b[1;32m   2208\u001b[0m \u001b[38;5;28;01melif\u001b[39;00m \u001b[38;5;28misinstance\u001b[39m(c, \u001b[38;5;28mstr\u001b[39m):\n\u001b[0;32m-> 2209\u001b[0m     \u001b[38;5;28;01mraise\u001b[39;00m \u001b[38;5;167;01mValueError\u001b[39;00m(\u001b[38;5;124m'\u001b[39m\u001b[38;5;124mlabel \u001b[39m\u001b[38;5;124m\"\u001b[39m\u001b[38;5;132;01m{}\u001b[39;00m\u001b[38;5;124m\"\u001b[39m\u001b[38;5;124m not in labels \u001b[39m\u001b[38;5;132;01m{}\u001b[39;00m\u001b[38;5;124m'\u001b[39m\u001b[38;5;241m.\u001b[39mformat(c, \u001b[38;5;28mself\u001b[39m\u001b[38;5;241m.\u001b[39mlabels))\n\u001b[1;32m   2210\u001b[0m \u001b[38;5;28;01melse\u001b[39;00m:\n\u001b[1;32m   2211\u001b[0m     \u001b[38;5;28;01massert\u001b[39;00m \u001b[38;5;28mlen\u001b[39m(c) \u001b[38;5;241m==\u001b[39m \u001b[38;5;28mself\u001b[39m\u001b[38;5;241m.\u001b[39mnum_rows, \u001b[38;5;124m'\u001b[39m\u001b[38;5;124mcolumn length mismatch\u001b[39m\u001b[38;5;124m'\u001b[39m\n",
      "\u001b[0;31mValueError\u001b[0m: label \"boston\" not in labels ('sourceid', 'dstid', 'hod', 'ride time')"
     ]
    }
   ],
   "source": [
    "boston.where('boston', 'ride time')"
   ]
  },
  {
   "cell_type": "markdown",
   "id": "f1d1e391-69ee-43e2-b20e-eee25c926811",
   "metadata": {},
   "source": [
    "## New material"
   ]
  },
  {
   "cell_type": "markdown",
   "id": "2ea5711f-040a-46ca-9905-c57df582aae8",
   "metadata": {},
   "source": [
    "### One-column groups"
   ]
  },
  {
   "cell_type": "code",
   "execution_count": 17,
   "id": "8fc1ea34-1c38-41c2-8096-ab1d612f3eef",
   "metadata": {},
   "outputs": [],
   "source": [
    "cones = Table.read_table('cones.csv')\n",
    "cones_without_color = cones.drop('Color') "
   ]
  },
  {
   "cell_type": "code",
   "execution_count": 18,
   "id": "6239ad87-942e-482a-92be-c393dfbe241f",
   "metadata": {},
   "outputs": [
    {
     "data": {
      "text/html": [
       "<table border=\"1\" class=\"dataframe\">\n",
       "    <thead>\n",
       "        <tr>\n",
       "            <th>Flavor</th> <th>Price</th>\n",
       "        </tr>\n",
       "    </thead>\n",
       "    <tbody>\n",
       "        <tr>\n",
       "            <td>strawberry</td> <td>3.55 </td>\n",
       "        </tr>\n",
       "        <tr>\n",
       "            <td>chocolate </td> <td>4.75 </td>\n",
       "        </tr>\n",
       "        <tr>\n",
       "            <td>chocolate </td> <td>5.25 </td>\n",
       "        </tr>\n",
       "        <tr>\n",
       "            <td>strawberry</td> <td>5.25 </td>\n",
       "        </tr>\n",
       "        <tr>\n",
       "            <td>chocolate </td> <td>5.25 </td>\n",
       "        </tr>\n",
       "        <tr>\n",
       "            <td>bubblegum </td> <td>4.75 </td>\n",
       "        </tr>\n",
       "    </tbody>\n",
       "</table>"
      ],
      "text/plain": [
       "Flavor     | Price\n",
       "strawberry | 3.55\n",
       "chocolate  | 4.75\n",
       "chocolate  | 5.25\n",
       "strawberry | 5.25\n",
       "chocolate  | 5.25\n",
       "bubblegum  | 4.75"
      ]
     },
     "execution_count": 18,
     "metadata": {},
     "output_type": "execute_result"
    }
   ],
   "source": [
    "cones_without_color"
   ]
  },
  {
   "cell_type": "code",
   "execution_count": 20,
   "id": "410e4ab2-99d3-4e96-b2bd-b510d6ebeea7",
   "metadata": {},
   "outputs": [
    {
     "data": {
      "text/html": [
       "<table border=\"1\" class=\"dataframe\">\n",
       "    <thead>\n",
       "        <tr>\n",
       "            <th>Flavor</th> <th>Price</th>\n",
       "        </tr>\n",
       "    </thead>\n",
       "    <tbody>\n",
       "        <tr>\n",
       "            <td>strawberry</td> <td>3.55 </td>\n",
       "        </tr>\n",
       "        <tr>\n",
       "            <td>chocolate </td> <td>4.75 </td>\n",
       "        </tr>\n",
       "        <tr>\n",
       "            <td>chocolate </td> <td>5.25 </td>\n",
       "        </tr>\n",
       "        <tr>\n",
       "            <td>strawberry</td> <td>5.25 </td>\n",
       "        </tr>\n",
       "        <tr>\n",
       "            <td>chocolate </td> <td>5.25 </td>\n",
       "        </tr>\n",
       "        <tr>\n",
       "            <td>bubblegum </td> <td>4.75 </td>\n",
       "        </tr>\n",
       "    </tbody>\n",
       "</table>"
      ],
      "text/plain": [
       "Flavor     | Price\n",
       "strawberry | 3.55\n",
       "chocolate  | 4.75\n",
       "chocolate  | 5.25\n",
       "strawberry | 5.25\n",
       "chocolate  | 5.25\n",
       "bubblegum  | 4.75"
      ]
     },
     "execution_count": 20,
     "metadata": {},
     "output_type": "execute_result"
    }
   ],
   "source": [
    "cones_without_color"
   ]
  },
  {
   "cell_type": "code",
   "execution_count": 26,
   "id": "34b8583d-5506-41af-b736-81560bc33cce",
   "metadata": {},
   "outputs": [
    {
     "data": {
      "text/html": [
       "<table border=\"1\" class=\"dataframe\">\n",
       "    <thead>\n",
       "        <tr>\n",
       "            <th>Flavor</th> <th>Price average</th>\n",
       "        </tr>\n",
       "    </thead>\n",
       "    <tbody>\n",
       "        <tr>\n",
       "            <td>bubblegum </td> <td>4.75         </td>\n",
       "        </tr>\n",
       "        <tr>\n",
       "            <td>chocolate </td> <td>5.08333      </td>\n",
       "        </tr>\n",
       "        <tr>\n",
       "            <td>strawberry</td> <td>4.4          </td>\n",
       "        </tr>\n",
       "    </tbody>\n",
       "</table>"
      ],
      "text/plain": [
       "Flavor     | Price average\n",
       "bubblegum  | 4.75\n",
       "chocolate  | 5.08333\n",
       "strawberry | 4.4"
      ]
     },
     "execution_count": 26,
     "metadata": {},
     "output_type": "execute_result"
    }
   ],
   "source": [
    "cones_without_color.group('Flavor', np.average)"
   ]
  },
  {
   "cell_type": "markdown",
   "id": "1a5ec44e-c578-44ed-af5a-1a161212fc9d",
   "metadata": {},
   "source": [
    "### Two-column groups"
   ]
  },
  {
   "cell_type": "code",
   "execution_count": 28,
   "id": "dd5700e1-ea78-4253-8ba2-880152a76f75",
   "metadata": {},
   "outputs": [
    {
     "data": {
      "text/html": [
       "<table border=\"1\" class=\"dataframe\">\n",
       "    <thead>\n",
       "        <tr>\n",
       "            <th>Flavor</th> <th>Color</th> <th>Price</th>\n",
       "        </tr>\n",
       "    </thead>\n",
       "    <tbody>\n",
       "        <tr>\n",
       "            <td>strawberry</td> <td>pink       </td> <td>3.55 </td>\n",
       "        </tr>\n",
       "        <tr>\n",
       "            <td>chocolate </td> <td>light brown</td> <td>4.75 </td>\n",
       "        </tr>\n",
       "        <tr>\n",
       "            <td>chocolate </td> <td>dark brown </td> <td>5.25 </td>\n",
       "        </tr>\n",
       "        <tr>\n",
       "            <td>strawberry</td> <td>pink       </td> <td>5.25 </td>\n",
       "        </tr>\n",
       "        <tr>\n",
       "            <td>chocolate </td> <td>dark brown </td> <td>5.25 </td>\n",
       "        </tr>\n",
       "        <tr>\n",
       "            <td>bubblegum </td> <td>pink       </td> <td>4.75 </td>\n",
       "        </tr>\n",
       "    </tbody>\n",
       "</table>"
      ],
      "text/plain": [
       "Flavor     | Color       | Price\n",
       "strawberry | pink        | 3.55\n",
       "chocolate  | light brown | 4.75\n",
       "chocolate  | dark brown  | 5.25\n",
       "strawberry | pink        | 5.25\n",
       "chocolate  | dark brown  | 5.25\n",
       "bubblegum  | pink        | 4.75"
      ]
     },
     "execution_count": 28,
     "metadata": {},
     "output_type": "execute_result"
    }
   ],
   "source": [
    "cones"
   ]
  },
  {
   "cell_type": "code",
   "execution_count": 29,
   "id": "c37d2afa-8717-4a7f-859a-1a10037e35cc",
   "metadata": {},
   "outputs": [
    {
     "data": {
      "text/html": [
       "<table border=\"1\" class=\"dataframe\">\n",
       "    <thead>\n",
       "        <tr>\n",
       "            <th>Flavor</th> <th>Color</th> <th>Price average</th>\n",
       "        </tr>\n",
       "    </thead>\n",
       "    <tbody>\n",
       "        <tr>\n",
       "            <td>bubblegum </td> <td>pink       </td> <td>4.75         </td>\n",
       "        </tr>\n",
       "        <tr>\n",
       "            <td>chocolate </td> <td>dark brown </td> <td>5.25         </td>\n",
       "        </tr>\n",
       "        <tr>\n",
       "            <td>chocolate </td> <td>light brown</td> <td>4.75         </td>\n",
       "        </tr>\n",
       "        <tr>\n",
       "            <td>strawberry</td> <td>pink       </td> <td>4.4          </td>\n",
       "        </tr>\n",
       "    </tbody>\n",
       "</table>"
      ],
      "text/plain": [
       "Flavor     | Color       | Price average\n",
       "bubblegum  | pink        | 4.75\n",
       "chocolate  | dark brown  | 5.25\n",
       "chocolate  | light brown | 4.75\n",
       "strawberry | pink        | 4.4"
      ]
     },
     "execution_count": 29,
     "metadata": {},
     "output_type": "execute_result"
    }
   ],
   "source": [
    "cones.group(['Flavor','Color'],np.average)"
   ]
  },
  {
   "cell_type": "code",
   "execution_count": 31,
   "id": "046222cf-8f8d-41e5-af30-e3840e57b98c",
   "metadata": {},
   "outputs": [
    {
     "data": {
      "text/html": [
       "<table border=\"1\" class=\"dataframe\">\n",
       "    <thead>\n",
       "        <tr>\n",
       "            <th>Flavor</th> <th>Color</th> <th>Price min</th>\n",
       "        </tr>\n",
       "    </thead>\n",
       "    <tbody>\n",
       "        <tr>\n",
       "            <td>bubblegum </td> <td>pink       </td> <td>4.75     </td>\n",
       "        </tr>\n",
       "        <tr>\n",
       "            <td>chocolate </td> <td>dark brown </td> <td>5.25     </td>\n",
       "        </tr>\n",
       "        <tr>\n",
       "            <td>chocolate </td> <td>light brown</td> <td>4.75     </td>\n",
       "        </tr>\n",
       "        <tr>\n",
       "            <td>strawberry</td> <td>pink       </td> <td>3.55     </td>\n",
       "        </tr>\n",
       "    </tbody>\n",
       "</table>"
      ],
      "text/plain": [
       "Flavor     | Color       | Price min\n",
       "bubblegum  | pink        | 4.75\n",
       "chocolate  | dark brown  | 5.25\n",
       "chocolate  | light brown | 4.75\n",
       "strawberry | pink        | 3.55"
      ]
     },
     "execution_count": 31,
     "metadata": {},
     "output_type": "execute_result"
    }
   ],
   "source": [
    "cones.group(['Flavor','Color'], min)"
   ]
  },
  {
   "cell_type": "markdown",
   "id": "d2ecc0c7-1e10-47fc-9498-0d10185a8cc0",
   "metadata": {},
   "source": [
    "### `nba_salaries` dataset"
   ]
  },
  {
   "cell_type": "code",
   "execution_count": 33,
   "id": "36941151-b104-49d7-be5f-e13071332041",
   "metadata": {},
   "outputs": [
    {
     "data": {
      "text/html": [
       "<table border=\"1\" class=\"dataframe\">\n",
       "    <thead>\n",
       "        <tr>\n",
       "            <th>rank</th> <th>name</th> <th>position</th> <th>team</th> <th>salary</th> <th>season</th>\n",
       "        </tr>\n",
       "    </thead>\n",
       "    <tbody>\n",
       "        <tr>\n",
       "            <td>1   </td> <td>Shaquille O'Neal</td> <td>C       </td> <td>Los Angeles Lakers    </td> <td>17142000</td> <td>2000  </td>\n",
       "        </tr>\n",
       "        <tr>\n",
       "            <td>2   </td> <td>Kevin Garnett   </td> <td>PF      </td> <td>Minnesota Timberwolves</td> <td>16806000</td> <td>2000  </td>\n",
       "        </tr>\n",
       "        <tr>\n",
       "            <td>3   </td> <td>Alonzo Mourning </td> <td>C       </td> <td>Miami Heat            </td> <td>15004000</td> <td>2000  </td>\n",
       "        </tr>\n",
       "        <tr>\n",
       "            <td>4   </td> <td>Juwan Howard    </td> <td>PF      </td> <td>Washington Wizards    </td> <td>15000000</td> <td>2000  </td>\n",
       "        </tr>\n",
       "        <tr>\n",
       "            <td>5   </td> <td>Scottie Pippen  </td> <td>SF      </td> <td>Portland Trail Blazers</td> <td>14795000</td> <td>2000  </td>\n",
       "        </tr>\n",
       "        <tr>\n",
       "            <td>6   </td> <td>Karl Malone     </td> <td>PF      </td> <td>Utah Jazz             </td> <td>14000000</td> <td>2000  </td>\n",
       "        </tr>\n",
       "    </tbody>\n",
       "</table>\n",
       "<p>... (9450 rows omitted)</p>"
      ],
      "text/plain": [
       "<IPython.core.display.HTML object>"
      ]
     },
     "metadata": {},
     "output_type": "display_data"
    }
   ],
   "source": [
    "nba = Table.read_table(\"nba_salaries.csv\")\n",
    "nba.show(6)"
   ]
  },
  {
   "cell_type": "markdown",
   "id": "b6609347-a059-48fe-8bf4-5bd07dddd376",
   "metadata": {},
   "source": [
    "#### **Task**: Find the five teams paying the highest average salary (in millions) in 2010.\n",
    "- Your results should be in the form of a table with 5 rows and 2 columns:\n",
    "    - One column should have the team name\n",
    "    - The other column should have the average salary for that team, in millions.\n",
    "- Challenge: Try to only use `Table.select()` or `Table.drop()` *once* in your solution. "
   ]
  },
  {
   "cell_type": "code",
   "execution_count": 39,
   "id": "279e9145-023c-4449-b691-80c45cab08c8",
   "metadata": {},
   "outputs": [
    {
     "data": {
      "text/html": [
       "<table border=\"1\" class=\"dataframe\">\n",
       "    <thead>\n",
       "        <tr>\n",
       "            <th>team</th> <th>salary average</th>\n",
       "        </tr>\n",
       "    </thead>\n",
       "    <tbody>\n",
       "        <tr>\n",
       "            <td>Atlanta Hawks      </td> <td>4.4734e+06    </td>\n",
       "        </tr>\n",
       "        <tr>\n",
       "            <td>Boston Celtics     </td> <td>5.71586e+06   </td>\n",
       "        </tr>\n",
       "        <tr>\n",
       "            <td>Brooklyn Nets      </td> <td>7.1e+06       </td>\n",
       "        </tr>\n",
       "        <tr>\n",
       "            <td>Charlotte Bobcats  </td> <td>4.44677e+06   </td>\n",
       "        </tr>\n",
       "        <tr>\n",
       "            <td>Charlotte Hornets  </td> <td>736420        </td>\n",
       "        </tr>\n",
       "        <tr>\n",
       "            <td>Chicago Bulls      </td> <td>3.47643e+06   </td>\n",
       "        </tr>\n",
       "        <tr>\n",
       "            <td>Cleveland Cavaliers</td> <td>5.41492e+06   </td>\n",
       "        </tr>\n",
       "        <tr>\n",
       "            <td>Dallas Mavericks   </td> <td>7.10886e+06   </td>\n",
       "        </tr>\n",
       "        <tr>\n",
       "            <td>Denver Nuggets     </td> <td>5.23666e+06   </td>\n",
       "        </tr>\n",
       "        <tr>\n",
       "            <td>Detroit Pistons    </td> <td>3.92461e+06   </td>\n",
       "        </tr>\n",
       "    </tbody>\n",
       "</table>\n",
       "<p>... (23 rows omitted)</p>"
      ],
      "text/plain": [
       "team                | salary average\n",
       "Atlanta Hawks       | 4.4734e+06\n",
       "Boston Celtics      | 5.71586e+06\n",
       "Brooklyn Nets       | 7.1e+06\n",
       "Charlotte Bobcats   | 4.44677e+06\n",
       "Charlotte Hornets   | 736420\n",
       "Chicago Bulls       | 3.47643e+06\n",
       "Cleveland Cavaliers | 5.41492e+06\n",
       "Dallas Mavericks    | 7.10886e+06\n",
       "Denver Nuggets      | 5.23666e+06\n",
       "Detroit Pistons     | 3.92461e+06\n",
       "... (23 rows omitted)"
      ]
     },
     "execution_count": 39,
     "metadata": {},
     "output_type": "execute_result"
    }
   ],
   "source": [
    "nba.where('season',2010).select('team','salary').group('team', np.average)"
   ]
  },
  {
   "cell_type": "code",
   "execution_count": null,
   "id": "12bd8b41-fba8-4c23-9b29-48d84ed7ed3f",
   "metadata": {},
   "outputs": [],
   "source": []
  },
  {
   "cell_type": "code",
   "execution_count": null,
   "id": "b7e23ffb-67f6-4cc0-a216-2f8b66a79321",
   "metadata": {},
   "outputs": [],
   "source": []
  },
  {
   "cell_type": "code",
   "execution_count": null,
   "id": "1566b712-4e17-48f5-8833-05503e132ba8",
   "metadata": {},
   "outputs": [],
   "source": []
  },
  {
   "cell_type": "code",
   "execution_count": null,
   "id": "fa695eb4-fdbc-4d18-8bcd-b1f9a7a27add",
   "metadata": {},
   "outputs": [],
   "source": []
  },
  {
   "cell_type": "code",
   "execution_count": null,
   "id": "690ef151-e220-4e55-8f9a-08282dc493c9",
   "metadata": {},
   "outputs": [],
   "source": []
  },
  {
   "cell_type": "code",
   "execution_count": null,
   "id": "078d5ade-80fa-4caf-9f4d-e333d0660f07",
   "metadata": {},
   "outputs": [],
   "source": []
  },
  {
   "cell_type": "code",
   "execution_count": 40,
   "id": "9c9fdca3-1ec3-4b91-870f-8d5bc578fdb7",
   "metadata": {},
   "outputs": [],
   "source": [
    "def average_in_millions(x):\n",
    "    \"\"\"finds the average of a list of numbers and divides by one million\"\"\"\n",
    "    average = np.average(x)\n",
    "    return average/1e6"
   ]
  },
  {
   "cell_type": "code",
   "execution_count": 42,
   "id": "d01837c3-ecb6-42a9-b057-1a764c10e4b7",
   "metadata": {},
   "outputs": [],
   "source": [
    "salary_table_2010 = nba.where('season', 2020).select('team', \n",
    "                                 'salary').group('team', average_in_millions)"
   ]
  },
  {
   "cell_type": "code",
   "execution_count": 44,
   "id": "9e11ded0-e163-473f-8bc6-f8f7abb06bfd",
   "metadata": {},
   "outputs": [
    {
     "data": {
      "text/html": [
       "<table border=\"1\" class=\"dataframe\">\n",
       "    <thead>\n",
       "        <tr>\n",
       "            <th>team</th> <th>salary average_in_millions</th>\n",
       "        </tr>\n",
       "    </thead>\n",
       "    <tbody>\n",
       "        <tr>\n",
       "            <td>Denver Nuggets        </td> <td>9.75706                   </td>\n",
       "        </tr>\n",
       "        <tr>\n",
       "            <td>Minnesota Timberwolves</td> <td>9.20566                   </td>\n",
       "        </tr>\n",
       "        <tr>\n",
       "            <td>Portland Trail Blazers</td> <td>8.69554                   </td>\n",
       "        </tr>\n",
       "        <tr>\n",
       "            <td>Dallas Mavericks      </td> <td>8.42969                   </td>\n",
       "        </tr>\n",
       "        <tr>\n",
       "            <td>Orlando Magic         </td> <td>8.38645                   </td>\n",
       "        </tr>\n",
       "        <tr>\n",
       "            <td>LA Clippers           </td> <td>8.20037                   </td>\n",
       "        </tr>\n",
       "    </tbody>\n",
       "</table>\n",
       "<p>... (24 rows omitted)</p>"
      ],
      "text/plain": [
       "<IPython.core.display.HTML object>"
      ]
     },
     "metadata": {},
     "output_type": "display_data"
    }
   ],
   "source": [
    "salary_table_2020.sort(1, descending=True).show(5)"
   ]
  },
  {
   "cell_type": "markdown",
   "id": "ab9ca69a-82f5-4bed-8d28-628cacb08e9e",
   "metadata": {},
   "source": [
    "______"
   ]
  },
  {
   "cell_type": "markdown",
   "id": "8e4c47a4-3575-4bb1-a232-e6996f11e15a",
   "metadata": {},
   "source": [
    "### Advanced grouping"
   ]
  },
  {
   "cell_type": "markdown",
   "id": "e4a57fd2-0a06-42ac-a598-409bbd7ecdf9",
   "metadata": {},
   "source": [
    "#### `welcome_survey` dataset"
   ]
  },
  {
   "cell_type": "code",
   "execution_count": null,
   "id": "15a8558c-7584-4e36-81fd-3c0844f43f0e",
   "metadata": {},
   "outputs": [],
   "source": [
    "survey = Table.read_table('welcome_survey_sp24.csv')\n",
    "underclassmen = make_array('First Year','Second Year', 'Third Year','Fourth Year')\n",
    "survey = survey.where('Year', are.contained_in(underclassmen))\n",
    "survey.show(5)"
   ]
  },
  {
   "cell_type": "markdown",
   "id": "f06a4789-df0e-42bd-b475-087adda69ac1",
   "metadata": {},
   "source": [
    "**Discussion Question 2**: How many rows and how many columns will the table be that is produced by the following code?"
   ]
  },
  {
   "cell_type": "code",
   "execution_count": null,
   "id": "0c0b950c-e21f-45c6-9391-49b30aeccf87",
   "metadata": {},
   "outputs": [],
   "source": [
    "survey.group('Year')"
   ]
  },
  {
   "cell_type": "markdown",
   "id": "86fc04b5-c957-42d5-9de3-a1de30e1c843",
   "metadata": {},
   "source": [
    "**Discussion Question 3**: How many rows and how many columns will the table be that is produced by the following code?"
   ]
  },
  {
   "cell_type": "code",
   "execution_count": null,
   "id": "1a8b8057-b603-4197-9f18-6356b9cfe661",
   "metadata": {},
   "outputs": [],
   "source": [
    "survey.group('Year', np.average)"
   ]
  },
  {
   "cell_type": "code",
   "execution_count": null,
   "id": "05affe08-254e-44a9-8418-3cd87192b035",
   "metadata": {},
   "outputs": [],
   "source": [
    "survey.drop('Handedness', 'Sleep position', 'Pets', 'TV').group('Year', np.average)"
   ]
  },
  {
   "cell_type": "markdown",
   "id": "b456dacc-d07b-4569-b47c-24088041b1d8",
   "metadata": {},
   "source": [
    "#### **Challenge Task (`nba` dataset)** Find the $n$ teams paying the highest average salary (in millions) in season $y$.\n",
    "- In other words, write code that will produce the table you made above, but for any given $n$ and $y$."
   ]
  },
  {
   "cell_type": "markdown",
   "id": "f69b97f0-6b60-4c10-aa0c-b0dd027e344f",
   "metadata": {},
   "source": [
    "Note that in this solution, we are calling the function `average_in_millions` inside of our `highest_paying_teams` function!!!"
   ]
  },
  {
   "cell_type": "code",
   "execution_count": 47,
   "id": "529d6942-6fb6-42b9-bec9-04b16b585d3a",
   "metadata": {},
   "outputs": [],
   "source": [
    "def highest_paying_teams(y, n):\n",
    "    \"\"\"gives a table of NBA teams with the highest average salary\"\"\"\n",
    "    salary_table = nba.where('season', y).select('team', \n",
    "                                 'salary').group('team', average_in_millions)\n",
    "    return salary_table.sort(1, descending=True).show(n)"
   ]
  },
  {
   "cell_type": "code",
   "execution_count": 48,
   "id": "2b22e786-f158-4c49-adf4-3b170767b991",
   "metadata": {},
   "outputs": [
    {
     "data": {
      "text/html": [
       "<table border=\"1\" class=\"dataframe\">\n",
       "    <thead>\n",
       "        <tr>\n",
       "            <th>team</th> <th>salary average_in_millions</th>\n",
       "        </tr>\n",
       "    </thead>\n",
       "    <tbody>\n",
       "        <tr>\n",
       "            <td>Cleveland Cavaliers  </td> <td>6.9503                    </td>\n",
       "        </tr>\n",
       "        <tr>\n",
       "            <td>Oklahoma City Thunder</td> <td>5.70945                   </td>\n",
       "        </tr>\n",
       "        <tr>\n",
       "            <td>Golden State Warriors</td> <td>5.61352                   </td>\n",
       "        </tr>\n",
       "    </tbody>\n",
       "</table>\n",
       "<p>... (27 rows omitted)</p>"
      ],
      "text/plain": [
       "<IPython.core.display.HTML object>"
      ]
     },
     "metadata": {},
     "output_type": "display_data"
    }
   ],
   "source": [
    "highest_paying_teams(2016,3)"
   ]
  }
 ],
 "metadata": {
  "kernelspec": {
   "display_name": "Python 3 (ipykernel)",
   "language": "python",
   "name": "python3"
  },
  "language_info": {
   "codemirror_mode": {
    "name": "ipython",
    "version": 3
   },
   "file_extension": ".py",
   "mimetype": "text/x-python",
   "name": "python",
   "nbconvert_exporter": "python",
   "pygments_lexer": "ipython3",
   "version": "3.12.4"
  }
 },
 "nbformat": 4,
 "nbformat_minor": 5
}
