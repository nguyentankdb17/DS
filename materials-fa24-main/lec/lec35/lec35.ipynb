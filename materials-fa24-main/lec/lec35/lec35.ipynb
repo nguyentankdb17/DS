{
 "cells": [
  {
   "cell_type": "code",
   "execution_count": null,
   "id": "802c600b-7e62-4fd6-8203-ce13ae25ddf8",
   "metadata": {},
   "outputs": [],
   "source": [
    "from datascience import *\n",
    "import numpy as np\n",
    "import matplotlib\n",
    "\n",
    "%matplotlib inline\n",
    "import matplotlib.pyplot as plt\n",
    "plt.style.use('fivethirtyeight')\n",
    "\n",
    "import warnings\n",
    "warnings.simplefilter(\"ignore\")"
   ]
  },
  {
   "cell_type": "markdown",
   "id": "9e204149-3e5e-4819-b3cc-b121488db434",
   "metadata": {},
   "source": [
    "## Review"
   ]
  },
  {
   "cell_type": "code",
   "execution_count": null,
   "id": "5e916449-5640-4498-8e4a-25034f61c6d9",
   "metadata": {},
   "outputs": [],
   "source": [
    "ckd = Table.read_table('ckd.csv').relabeled('Blood Glucose Random', 'Glucose')\n",
    "ckd.sample(3).show(3)"
   ]
  },
  {
   "cell_type": "code",
   "execution_count": null,
   "id": "f2ae5915-c8e0-4af6-80e6-4d2c6e14a530",
   "metadata": {},
   "outputs": [],
   "source": [
    "ckd = ckd.select('Hemoglobin', 'Glucose', 'Class')\n",
    "ckd.show(3)"
   ]
  },
  {
   "cell_type": "code",
   "execution_count": null,
   "id": "c56a792c-bcea-4dfd-a9c5-f402ef2c6f13",
   "metadata": {},
   "outputs": [],
   "source": [
    "ckd.sample(3).show(3)"
   ]
  },
  {
   "cell_type": "markdown",
   "id": "fd6ae311-883e-42ad-980b-d5920688f136",
   "metadata": {},
   "source": [
    "______"
   ]
  },
  {
   "cell_type": "code",
   "execution_count": null,
   "id": "b39e5034-fb7d-45ce-b01c-d09c2e1148da",
   "metadata": {},
   "outputs": [],
   "source": [
    "banknotes = Table.read_table('banknote.csv')\n",
    "banknotes.sample(6).show()"
   ]
  },
  {
   "cell_type": "markdown",
   "id": "131da81c-44f8-4d03-bcae-0f1a35500dbf",
   "metadata": {},
   "source": [
    "## New material"
   ]
  },
  {
   "cell_type": "markdown",
   "id": "fb757ea5-7cd8-4905-b400-4b3959cbac44",
   "metadata": {},
   "source": [
    "- We will work with the `ckd` dataset\n",
    "- Goal: predict an out-of-sample patient using the entire `ckd` dataset as training. Tomorrow, we will worry about splitting into train and test sets.\n",
    "\n",
    "\n",
    "Here's our example point for today."
   ]
  },
  {
   "cell_type": "code",
   "execution_count": null,
   "id": "34f298a3-e35d-41bd-8661-299d98605308",
   "metadata": {},
   "outputs": [],
   "source": [
    "alice = make_array(0,1.1)\n",
    "alice"
   ]
  },
  {
   "cell_type": "markdown",
   "id": "7dff3a39-f1bd-48a0-8d52-947d7ed5a2dc",
   "metadata": {},
   "source": [
    "### How can we find the *k*-nearest neighbors?"
   ]
  },
  {
   "cell_type": "markdown",
   "id": "d803109e-9b18-434c-be4c-4d25cc9d7469",
   "metadata": {},
   "source": [
    "___"
   ]
  },
  {
   "cell_type": "markdown",
   "id": "1bfc8e42-2408-49a9-a600-9bb122f2e29f",
   "metadata": {},
   "source": [
    "#### Detour: Rows and row objects"
   ]
  },
  {
   "cell_type": "code",
   "execution_count": null,
   "id": "d046f83a-5b4e-4242-b605-65055fde97df",
   "metadata": {},
   "outputs": [],
   "source": [
    "ckd.row(0)"
   ]
  },
  {
   "cell_type": "code",
   "execution_count": null,
   "id": "1d1be082-d294-40f9-8135-267a8be81bc4",
   "metadata": {},
   "outputs": [],
   "source": [
    "type(ckd.row(0))"
   ]
  },
  {
   "cell_type": "code",
   "execution_count": null,
   "id": "efc92391-e65d-4210-a04a-358a58f004fb",
   "metadata": {},
   "outputs": [],
   "source": [
    "ckd.row(0).item(1)"
   ]
  },
  {
   "cell_type": "code",
   "execution_count": null,
   "id": "0cbd95bb-8d76-46ef-929d-71c29d5fba49",
   "metadata": {},
   "outputs": [],
   "source": [
    "make_array(ckd.row(0))"
   ]
  },
  {
   "cell_type": "markdown",
   "id": "77e31854-d337-4968-b258-bfd49bb9130e",
   "metadata": {},
   "source": [
    "_____"
   ]
  },
  {
   "cell_type": "markdown",
   "id": "b4af23db-67e0-45e8-adde-cac5dc4e785a",
   "metadata": {},
   "source": [
    "First row in the training set:"
   ]
  },
  {
   "cell_type": "code",
   "execution_count": null,
   "id": "aecd21b3-6160-4fc1-8c72-8b6bc9760f2f",
   "metadata": {},
   "outputs": [],
   "source": [
    "patient = ckd.drop('Class').row(0)\n",
    "patient"
   ]
  },
  {
   "cell_type": "code",
   "execution_count": null,
   "id": "93609ccc-9a2e-4522-9b35-bf782ded8ca9",
   "metadata": {},
   "outputs": [],
   "source": [
    "make_array(patient)"
   ]
  },
  {
   "cell_type": "markdown",
   "id": "86db5870-e467-4965-a98e-d22e230859ac",
   "metadata": {},
   "source": [
    "#### **Task**: Let's find a distance between `alice` and the training point.\n",
    "\n",
    "$$ \\text{D} = \\sqrt{(x_0-x_1)^2 + (y_0-y_1)^2} $$"
   ]
  },
  {
   "cell_type": "code",
   "execution_count": null,
   "id": "e9e4689a-d3a0-4510-8aeb-f8ca34dd67b5",
   "metadata": {},
   "outputs": [],
   "source": [
    "(alice.item(0) - patient.item(0)) ** 2 + (alice.item(1) - patient.item(1)) ** 2 "
   ]
  },
  {
   "cell_type": "code",
   "execution_count": null,
   "id": "6d3b0f2c-aa6a-4273-a7e3-b7feb2312ef9",
   "metadata": {},
   "outputs": [],
   "source": [
    "#this is an array \n",
    "alice"
   ]
  },
  {
   "cell_type": "code",
   "execution_count": null,
   "id": "8fb5c48c-cb45-4998-895f-279b5d147059",
   "metadata": {},
   "outputs": [],
   "source": [
    "#This is an array\n",
    "make_array(patient)"
   ]
  },
  {
   "cell_type": "markdown",
   "id": "cc667451-ff63-4bd3-a856-a982ea14dd35",
   "metadata": {},
   "source": [
    "**Discussion Question** [1 min] Is there a quicker way to do the part $(x_0-x_1)^2 + (y_0-y_1)^2$?"
   ]
  },
  {
   "cell_type": "code",
   "execution_count": null,
   "id": "6331001a-96cb-49fa-9767-74c012637b27",
   "metadata": {},
   "outputs": [],
   "source": [
    "alice-make_array(patient) "
   ]
  },
  {
   "cell_type": "code",
   "execution_count": null,
   "id": "26c6ca2e-757c-4578-8f3e-93b0d49414d7",
   "metadata": {},
   "outputs": [],
   "source": [
    "(alice-make_array(patient))**2"
   ]
  },
  {
   "cell_type": "code",
   "execution_count": null,
   "id": "effa37e7-dea3-42ce-aa15-f2a7b73dfc9d",
   "metadata": {},
   "outputs": [],
   "source": [
    "np.sum((alice-make_array(patient))**2)"
   ]
  },
  {
   "cell_type": "code",
   "execution_count": null,
   "id": "5c91b357-5bd6-4f47-a904-d14497f909fe",
   "metadata": {},
   "outputs": [],
   "source": [
    "np.sum((alice-make_array(patient))**2) ** 0.5"
   ]
  },
  {
   "cell_type": "code",
   "execution_count": null,
   "id": "da5868fe-0816-487e-9588-fed9dc54b876",
   "metadata": {},
   "outputs": [],
   "source": [
    "def distance(point1, point2):\n",
    "    \"\"\"Returns the distance between point1 and point2\n",
    "    where each argument is an array \n",
    "    consisting of the coordinates of the point\"\"\"\n",
    "    return np.sum((point1-point2)**2) ** 0.5"
   ]
  },
  {
   "cell_type": "code",
   "execution_count": null,
   "id": "3bc4db08-99d7-46cd-beaf-f0693bf036ea",
   "metadata": {},
   "outputs": [],
   "source": [
    "distance(alice, make_array(patient))"
   ]
  },
  {
   "cell_type": "code",
   "execution_count": null,
   "id": "df5947e5-0dab-44af-a3a0-f8fc90532e11",
   "metadata": {},
   "outputs": [],
   "source": [
    "def distance_from_alice(row):\n",
    "    return distance(alice, make_array(row))"
   ]
  },
  {
   "cell_type": "code",
   "execution_count": null,
   "id": "efd26738-e976-433c-832a-361eeb9c948a",
   "metadata": {},
   "outputs": [],
   "source": [
    "distance_from_alice(ckd.drop('Class').row(0))                     "
   ]
  },
  {
   "cell_type": "markdown",
   "id": "25cee4c7-3f0b-4a93-a46d-2a3366825ff9",
   "metadata": {},
   "source": [
    "_______"
   ]
  },
  {
   "cell_type": "markdown",
   "id": "018389e9-310e-449b-be69-098fbf462504",
   "metadata": {},
   "source": [
    "#### **Task**: Calculate the Euclidean distance between `alice` and every point in the training set."
   ]
  },
  {
   "cell_type": "code",
   "execution_count": null,
   "id": "172627bc-785e-465b-9687-408c64d0ea3c",
   "metadata": {},
   "outputs": [],
   "source": [
    "ckd.drop('Class').show(5)"
   ]
  },
  {
   "cell_type": "markdown",
   "id": "013cd11b-ad7a-425f-90a7-e91ae6939292",
   "metadata": {},
   "source": [
    "**Discussion Question** [1 min]: What's a method we can use to help us?\n"
   ]
  },
  {
   "cell_type": "code",
   "execution_count": null,
   "id": "6bcdc66c-2360-4dad-b9f0-ca5ec2a599bb",
   "metadata": {},
   "outputs": [],
   "source": [
    "distances = ckd.drop('Class').apply(distance_from_alice)"
   ]
  },
  {
   "cell_type": "code",
   "execution_count": null,
   "id": "8468d97d-77b5-4d44-90d0-856721897f7b",
   "metadata": {},
   "outputs": [],
   "source": [
    "def all_distances(training, new_row):\n",
    "    \"\"\"Returns an array of distances\n",
    "    between each point in the training set\n",
    "    and the new point (which is a row of attributes)\"\"\"\n",
    "    attributes = training.drop('Class')\n",
    "    def distance_from_new_row(row):\n",
    "        return distance(make_array(new_row), make_array(row))\n",
    "    return attributes.apply(distance_from_new_row)"
   ]
  },
  {
   "cell_type": "code",
   "execution_count": null,
   "id": "50ca142e-4864-46aa-a4f1-4bb43b3d27a3",
   "metadata": {},
   "outputs": [],
   "source": [
    "distances = all_distances(ckd.drop('Class'), alice)"
   ]
  },
  {
   "cell_type": "markdown",
   "id": "2ed5e404-25b0-4716-bab5-6a1804b3bb43",
   "metadata": {},
   "source": [
    "______"
   ]
  },
  {
   "cell_type": "markdown",
   "id": "62f668a2-9680-449e-974f-ba94264a6677",
   "metadata": {},
   "source": [
    "#### **Task:** Augment the training data table with a column containing all the distances."
   ]
  },
  {
   "cell_type": "code",
   "execution_count": null,
   "id": "160cc654-c197-4ebe-b647-4273938f6b54",
   "metadata": {},
   "outputs": [],
   "source": [
    "ckd_with_distances = ckd.with_column('Distance from Alice', distances)"
   ]
  },
  {
   "cell_type": "code",
   "execution_count": null,
   "id": "4db165fd-7939-4c66-b77a-f0a0c2041773",
   "metadata": {},
   "outputs": [],
   "source": [
    "def table_with_distances(training, new_point):\n",
    "    \"\"\"Augments the training table \n",
    "    with a column of distances from new_point\"\"\"\n",
    "    return training.with_column('Distance', all_distances(training, new_point))"
   ]
  },
  {
   "cell_type": "code",
   "execution_count": null,
   "id": "fabc67d1-a75e-4d2a-9b9b-1cfec27b43c6",
   "metadata": {},
   "outputs": [],
   "source": [
    "table_with_distances(ckd, alice).show(3)"
   ]
  },
  {
   "cell_type": "markdown",
   "id": "47bc1603-567b-493e-a434-064df012078c",
   "metadata": {},
   "source": [
    "_______"
   ]
  },
  {
   "cell_type": "markdown",
   "id": "0b43a714-d068-4395-becf-664de0219155",
   "metadata": {},
   "source": [
    "#### **Task**: Find the 5 nearest neighbors."
   ]
  },
  {
   "cell_type": "markdown",
   "id": "c68df2ab-fa8a-4efb-874f-68dbdebd1d53",
   "metadata": {},
   "source": [
    "**Discussion Question** [1 min]: Think of two table methods that will help us return a *table* with the five nearest neighbors. "
   ]
  },
  {
   "cell_type": "code",
   "execution_count": null,
   "id": "3cb05d7b-3ac8-4ac6-80b7-84ae138e825a",
   "metadata": {},
   "outputs": [],
   "source": [
    "table_with_distances(ckd, alice).show(6)"
   ]
  },
  {
   "cell_type": "code",
   "execution_count": null,
   "id": "1f4af24d-fa02-4f66-8c57-8876c622bf0a",
   "metadata": {},
   "outputs": [],
   "source": [
    "ckd_with_distances.sort('Distance from Alice')"
   ]
  },
  {
   "cell_type": "code",
   "execution_count": null,
   "id": "1d8eb211-0926-4836-bb85-29179782a620",
   "metadata": {},
   "outputs": [],
   "source": [
    "ckd_with_distances.sort('Distance from Alice').take(np.arange(5))"
   ]
  },
  {
   "cell_type": "code",
   "execution_count": null,
   "id": "e3a35540-f306-4f21-aedb-3bfc03cf4057",
   "metadata": {},
   "outputs": [],
   "source": [
    "def nearest(training, new_point, k):\n",
    "    \"\"\"Returns a table of the k rows of the augmented table\n",
    "    corresponding to the k smallest distances\"\"\"\n",
    "    with_dists = table_with_distances(training, new_point)\n",
    "    sorted_by_distance = with_dists.sort('Distance')\n",
    "    nearest_neighbors_table = sorted_by_distance.take(np.arange(k))\n",
    "    return nearest_neighbors_table"
   ]
  },
  {
   "cell_type": "code",
   "execution_count": null,
   "id": "f81bc862-50c7-4f23-987f-4103e0883cf7",
   "metadata": {},
   "outputs": [],
   "source": [
    "five_nearest_neighbors = nearest(ckd, alice, 5)\n",
    "five_nearest_neighbors"
   ]
  },
  {
   "cell_type": "markdown",
   "id": "660a89fc-577c-4732-919e-2835fa9898f1",
   "metadata": {},
   "source": [
    "### How do we classify the point?"
   ]
  },
  {
   "cell_type": "markdown",
   "id": "dca5aadf-b6ea-408b-a670-f88aa2410ad3",
   "metadata": {},
   "source": [
    "#### **Task**: Find the majority class (programatically)."
   ]
  },
  {
   "cell_type": "markdown",
   "id": "4046b15d-58cb-440f-b1c0-c08eb7cffdae",
   "metadata": {},
   "source": [
    "##### Method 1"
   ]
  },
  {
   "cell_type": "code",
   "execution_count": null,
   "id": "3d57e8b7-ad38-46e6-8807-5a376a806162",
   "metadata": {},
   "outputs": [],
   "source": [
    "ones = five_nearest_neighbors.where('Class', are.equal_to(1)).num_rows"
   ]
  },
  {
   "cell_type": "code",
   "execution_count": null,
   "id": "554c6e5a-31bf-49da-b4c9-20a2b21a1d88",
   "metadata": {},
   "outputs": [],
   "source": [
    "zeros = five_nearest_neighbors.where('Class', are.equal_to(0)).num_rows"
   ]
  },
  {
   "cell_type": "code",
   "execution_count": null,
   "id": "3e9ade0f-6933-43c5-9689-11ae224b8770",
   "metadata": {},
   "outputs": [],
   "source": [
    "if ones > zeros:\n",
    "    print(1)\n",
    "else:\n",
    "    print(0)"
   ]
  },
  {
   "cell_type": "code",
   "execution_count": null,
   "id": "05b3b970-9eb1-42fd-b751-b804440fcfba",
   "metadata": {},
   "outputs": [],
   "source": [
    "def majority(nearest_neighbors_table):\n",
    "    \"\"\"1 if the majority of the \"Class\" column is 1s, and 0 otherwise.\"\"\"\n",
    "    ones = nearest_neighbors_table.where('Class', are.equal_to(1)).num_rows\n",
    "    zeros = nearest_neighbors_table.where('Class', are.equal_to(0)).num_rows\n",
    "    if ones > zeros:\n",
    "        return 1\n",
    "    else:\n",
    "        return 0"
   ]
  },
  {
   "cell_type": "code",
   "execution_count": null,
   "id": "84b6995c-91ea-4ff1-bb9e-9cd795160a49",
   "metadata": {},
   "outputs": [],
   "source": [
    "majority(five_nearest_neighbors)"
   ]
  },
  {
   "cell_type": "markdown",
   "id": "20ee7c01-55d0-4ecc-b60b-bfccd830d8e1",
   "metadata": {},
   "source": [
    "##### Method 2"
   ]
  },
  {
   "cell_type": "markdown",
   "id": "9b78a9ca-f6cc-4f98-9404-6b0a17d826ae",
   "metadata": {},
   "source": [
    "**Discussion Question:** [2 min]\n",
    "\n",
    "You are given the `five_nearest_neighbors` table. Write out on a piece of paper (or type on your notes app) a line(s) of code that will find the majority class and return it as a string/number, *regardless* of whether the classes are called 0 or 1, or whatever their names are!"
   ]
  },
  {
   "cell_type": "code",
   "execution_count": null,
   "id": "42e3e15b-ef7c-47a4-9c09-e8e506d01780",
   "metadata": {},
   "outputs": [],
   "source": [
    "five_nearest_neighbors.group('Class')"
   ]
  },
  {
   "cell_type": "code",
   "execution_count": null,
   "id": "80dbeb7b-6421-470d-a84c-2f200584b5b5",
   "metadata": {},
   "outputs": [],
   "source": [
    "five_nearest_neighbors.group('Class').sort('count', descending=True)"
   ]
  },
  {
   "cell_type": "code",
   "execution_count": null,
   "id": "95062bb9-535d-4c5a-a10e-904b384c1be9",
   "metadata": {},
   "outputs": [],
   "source": [
    "five_nearest_neighbors.group('Class').sort('count', descending=True).column('Class')"
   ]
  },
  {
   "cell_type": "code",
   "execution_count": null,
   "id": "9b1aed74-0951-4271-a9bf-214f073d3343",
   "metadata": {},
   "outputs": [],
   "source": [
    "five_nearest_neighbors.group('Class').sort('count', \n",
    "                                           descending=True).column('Class').item(0)"
   ]
  },
  {
   "cell_type": "code",
   "execution_count": null,
   "id": "4c3f56d6-d51d-4fca-8410-411cdace97f1",
   "metadata": {},
   "outputs": [],
   "source": [
    "def majority(nearest_neighbors_table, class_name):\n",
    "    return nearest_neighbors_table.group(class_name).sort('count', \n",
    "                                                         descending=True).column(class_name).item(0)"
   ]
  },
  {
   "cell_type": "code",
   "execution_count": null,
   "id": "2678fa0d-8b7a-49f1-ac7f-d8187c650745",
   "metadata": {},
   "outputs": [],
   "source": [
    "majority(five_nearest_neighbors, 'Class')"
   ]
  },
  {
   "cell_type": "markdown",
   "id": "7a34793e-28bb-4a6b-8cad-c60834c00e19",
   "metadata": {},
   "source": [
    "#### **Task:** Write a function to complete the entire algorithm!"
   ]
  },
  {
   "cell_type": "code",
   "execution_count": null,
   "id": "e814f54f-e832-4b93-95af-05476a8a5268",
   "metadata": {},
   "outputs": [],
   "source": [
    "five_nearest_neighbors = nearest(ckd, alice, 5)\n",
    "majority(five_nearest_neighbors, 'Class')"
   ]
  },
  {
   "cell_type": "code",
   "execution_count": null,
   "id": "69b4997d-6bc4-440c-ad12-a19f60d2d8a9",
   "metadata": {},
   "outputs": [],
   "source": [
    "def knn(training, class_name, new_point, k):\n",
    "    nearest_neighbors_table = nearest(training, new_point, k)\n",
    "    return majority(nearest_neighbors_table, class_name)"
   ]
  },
  {
   "cell_type": "code",
   "execution_count": null,
   "id": "75db09fd-fdce-4708-b9c6-fe37ed0bfa81",
   "metadata": {},
   "outputs": [],
   "source": [
    "knn(ckd, 'Class', alice, 5)"
   ]
  },
  {
   "cell_type": "markdown",
   "id": "befea69f-2d54-4d85-8116-dd9a29ecae26",
   "metadata": {},
   "source": [
    "#### Here are all the functions, in order, that made up this algorithm."
   ]
  },
  {
   "cell_type": "code",
   "execution_count": null,
   "id": "a75df76f-1ad2-4e06-947f-bfa88393c46f",
   "metadata": {},
   "outputs": [],
   "source": [
    "def distance(point1, point2):\n",
    "    \"\"\"Returns the distance between point1 and point2\n",
    "    where each argument is an array \n",
    "    consisting of the coordinates of the point\"\"\"\n",
    "    return np.sum((point1-point2)**2) ** 0.5\n",
    "\n",
    "def all_distances(training, new_row):\n",
    "    \"\"\"Returns an array of distances\n",
    "    between each point in the training set\n",
    "    and the new point (which is a row of attributes)\"\"\"\n",
    "    attributes = training.drop('Class')\n",
    "    def distance_from_new(row):\n",
    "        return distance(make_array(new_row), make_array(row))\n",
    "    return attributes.apply(distance_from_new)\n",
    "\n",
    "\n",
    "def table_with_distances(training, new_point):\n",
    "    \"\"\"Augments the training table \n",
    "    with a column of distances from new_point\"\"\"\n",
    "    return training.with_column('Distance', all_distances(training, new_point))\n",
    "\n",
    "\n",
    "def nearest(training, new_point, k):\n",
    "    \"\"\"Returns a table of the k rows of the augmented table\n",
    "    corresponding to the k smallest distances\"\"\"\n",
    "    with_dists = table_with_distances(training, new_point)\n",
    "    sorted_by_distance = with_dists.sort('Distance')\n",
    "    nearest_neighbors_table = sorted_by_distance.take(np.arange(k))\n",
    "    return nearest_neighbors_table\n",
    "\n",
    "\n",
    "def majority(nearest_neighbors_table, class_name):\n",
    "    return nearest_neighbors_table.group(class_name).sort('count', \n",
    "                                                         descending=True).column(class_name).item(0)\n",
    "\n",
    "\n",
    "def knn(training, class_name, new_point, k):\n",
    "    nearest_neighbors_table = nearest(training, new_point, k)\n",
    "    return majority(nearest_neighbors_table, class_name)"
   ]
  },
  {
   "cell_type": "markdown",
   "id": "fb3a4828-7c59-492e-be85-4481b4a7246a",
   "metadata": {},
   "source": [
    "____"
   ]
  },
  {
   "cell_type": "markdown",
   "id": "a9ed0f63-d529-4107-9faf-f0a2fdf3339a",
   "metadata": {},
   "source": [
    "**Challenge Task**  [1 min] : Perform $k$-NN using the entire `banknotes` dataset as training! Make up a test point like we did with `alice` for the `ckd` dataset. What will the Euclidean distance calculation look like on paper if you use all of the variables (except `\"Class\"`) as predictors?"
   ]
  }
 ],
 "metadata": {
  "kernelspec": {
   "display_name": "Python 3 (ipykernel)",
   "language": "python",
   "name": "python3"
  },
  "language_info": {
   "codemirror_mode": {
    "name": "ipython",
    "version": 3
   },
   "file_extension": ".py",
   "mimetype": "text/x-python",
   "name": "python",
   "nbconvert_exporter": "python",
   "pygments_lexer": "ipython3",
   "version": "3.12.4"
  }
 },
 "nbformat": 4,
 "nbformat_minor": 5
}
