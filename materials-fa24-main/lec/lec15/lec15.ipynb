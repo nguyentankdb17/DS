{
 "cells": [
  {
   "cell_type": "code",
   "execution_count": 58,
   "id": "2af4ddc8-9580-4d2c-a177-366eb3195a9f",
   "metadata": {},
   "outputs": [],
   "source": [
    "from datascience import *\n",
    "import numpy as np\n",
    "\n",
    "%matplotlib inline\n",
    "import matplotlib.pyplot as plots\n",
    "plots.style.use('fivethirtyeight')"
   ]
  },
  {
   "cell_type": "markdown",
   "id": "69ae3c21-62aa-47d7-9b48-4865bdf17fd1",
   "metadata": {},
   "source": [
    "## Review"
   ]
  },
  {
   "cell_type": "code",
   "execution_count": 74,
   "id": "fa6a49a4-3430-497f-8503-6ce7e76f1424",
   "metadata": {},
   "outputs": [
    {
     "data": {
      "text/html": [
       "<table border=\"1\" class=\"dataframe\">\n",
       "    <thead>\n",
       "        <tr>\n",
       "            <th>sourceid</th> <th>dstid</th> <th>hod</th> <th>ride time</th>\n",
       "        </tr>\n",
       "    </thead>\n",
       "    <tbody>\n",
       "        <tr>\n",
       "            <td>584     </td> <td>33   </td> <td>7   </td> <td>11.866   </td>\n",
       "        </tr>\n",
       "        <tr>\n",
       "            <td>1013    </td> <td>1116 </td> <td>13  </td> <td>17.7993  </td>\n",
       "        </tr>\n",
       "        <tr>\n",
       "            <td>884     </td> <td>1190 </td> <td>22  </td> <td>19.3488  </td>\n",
       "        </tr>\n",
       "        <tr>\n",
       "            <td>211     </td> <td>364  </td> <td>1   </td> <td>1.7235   </td>\n",
       "        </tr>\n",
       "        <tr>\n",
       "            <td>218     </td> <td>1189 </td> <td>7   </td> <td>42.5588  </td>\n",
       "        </tr>\n",
       "    </tbody>\n",
       "</table>\n",
       "<p>... (199995 rows omitted)</p>"
      ],
      "text/plain": [
       "<IPython.core.display.HTML object>"
      ]
     },
     "metadata": {},
     "output_type": "display_data"
    }
   ],
   "source": [
    "boston = Table.read_table('boston.csv')\n",
    "boston.show(5)"
   ]
  },
  {
   "cell_type": "code",
   "execution_count": 69,
   "id": "ea71b4e9-427d-4d92-97d0-fe523aa59054",
   "metadata": {},
   "outputs": [
    {
     "data": {
      "text/plain": [
       "15.501916666666666"
      ]
     },
     "execution_count": 69,
     "metadata": {},
     "output_type": "execute_result"
    }
   ],
   "source": [
    "np.median(boston.column('ride time'))"
   ]
  },
  {
   "cell_type": "markdown",
   "id": "7fc03195-ade3-48fb-8137-2bbb57af16a4",
   "metadata": {},
   "source": [
    "Refer to the picture in the slides from here!"
   ]
  },
  {
   "cell_type": "code",
   "execution_count": 79,
   "id": "aa8eb859-a513-43f8-b7a8-201267ab7e49",
   "metadata": {},
   "outputs": [],
   "source": [
    "def observed_sample_median(table, col_label, sample_size):\n",
    "    return np.median(table.sample(sample_size).column(col_label))"
   ]
  },
  {
   "cell_type": "code",
   "execution_count": 78,
   "id": "0f064925-a5e0-47b4-8647-cea6c039e295",
   "metadata": {},
   "outputs": [],
   "source": [
    "def observed_sample_median_distribution(table, col_label, repetition_size, sample_size):\n",
    "\n",
    "    observed_sample_medians = make_array()\n",
    "\n",
    "    for rep in np.arange(repetition_size):\n",
    "        new_median = observed_sample_median(table, col_label, sample_size)\n",
    "        observed_sample_medians = np.append(observed_sample_medians, new_median)\n",
    "\n",
    "    return observed_sample_medians"
   ]
  },
  {
   "cell_type": "markdown",
   "id": "3966eeeb-05b9-4a9b-9596-593b76c2d9fb",
   "metadata": {},
   "source": [
    "______"
   ]
  },
  {
   "cell_type": "markdown",
   "id": "035ad1e3-4d43-4f15-b1fb-782a29b49c43",
   "metadata": {},
   "source": [
    "## New material"
   ]
  },
  {
   "cell_type": "markdown",
   "id": "1d849058-02bb-4aba-8989-4088e8460580",
   "metadata": {},
   "source": [
    "### The case of Robert Swain"
   ]
  },
  {
   "cell_type": "code",
   "execution_count": 21,
   "id": "0bc327c2-4a77-4b1f-8a39-a94e0b11de81",
   "metadata": {},
   "outputs": [
    {
     "data": {
      "text/plain": [
       "array([ 0.26,  0.74])"
      ]
     },
     "execution_count": 21,
     "metadata": {},
     "output_type": "execute_result"
    }
   ],
   "source": [
    "population_proportions = make_array(.26, .74)\n",
    "population_proportions"
   ]
  },
  {
   "cell_type": "code",
   "execution_count": 22,
   "id": "624d6c77-e0c5-4efb-9ceb-b5c648db0e48",
   "metadata": {},
   "outputs": [
    {
     "data": {
      "text/plain": [
       "array([ 0.31,  0.69])"
      ]
     },
     "execution_count": 22,
     "metadata": {},
     "output_type": "execute_result"
    }
   ],
   "source": [
    "sample_proportions(100, population_proportions)"
   ]
  },
  {
   "cell_type": "code",
   "execution_count": 23,
   "id": "260c07e0-e6b8-4791-860a-d1ab21f16668",
   "metadata": {},
   "outputs": [],
   "source": [
    "def panel_proportion():\n",
    "    return sample_proportions(100, population_proportions).item(0)"
   ]
  },
  {
   "cell_type": "code",
   "execution_count": 24,
   "id": "3825e20d-2dc8-4817-92b6-2e7983f6cb92",
   "metadata": {},
   "outputs": [
    {
     "data": {
      "text/plain": [
       "0.3"
      ]
     },
     "execution_count": 24,
     "metadata": {},
     "output_type": "execute_result"
    }
   ],
   "source": [
    "panel_proportion()"
   ]
  },
  {
   "cell_type": "code",
   "execution_count": 25,
   "id": "d2f3f1e0-63c0-42ca-aa6e-d242ccb3ec89",
   "metadata": {},
   "outputs": [],
   "source": [
    "panels = make_array()\n",
    "\n",
    "for i in np.arange(10000):\n",
    "    new_panel = panel_proportion() * 100\n",
    "    panels = np.append(panels, new_panel)"
   ]
  },
  {
   "cell_type": "code",
   "execution_count": 26,
   "id": "694a3baa-d0e8-4c63-97ee-c913c753f3e8",
   "metadata": {},
   "outputs": [
    {
     "data": {
      "text/plain": [
       "array([ 27.,  29.,  22., ...,  23.,  26.,  25.])"
      ]
     },
     "execution_count": 26,
     "metadata": {},
     "output_type": "execute_result"
    }
   ],
   "source": [
    "panels"
   ]
  },
  {
   "cell_type": "code",
   "execution_count": 110,
   "id": "f525fac7-00ff-47f0-9142-38e9bdac41d1",
   "metadata": {},
   "outputs": [
    {
     "data": {
      "image/png": "[encoded data removed]",
      "text/plain": [
       "<Figure size 600x400 with 1 Axes>"
      ]
     },
     "metadata": {},
     "output_type": "display_data"
    }
   ],
   "source": [
    "Table().with_column(\n",
    "    'Number of Black men on panel of 100', panels\n",
    ").hist(bins=np.arange(5.5,40.))\n",
    "\n",
    "# Plotting details; ignore this code\n",
    "plots.ylim(-0.002, 0.09)\n",
    "plots.scatter(8, 0, color='red', s=30);"
   ]
  },
  {
   "cell_type": "markdown",
   "id": "ee9f444a-8931-4aa8-a529-6a72e7e2b4b9",
   "metadata": {},
   "source": [
    "_____"
   ]
  },
  {
   "cell_type": "markdown",
   "id": "26170f9f-6885-4e38-a78d-c6de2f90e26a",
   "metadata": {},
   "source": [
    "### Mendel's pea plant model"
   ]
  },
  {
   "cell_type": "code",
   "execution_count": 90,
   "id": "f1a794ec-d58a-4a40-92fc-25b4d6137a37",
   "metadata": {},
   "outputs": [
    {
     "data": {
      "text/plain": [
       "0.7631862217438106"
      ]
     },
     "execution_count": 90,
     "metadata": {},
     "output_type": "execute_result"
    }
   ],
   "source": [
    "observed_purples = 709 / 929\n",
    "observed_purples"
   ]
  },
  {
   "cell_type": "code",
   "execution_count": 91,
   "id": "94edd795-6b66-4025-835a-7d9b2811d0e5",
   "metadata": {},
   "outputs": [
    {
     "data": {
      "text/plain": [
       "array([ 0.7459634,  0.2540366])"
      ]
     },
     "execution_count": 91,
     "metadata": {},
     "output_type": "execute_result"
    }
   ],
   "source": [
    "predicted_proportions = make_array(.75, .25)\n",
    "sample_proportions(929, predicted_proportions)"
   ]
  },
  {
   "cell_type": "code",
   "execution_count": 92,
   "id": "4000cec9-95d1-4987-afe5-ab6c27f25dc4",
   "metadata": {},
   "outputs": [],
   "source": [
    "def purple_flowers():\n",
    "    return abs(sample_proportions(929, predicted_proportions).item(0) - 0.75)"
   ]
  },
  {
   "cell_type": "code",
   "execution_count": 93,
   "id": "996bd3e4-deb6-46ea-81aa-d84e6a048df4",
   "metadata": {},
   "outputs": [
    {
     "data": {
      "text/plain": [
       "0.008880516684607098"
      ]
     },
     "execution_count": 93,
     "metadata": {},
     "output_type": "execute_result"
    }
   ],
   "source": [
    "purple_flowers()"
   ]
  },
  {
   "cell_type": "code",
   "execution_count": 101,
   "id": "ad108da5-88b0-46f6-86c5-8aecb8a0c228",
   "metadata": {},
   "outputs": [],
   "source": [
    "purples_differences = make_array()\n",
    "\n",
    "for i in np.arange(10000):\n",
    "    new_purple_difference = purple_flowers()\n",
    "    purples_differences = np.append(purples_differences, new_purple_difference)"
   ]
  },
  {
   "cell_type": "code",
   "execution_count": 109,
   "id": "2725a3e1-e6fd-42ac-ac9f-0650953e6c9a",
   "metadata": {},
   "outputs": [
    {
     "data": {
      "image/png": "[encoded data removed]",
      "text/plain": [
       "<Figure size 600x400 with 1 Axes>"
      ]
     },
     "metadata": {},
     "output_type": "display_data"
    }
   ],
   "source": [
    "Table().with_column('Absolute difference if the model is true', purples_differences).hist()\n",
    "\n",
    "# Plotting details; ignore this code\n",
    "plots.ylim(-0.02*100, 0.6*100)\n",
    "plots.scatter(abs(observed_purples -0.75), 0, color='red', s=30);"
   ]
  },
  {
   "cell_type": "markdown",
   "id": "7f7c1c26-39a9-450b-8336-d600457afaca",
   "metadata": {},
   "source": [
    "## Appendix: empirical distributions review with the `united` dataset."
   ]
  },
  {
   "cell_type": "code",
   "execution_count": 3,
   "id": "f608418b-9f31-471b-8b1f-e0b8259895df",
   "metadata": {
    "scrolled": true
   },
   "outputs": [
    {
     "data": {
      "text/html": [
       "<table border=\"1\" class=\"dataframe\">\n",
       "    <thead>\n",
       "        <tr>\n",
       "            <th>Date</th> <th>Flight Number</th> <th>Destination</th> <th>Delay</th>\n",
       "        </tr>\n",
       "    </thead>\n",
       "    <tbody>\n",
       "        <tr>\n",
       "            <td>6/1/15</td> <td>73           </td> <td>HNL        </td> <td>257  </td>\n",
       "        </tr>\n",
       "        <tr>\n",
       "            <td>6/1/15</td> <td>217          </td> <td>EWR        </td> <td>28   </td>\n",
       "        </tr>\n",
       "        <tr>\n",
       "            <td>6/1/15</td> <td>237          </td> <td>STL        </td> <td>-3   </td>\n",
       "        </tr>\n",
       "        <tr>\n",
       "            <td>6/1/15</td> <td>250          </td> <td>SAN        </td> <td>0    </td>\n",
       "        </tr>\n",
       "        <tr>\n",
       "            <td>6/1/15</td> <td>267          </td> <td>PHL        </td> <td>64   </td>\n",
       "        </tr>\n",
       "        <tr>\n",
       "            <td>6/1/15</td> <td>273          </td> <td>SEA        </td> <td>-6   </td>\n",
       "        </tr>\n",
       "        <tr>\n",
       "            <td>6/1/15</td> <td>278          </td> <td>SEA        </td> <td>-8   </td>\n",
       "        </tr>\n",
       "        <tr>\n",
       "            <td>6/1/15</td> <td>292          </td> <td>EWR        </td> <td>12   </td>\n",
       "        </tr>\n",
       "        <tr>\n",
       "            <td>6/1/15</td> <td>300          </td> <td>HNL        </td> <td>20   </td>\n",
       "        </tr>\n",
       "        <tr>\n",
       "            <td>6/1/15</td> <td>317          </td> <td>IND        </td> <td>-10  </td>\n",
       "        </tr>\n",
       "    </tbody>\n",
       "</table>\n",
       "<p>... (13815 rows omitted)</p>"
      ],
      "text/plain": [
       "Date   | Flight Number | Destination | Delay\n",
       "6/1/15 | 73            | HNL         | 257\n",
       "6/1/15 | 217           | EWR         | 28\n",
       "6/1/15 | 237           | STL         | -3\n",
       "6/1/15 | 250           | SAN         | 0\n",
       "6/1/15 | 267           | PHL         | 64\n",
       "6/1/15 | 273           | SEA         | -6\n",
       "6/1/15 | 278           | SEA         | -8\n",
       "6/1/15 | 292           | EWR         | 12\n",
       "6/1/15 | 300           | HNL         | 20\n",
       "6/1/15 | 317           | IND         | -10\n",
       "... (13815 rows omitted)"
      ]
     },
     "execution_count": 3,
     "metadata": {},
     "output_type": "execute_result"
    }
   ],
   "source": [
    "united = Table.read_table('united.csv')\n",
    "united"
   ]
  },
  {
   "cell_type": "code",
   "execution_count": 6,
   "id": "6762301b-912b-4803-a4bd-ee7fee8713da",
   "metadata": {},
   "outputs": [
    {
     "data": {
      "text/plain": [
       "2.0"
      ]
     },
     "execution_count": 6,
     "metadata": {},
     "output_type": "execute_result"
    }
   ],
   "source": [
    "np.median(united.column('Delay'))"
   ]
  },
  {
   "cell_type": "code",
   "execution_count": null,
   "id": "f26aca53-0612-44a5-b546-eb4f9a57e914",
   "metadata": {},
   "outputs": [],
   "source": []
  },
  {
   "cell_type": "code",
   "execution_count": 7,
   "id": "93cb8883-0134-4f0c-8666-fbb7351e3fa0",
   "metadata": {},
   "outputs": [],
   "source": [
    "def observed_sample_median(sample_size):\n",
    "    return np.median(united.sample(sample_size).column('Delay'))"
   ]
  },
  {
   "cell_type": "code",
   "execution_count": 8,
   "id": "b167b640-db1b-4d12-90b0-93b82dfadda2",
   "metadata": {},
   "outputs": [],
   "source": [
    "def observed_sample_median_distribution(repetition_size, sample_size):\n",
    "\n",
    "    observed_sample_medians = make_array()\n",
    "\n",
    "    for rep in np.arange(repetition_size):\n",
    "        new_median = observed_sample_median(sample_size)\n",
    "        observed_sample_medians = np.append(observed_sample_medians, new_median)\n",
    "\n",
    "    return observed_sample_medians"
   ]
  },
  {
   "cell_type": "code",
   "execution_count": 16,
   "id": "41419a64-8d20-433d-ab17-c80f92972b40",
   "metadata": {},
   "outputs": [],
   "source": [
    "size_10 = observed_sample_median_distribution(1000,10)\n",
    "size_100 = observed_sample_median_distribution(1000,100)\n",
    "size_1000 = observed_sample_median_distribution(1000,1000)"
   ]
  },
  {
   "cell_type": "code",
   "execution_count": 19,
   "id": "ed2223d8-31ac-4fb5-8f5c-ea0d151fe76c",
   "metadata": {},
   "outputs": [],
   "source": [
    "sample_median_table = Table().with_columns('Size 10', size_10,\n",
    "                                           'Size 100', size_100,\n",
    "                                           'Size 1000', size_1000)"
   ]
  },
  {
   "cell_type": "code",
   "execution_count": 20,
   "id": "72fbd7ea-c569-486f-858c-5ce12eeb00cb",
   "metadata": {},
   "outputs": [
    {
     "data": {
      "image/png": "[encoded data removed]",
      "text/plain": [
       "<Figure size 600x400 with 1 Axes>"
      ]
     },
     "metadata": {},
     "output_type": "display_data"
    }
   ],
   "source": [
    "sample_median_table.hist()"
   ]
  },
  {
   "cell_type": "markdown",
   "id": "73b90070-541e-43d9-95c5-24f038811ace",
   "metadata": {
    "jp-MarkdownHeadingCollapsed": true
   },
   "source": [
    "______"
   ]
  }
 ],
 "metadata": {
  "kernelspec": {
   "display_name": "Python 3 (ipykernel)",
   "language": "python",
   "name": "python3"
  },
  "language_info": {
   "codemirror_mode": {
    "name": "ipython",
    "version": 3
   },
   "file_extension": ".py",
   "mimetype": "text/x-python",
   "name": "python",
   "nbconvert_exporter": "python",
   "pygments_lexer": "ipython3",
   "version": "3.12.4"
  }
 },
 "nbformat": 4,
 "nbformat_minor": 5
}
