{
 "cells": [
  {
   "cell_type": "code",
   "execution_count": null,
   "id": "4ac7b002-ba6a-44f1-84a1-85aaee35a212",
   "metadata": {},
   "outputs": [],
   "source": [
    "from datascience import *\n",
    "import numpy as np\n",
    "\n",
    "%matplotlib inline\n",
    "import matplotlib.pyplot as plots\n",
    "plots.style.use('fivethirtyeight')\n",
    "\n",
    "import warnings\n",
    "warnings.simplefilter(\"ignore\")"
   ]
  },
  {
   "cell_type": "markdown",
   "id": "b0593871-2e05-4585-997b-f52566c8d9fb",
   "metadata": {},
   "source": [
    "## Review"
   ]
  },
  {
   "cell_type": "markdown",
   "id": "d35a9fc4-ea84-47f5-bfbf-8056071a32b3",
   "metadata": {},
   "source": [
    "Review in slides."
   ]
  },
  {
   "cell_type": "markdown",
   "id": "880d2835-cbc4-470a-a397-3451882793d1",
   "metadata": {},
   "source": [
    "## New material"
   ]
  },
  {
   "cell_type": "markdown",
   "id": "9872fbe5-97cb-45dc-a32b-506c39020b95",
   "metadata": {},
   "source": [
    "### Case study: random sample of newborns"
   ]
  },
  {
   "cell_type": "code",
   "execution_count": null,
   "id": "ea00e32e-74cf-459f-88c9-ed9d95f0885d",
   "metadata": {},
   "outputs": [],
   "source": [
    "births = Table.read_table('baby.csv')\n",
    "births.show(5)"
   ]
  },
  {
   "cell_type": "code",
   "execution_count": null,
   "id": "1f207da4-9423-49bd-896c-142a9c74b54d",
   "metadata": {},
   "outputs": [],
   "source": [
    "births.select('Maternal Smoker', \n",
    "              'Birth Weight').show(5)"
   ]
  },
  {
   "cell_type": "code",
   "execution_count": null,
   "id": "3a945ebd-6c8d-4a3e-bcd4-11456561f99f",
   "metadata": {},
   "outputs": [],
   "source": [
    "births.select('Maternal Smoker', \n",
    "              'Birth Weight').group('Maternal Smoker')"
   ]
  },
  {
   "cell_type": "code",
   "execution_count": null,
   "id": "b93cca67-fade-4b97-a07a-5daedebaeb3c",
   "metadata": {},
   "outputs": [],
   "source": [
    "means_table = births.select('Maternal Smoker', \n",
    "              'Birth Weight').group('Maternal Smoker',np.average)\n",
    "means_table"
   ]
  },
  {
   "cell_type": "code",
   "execution_count": null,
   "id": "500ff8da-226a-46fe-9d9d-b9a04555fb9e",
   "metadata": {},
   "outputs": [],
   "source": [
    "births.select('Maternal Smoker', \n",
    "              'Birth Weight').hist('Birth Weight', group='Maternal Smoker')"
   ]
  },
  {
   "cell_type": "markdown",
   "id": "714d6eb2-21a2-4253-b67e-c4c286cb5b70",
   "metadata": {},
   "source": [
    "____"
   ]
  },
  {
   "cell_type": "code",
   "execution_count": null,
   "id": "423f0d17-aed4-45c4-aacc-be152385a30d",
   "metadata": {},
   "outputs": [],
   "source": [
    "means_table.column(1)"
   ]
  },
  {
   "cell_type": "code",
   "execution_count": null,
   "id": "d939f231-fabc-4f24-bd4c-9818d5667f67",
   "metadata": {},
   "outputs": [],
   "source": [
    "observed_difference = means_table.column(1).item(1)-means_table.column(1).item(0)\n",
    "observed_difference"
   ]
  },
  {
   "cell_type": "markdown",
   "id": "ae59b242-3aaa-4a45-ac69-b85c6b942191",
   "metadata": {},
   "source": [
    "### How should we simulate under the null?\n",
    "- By shuffling the group variable!"
   ]
  },
  {
   "cell_type": "code",
   "execution_count": null,
   "id": "c2418d94-3ac7-4a7e-a53f-d92387f9f883",
   "metadata": {},
   "outputs": [],
   "source": [
    "births.select('Maternal Smoker').show(5)"
   ]
  },
  {
   "cell_type": "code",
   "execution_count": null,
   "id": "c6cb4d8b-e531-47db-a1c0-15a5b869884a",
   "metadata": {},
   "outputs": [],
   "source": [
    "shuffled_group = births.select('Maternal Smoker').sample(with_replacement=False)\n",
    "shuffled_group.show(5)"
   ]
  },
  {
   "cell_type": "code",
   "execution_count": null,
   "id": "175239a8-0264-4650-85cb-5f2bb34bf034",
   "metadata": {},
   "outputs": [],
   "source": [
    "simulated_births = Table().with_columns('Shuffled Maternal Smoker', shuffled_group.column(0),\n",
    "                                        'Birth Weight', births.column('Birth Weight'))\n",
    "simulated_births.show(5)"
   ]
  },
  {
   "cell_type": "code",
   "execution_count": null,
   "id": "100ff3d6-8968-4fa0-ba69-635770e69d9f",
   "metadata": {},
   "outputs": [],
   "source": [
    "simulated_births.group('Shuffled Maternal Smoker',np.average)"
   ]
  },
  {
   "cell_type": "code",
   "execution_count": null,
   "id": "749d3bcc-e1cf-4253-91e0-2a7b270e0c2b",
   "metadata": {},
   "outputs": [],
   "source": [
    "means_array = simulated_births.group('Shuffled Maternal Smoker',np.average).column(1)"
   ]
  },
  {
   "cell_type": "code",
   "execution_count": null,
   "id": "4222ad69-d740-4f1f-8ddb-f59db476a433",
   "metadata": {},
   "outputs": [],
   "source": [
    "means_array.item(0)-means_array.item(-1)"
   ]
  },
  {
   "cell_type": "code",
   "execution_count": null,
   "id": "149b7d1f-73f6-43df-b575-2607dc02740d",
   "metadata": {},
   "outputs": [],
   "source": [
    "def simulated_difference(table, group_label, numeric_label, function):\n",
    "    \"\"\"\n",
    "    Takes: \n",
    "       - name of table\n",
    "       - column label of numerical variable\n",
    "       - column label of categorical variable\n",
    "       - statistic to be calculated (as a function)\n",
    "       \n",
    "    Returns: Difference in statistics of the two groups\n",
    "    \"\"\"\n",
    "    shuffled_group = table.select(group_label).sample(with_replacement=False)\n",
    "    simulated_table = Table().with_columns(group_label, shuffled_group.column(0),\n",
    "                                        numeric_label, table.column(numeric_label))\n",
    "    \n",
    "    stats_array = simulated_table.group(group_label, function).column(1)\n",
    "    \n",
    "    \n",
    "    return stats_array.item(1)-stats_array.item(0)"
   ]
  },
  {
   "cell_type": "code",
   "execution_count": null,
   "id": "bcfd58fb-456c-4076-94cd-6964fa440be1",
   "metadata": {},
   "outputs": [],
   "source": [
    "simulated_difference(births, 'Maternal Smoker', 'Birth Weight', np.average)"
   ]
  },
  {
   "cell_type": "markdown",
   "id": "6fedbef4-b2e3-4a64-ba49-a4d4356d3d2b",
   "metadata": {},
   "source": [
    "**Discussion Task** [2 min]: \n",
    "- Simulate 2500 test statistics under the null hypothesis and save them into an array called `simulated_differences.`"
   ]
  },
  {
   "cell_type": "code",
   "execution_count": null,
   "id": "9d818b45-257b-41f9-a7c2-685cc7fa5514",
   "metadata": {},
   "outputs": [],
   "source": []
  },
  {
   "cell_type": "code",
   "execution_count": null,
   "id": "6048dd26-c57b-4a70-9906-653832f9ec0b",
   "metadata": {},
   "outputs": [],
   "source": [
    "Table().with_column('Difference Between Group Means', \n",
    "                    simulated_differences).hist()\n",
    "plots.scatter(observed_difference, -0.001, color='red', s=30);\n",
    "print('Our observed difference of ' + str(observed_difference) + ' is far away from what we would expect under the null!')"
   ]
  }
 ],
 "metadata": {
  "kernelspec": {
   "display_name": "Python 3 (ipykernel)",
   "language": "python",
   "name": "python3"
  },
  "language_info": {
   "codemirror_mode": {
    "name": "ipython",
    "version": 3
   },
   "file_extension": ".py",
   "mimetype": "text/x-python",
   "name": "python",
   "nbconvert_exporter": "python",
   "pygments_lexer": "ipython3",
   "version": "3.12.4"
  }
 },
 "nbformat": 4,
 "nbformat_minor": 5
}
