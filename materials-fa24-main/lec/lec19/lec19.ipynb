{
 "cells": [
  {
   "cell_type": "code",
   "execution_count": 1,
   "id": "0fc87d3c-9e36-40c1-b173-7f1efe41be3d",
   "metadata": {},
   "outputs": [],
   "source": [
    "from datascience import *\n",
    "import numpy as np\n",
    "\n",
    "%matplotlib inline\n",
    "import matplotlib.pyplot as plots\n",
    "plots.style.use('fivethirtyeight')\n",
    "\n",
    "import warnings\n",
    "warnings.simplefilter(\"ignore\")"
   ]
  },
  {
   "cell_type": "markdown",
   "id": "61a00230-4ff1-4d9c-8f72-6b2d534ddba4",
   "metadata": {},
   "source": [
    "## Review"
   ]
  },
  {
   "cell_type": "markdown",
   "id": "69e135c3-a097-449a-a11d-1fa871bf8228",
   "metadata": {},
   "source": [
    "Hosted at https://pollev.com/jeremysanchez."
   ]
  },
  {
   "cell_type": "markdown",
   "id": "c202663e-686a-4db3-a989-8115a123af03",
   "metadata": {},
   "source": [
    "## New material"
   ]
  },
  {
   "cell_type": "code",
   "execution_count": 3,
   "id": "f2b4d97b-ffea-44af-8b85-d22439ec4468",
   "metadata": {},
   "outputs": [
    {
     "data": {
      "text/html": [
       "<table border=\"1\" class=\"dataframe\">\n",
       "    <thead>\n",
       "        <tr>\n",
       "            <th>Group</th> <th>Result</th>\n",
       "        </tr>\n",
       "    </thead>\n",
       "    <tbody>\n",
       "        <tr>\n",
       "            <td>Treatment</td> <td>1     </td>\n",
       "        </tr>\n",
       "        <tr>\n",
       "            <td>Control  </td> <td>0     </td>\n",
       "        </tr>\n",
       "        <tr>\n",
       "            <td>Treatment</td> <td>0     </td>\n",
       "        </tr>\n",
       "        <tr>\n",
       "            <td>Control  </td> <td>0     </td>\n",
       "        </tr>\n",
       "        <tr>\n",
       "            <td>Control  </td> <td>0     </td>\n",
       "        </tr>\n",
       "    </tbody>\n",
       "</table>"
      ],
      "text/plain": [
       "Group     | Result\n",
       "Treatment | 1\n",
       "Control   | 0\n",
       "Treatment | 0\n",
       "Control   | 0\n",
       "Control   | 0"
      ]
     },
     "execution_count": 3,
     "metadata": {},
     "output_type": "execute_result"
    }
   ],
   "source": [
    "back_pain = Table.read_table('bta.csv')\n",
    "back_pain.sample(5, with_replacement = False)"
   ]
  },
  {
   "cell_type": "code",
   "execution_count": 4,
   "id": "7c448d9e-1953-4287-a5b2-967deecc6aa2",
   "metadata": {},
   "outputs": [
    {
     "data": {
      "text/html": [
       "<table border=\"1\" class=\"dataframe\">\n",
       "    <thead>\n",
       "        <tr>\n",
       "            <th>Group</th> <th>0.0</th> <th>1.0</th>\n",
       "        </tr>\n",
       "    </thead>\n",
       "    <tbody>\n",
       "        <tr>\n",
       "            <td>Control  </td> <td>14  </td> <td>2   </td>\n",
       "        </tr>\n",
       "        <tr>\n",
       "            <td>Treatment</td> <td>6   </td> <td>9   </td>\n",
       "        </tr>\n",
       "    </tbody>\n",
       "</table>"
      ],
      "text/plain": [
       "Group     | 0.0  | 1.0\n",
       "Control   | 14   | 2\n",
       "Treatment | 6    | 9"
      ]
     },
     "execution_count": 4,
     "metadata": {},
     "output_type": "execute_result"
    }
   ],
   "source": [
    "back_pain.pivot('Result', 'Group')"
   ]
  },
  {
   "cell_type": "code",
   "execution_count": 5,
   "id": "90cce87a-88ed-4ae8-95c8-8a3a1732d43b",
   "metadata": {},
   "outputs": [
    {
     "data": {
      "text/html": [
       "<table border=\"1\" class=\"dataframe\">\n",
       "    <thead>\n",
       "        <tr>\n",
       "            <th>Group</th> <th>count</th>\n",
       "        </tr>\n",
       "    </thead>\n",
       "    <tbody>\n",
       "        <tr>\n",
       "            <td>Control  </td> <td>16   </td>\n",
       "        </tr>\n",
       "        <tr>\n",
       "            <td>Treatment</td> <td>15   </td>\n",
       "        </tr>\n",
       "    </tbody>\n",
       "</table>"
      ],
      "text/plain": [
       "Group     | count\n",
       "Control   | 16\n",
       "Treatment | 15"
      ]
     },
     "execution_count": 5,
     "metadata": {},
     "output_type": "execute_result"
    }
   ],
   "source": [
    "back_pain.group('Group')"
   ]
  },
  {
   "cell_type": "code",
   "execution_count": 43,
   "id": "9d3e6d58-1298-4e5a-aef9-b630015b5b07",
   "metadata": {},
   "outputs": [
    {
     "data": {
      "text/html": [
       "<table border=\"1\" class=\"dataframe\">\n",
       "    <thead>\n",
       "        <tr>\n",
       "            <th>Group</th> <th>Result average</th>\n",
       "        </tr>\n",
       "    </thead>\n",
       "    <tbody>\n",
       "        <tr>\n",
       "            <td>Control  </td> <td>0.125         </td>\n",
       "        </tr>\n",
       "        <tr>\n",
       "            <td>Treatment</td> <td>0.6           </td>\n",
       "        </tr>\n",
       "    </tbody>\n",
       "</table>"
      ],
      "text/plain": [
       "Group     | Result average\n",
       "Control   | 0.125\n",
       "Treatment | 0.6"
      ]
     },
     "execution_count": 43,
     "metadata": {},
     "output_type": "execute_result"
    }
   ],
   "source": [
    "back_pain.group('Group', np.average)"
   ]
  },
  {
   "cell_type": "markdown",
   "id": "cd722646-034a-4de6-a909-a4aee256eadd",
   "metadata": {},
   "source": [
    "**Discussion** [2 min] - Questions in slides!"
   ]
  },
  {
   "cell_type": "code",
   "execution_count": null,
   "id": "982d54f5-4d7b-49fd-92a1-12f28df673a2",
   "metadata": {},
   "outputs": [],
   "source": []
  }
 ],
 "metadata": {
  "kernelspec": {
   "display_name": "Python 3 (ipykernel)",
   "language": "python",
   "name": "python3"
  },
  "language_info": {
   "codemirror_mode": {
    "name": "ipython",
    "version": 3
   },
   "file_extension": ".py",
   "mimetype": "text/x-python",
   "name": "python",
   "nbconvert_exporter": "python",
   "pygments_lexer": "ipython3",
   "version": "3.12.4"
  }
 },
 "nbformat": 4,
 "nbformat_minor": 5
}
