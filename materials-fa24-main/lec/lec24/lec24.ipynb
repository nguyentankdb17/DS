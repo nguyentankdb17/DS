{
 "cells": [
  {
   "cell_type": "code",
   "execution_count": null,
   "id": "147a4bd9-a8a8-465c-b17a-a3fb83d0a23a",
   "metadata": {},
   "outputs": [],
   "source": [
    "from datascience import *\n",
    "%matplotlib inline\n",
    "path_data = '../../../assets/data/'\n",
    "import matplotlib.pyplot as plots\n",
    "import numpy as np\n",
    "import warnings\n",
    "plots.style.use('fivethirtyeight')\n",
    "warnings.simplefilter(action='ignore', category=np.VisibleDeprecationWarning)"
   ]
  },
  {
   "cell_type": "code",
   "execution_count": null,
   "id": "1cad320d-c9c8-45d0-be23-7b0025126b2a",
   "metadata": {},
   "outputs": [],
   "source": [
    "def bootstrapped_statistics(original_sample,variable,quantity_function):\n",
    "    \n",
    "    bootstrap_stats = make_array()\n",
    "    for i in np.arange(5000):\n",
    "        next_bs_sample = original_sample.sample(k = original_sample.num_rows, with_replacement = True)\n",
    "        bootstrap_stats = np.append(bootstrap_stats, \n",
    "                                   quantity_function(next_bs_sample.column(variable)))\n",
    "\n",
    "    return bootstrap_stats"
   ]
  },
  {
   "cell_type": "code",
   "execution_count": null,
   "id": "fcdd96a3-95b9-43c8-a07b-3aabc1aec399",
   "metadata": {},
   "outputs": [],
   "source": [
    "def bootstrap_confidence_interval(original_sample,variable,quantity_function, confidence_level):\n",
    "\n",
    "    bootstrap_stats = bootstrapped_statistics(original_sample,variable,quantity_function)\n",
    "    \n",
    "    left = percentile((100-confidence_level)/2, \n",
    "                      bootstrap_stats)\n",
    "    \n",
    "    right = percentile(100 - (100-confidence_level)/2, \n",
    "                       bootstrap_stats)\n",
    "\n",
    "    return make_array(left, right)"
   ]
  },
  {
   "cell_type": "markdown",
   "id": "663984df-c07a-4727-b528-7e49e759b6e5",
   "metadata": {},
   "source": [
    "## Review"
   ]
  },
  {
   "cell_type": "markdown",
   "id": "5d22bdb5-08d6-44ff-9128-c43ccf882c0e",
   "metadata": {},
   "source": [
    "In slides."
   ]
  },
  {
   "cell_type": "markdown",
   "id": "bf51c4e9-4304-4b62-a891-f7ed25997d26",
   "metadata": {},
   "source": [
    "## New material"
   ]
  },
  {
   "cell_type": "markdown",
   "id": "794d8d29-20d4-41bf-8257-2b32e7b7405e",
   "metadata": {},
   "source": [
    "We again consider the 2019 SF City workers compensation table dataset to be a **population**  for teaching purposes. In general, when using the inference method of today, you will not have the population: only a (random) sample from it."
   ]
  },
  {
   "cell_type": "code",
   "execution_count": null,
   "id": "54b30938-61ac-4bc5-81f8-7b7b1f23905d",
   "metadata": {},
   "outputs": [],
   "source": [
    "population = Table.read_table('san_francisco_2019.csv')\n",
    "min_salary = 15 * 20 * 50\n",
    "population = population.where('Salary', are.above(min_salary))"
   ]
  },
  {
   "cell_type": "code",
   "execution_count": null,
   "id": "cf870ff1-0bef-4f8e-a68f-78385b978553",
   "metadata": {},
   "outputs": [],
   "source": [
    "population_median = percentile(50, population.column('Total Compensation'))\n",
    "population_median"
   ]
  },
  {
   "cell_type": "markdown",
   "id": "cf0e36a7-855b-4af1-a0cb-9f3838218a3b",
   "metadata": {},
   "source": [
    "### What does _x_% confidence mean?"
   ]
  },
  {
   "cell_type": "markdown",
   "id": "20be99b9-01f6-4c40-af73-77664965bef1",
   "metadata": {},
   "source": [
    "You do not need to worry about understanding the mechanics of the plotting code in this section."
   ]
  },
  {
   "cell_type": "code",
   "execution_count": null,
   "id": "0c6ce62e-a9d2-4654-9c30-e34a0997876f",
   "metadata": {},
   "outputs": [],
   "source": [
    "def confidence_interval_95_display(sample_size):\n",
    "    \n",
    "    original_sample = population.sample(sample_size, with_replacement=False)\n",
    "    \n",
    "    bootstrap_stats = make_array()\n",
    "    for i in np.arange(1000):\n",
    "        next_bs_sample = original_sample.sample(k = original_sample.num_rows, with_replacement = True)\n",
    "        bootstrap_stats = np.append(bootstrap_stats, \n",
    "                                   percentile(50,next_bs_sample.column('Total Compensation')))\n",
    "\n",
    "    left = percentile(2.5, bootstrap_stats)\n",
    "    \n",
    "    right = percentile(97.5, \n",
    "                       bootstrap_stats)\n",
    "    \n",
    "    return make_array(left, right)\n"
   ]
  },
  {
   "cell_type": "code",
   "execution_count": null,
   "id": "6d244c9b-2ee7-4841-bcee-eaf7a017dcb1",
   "metadata": {},
   "outputs": [],
   "source": [
    "confidence_interval_95_display(2)"
   ]
  },
  {
   "cell_type": "code",
   "execution_count": null,
   "id": "cc7b125e-100e-4970-9e14-a2a976be4ca9",
   "metadata": {},
   "outputs": [],
   "source": [
    "intervals = Table(['lower', 'upper'])\n",
    "\n",
    "for i in np.arange(100):\n",
    "    interval = confidence_interval_95_display(100)\n",
    "    intervals = intervals.with_row([\n",
    "            interval.item(0), interval.item(1)\n",
    "        ])\n",
    "intervals = intervals.with_columns('Number', np.arange(100) + 1)"
   ]
  },
  {
   "cell_type": "code",
   "execution_count": null,
   "id": "c07e62a0-12a9-4090-b68b-fcbebae20890",
   "metadata": {},
   "outputs": [],
   "source": [
    "intervals.show(5)"
   ]
  },
  {
   "cell_type": "code",
   "execution_count": null,
   "id": "fa98b878-42f1-4abe-8780-4c8b5c99aa97",
   "metadata": {},
   "outputs": [],
   "source": [
    "intervals.scatter('lower','Number')\n",
    "plots.xticks(np.arange(0))\n",
    "truth = population_median\n",
    "for row in intervals.rows:\n",
    "    if row.item('lower') > truth or row.item('upper') < truth:\n",
    "        color = 'red'\n",
    "    else:\n",
    "        color = 'green'\n",
    "    plots.plot((row.item('lower'), row.item('upper')),\n",
    "               (row.item('Number'), row.item('Number')),\n",
    "               color, lw=2)\n",
    "plots.plot((truth, truth), (0, intervals.num_rows), color='black', lw=3);\n",
    "plots.suptitle('95 percent confidence intervals:', y = 1)\n",
    "plots.title('We expect around \\n 95 of the 100 intervals to cover the true parameter');"
   ]
  },
  {
   "cell_type": "markdown",
   "id": "45385350-9bfd-4a36-96fd-da9fd86adda6",
   "metadata": {},
   "source": [
    "### How does *sample size* affect the confidence interval?"
   ]
  },
  {
   "cell_type": "markdown",
   "id": "813219ba-5ebd-4e82-9eda-1161c2b3dd90",
   "metadata": {},
   "source": [
    "You do not need to worry about understanding the mechanics of the plotting code in this section."
   ]
  },
  {
   "cell_type": "code",
   "execution_count": null,
   "id": "da9a939e-3a6b-4432-a4f2-6a23e38a926a",
   "metadata": {},
   "outputs": [],
   "source": [
    "intervals = Table(['Number', 'lower', 'upper', 'sample_size'])\n",
    "\n",
    "for n in [10, 20, 30, 50]:\n",
    "    for k in np.arange(intervals.num_rows, intervals.num_rows + 20):\n",
    "        interval = confidence_interval_95_display(n)\n",
    "        intervals = intervals.with_row([\n",
    "            k, interval.item(0), interval.item(1), n\n",
    "        ])"
   ]
  },
  {
   "cell_type": "code",
   "execution_count": null,
   "id": "5f0fc2ea-2dd9-4d8e-8923-fb20f85471e8",
   "metadata": {},
   "outputs": [],
   "source": [
    "intervals.scatter('lower', 'Number', group='sample_size')\n",
    "plots.xticks(np.arange(0))\n",
    "truth = population_median\n",
    "for row in intervals.rows:\n",
    "    if row.item('lower') > truth or row.item('upper') < truth:\n",
    "        color = 'red'\n",
    "    else:\n",
    "        color = 'silver'\n",
    "    plots.plot((row.item('lower'), row.item('upper')),\n",
    "               (row.item('Number'), row.item('Number')),\n",
    "               color, lw=2)\n",
    "plots.plot((truth, truth), (0, intervals.num_rows), color='black', lw=3);\n",
    "plots.suptitle('95 percent confidence intervals:', y = 1)\n",
    "plots.title('The larger the sample size, \\n the smaller the width!');"
   ]
  },
  {
   "cell_type": "markdown",
   "id": "d1328525-3f11-48c4-8800-7b19f07201e6",
   "metadata": {},
   "source": [
    "### How does *confidence level* affect the confidence interval?"
   ]
  },
  {
   "cell_type": "markdown",
   "id": "4d6b7399-4265-40c9-a4fa-1c42c0aa05bf",
   "metadata": {},
   "source": [
    "You do not need to worry about understanding the mechanics of the plotting code in this section."
   ]
  },
  {
   "cell_type": "code",
   "execution_count": null,
   "id": "a01baf05-1bfa-41c7-b12f-082560a065d2",
   "metadata": {},
   "outputs": [],
   "source": [
    "def confidence_interval_sample_30_display(confidence_level):\n",
    "    \n",
    "    original_sample = population.sample(30, with_replacement=False)\n",
    "    \n",
    "    bootstrap_stats = make_array()\n",
    "    for i in np.arange(1000):\n",
    "        next_bs_sample = original_sample.sample(k = original_sample.num_rows, with_replacement = True)\n",
    "        bootstrap_stats = np.append(bootstrap_stats, \n",
    "                                   percentile(50,next_bs_sample.column('Total Compensation')))\n",
    "\n",
    "    left = percentile((100-confidence_level)/2, bootstrap_stats)\n",
    "    \n",
    "    right = percentile(100 - (100-confidence_level)/2, \n",
    "                       bootstrap_stats)\n",
    "    \n",
    "    return make_array(left, right)\n"
   ]
  },
  {
   "cell_type": "code",
   "execution_count": null,
   "id": "25518820-e127-4104-bbd2-caff4d2f952e",
   "metadata": {},
   "outputs": [],
   "source": [
    "intervals = Table(['Number', 'lower', 'upper', 'conf_level'])\n",
    "\n",
    "for n in [80, 85, 90, 95]:\n",
    "    for k in np.arange(intervals.num_rows, intervals.num_rows + 20):\n",
    "        interval = confidence_interval_sample_30_display(n)\n",
    "        intervals = intervals.with_row([\n",
    "            k, interval.item(0), interval.item(1), n\n",
    "        ])"
   ]
  },
  {
   "cell_type": "code",
   "execution_count": null,
   "id": "87c3c6ce-c4a8-45ac-97be-c3bcac7b7506",
   "metadata": {},
   "outputs": [],
   "source": [
    "intervals.scatter('lower', 'Number', group='conf_level')\n",
    "plots.xticks(np.arange(0))\n",
    "truth = population_median\n",
    "for row in intervals.rows:\n",
    "    if row.item('lower') > truth or row.item('upper') < truth:\n",
    "        color = 'red'\n",
    "    else:\n",
    "        color = 'silver'\n",
    "    plots.plot((row.item('lower'), row.item('upper')),\n",
    "               (row.item('Number'), row.item('Number')),\n",
    "               color, lw=2)\n",
    "plots.plot((truth, truth), (0, intervals.num_rows), color='black', lw=3);\n",
    "plots.suptitle('Confidence intervals from a sample of size 30:', y = 1)\n",
    "plots.title('The larger the conf level, \\n the larger the width!');"
   ]
  },
  {
   "cell_type": "markdown",
   "id": "2db91047-d80c-4ed1-b41d-afebdc3d5c64",
   "metadata": {},
   "source": [
    "______"
   ]
  },
  {
   "cell_type": "markdown",
   "id": "419d8000-b799-4777-b558-756800f7c075",
   "metadata": {},
   "source": [
    "### Make sure you interpret the confidence interval correctly!"
   ]
  },
  {
   "cell_type": "code",
   "execution_count": null,
   "id": "ed6bcbdc-4e46-4361-8c6a-a9f4bebb2d8d",
   "metadata": {},
   "outputs": [],
   "source": [
    "births = Table.read_table('baby.csv')\n",
    "births.show(6)"
   ]
  },
  {
   "cell_type": "code",
   "execution_count": null,
   "id": "3baf9086-0774-4d38-b5fe-ba8b72228cba",
   "metadata": {},
   "outputs": [],
   "source": [
    "plots.style.use('fivethirtyeight')"
   ]
  },
  {
   "cell_type": "code",
   "execution_count": null,
   "id": "de3bfa44-dd91-43d9-8a49-ce930e322b8a",
   "metadata": {},
   "outputs": [],
   "source": [
    "births.hist('Maternal Age')"
   ]
  },
  {
   "cell_type": "code",
   "execution_count": null,
   "id": "efcf5fb4-3b52-405a-bae1-88daf7710aae",
   "metadata": {},
   "outputs": [],
   "source": [
    "np.average(births.column('Maternal Age'))"
   ]
  },
  {
   "cell_type": "markdown",
   "id": "ff3192d9-2b4e-443b-a1f9-20c74f468ab9",
   "metadata": {},
   "source": [
    "**Task**: Find a 95 percent confidence interval for the average age of all mothers whose babies are born in this hospital system."
   ]
  },
  {
   "cell_type": "code",
   "execution_count": null,
   "id": "2536f110-f88d-4dad-ac1c-b2f312198c6e",
   "metadata": {},
   "outputs": [],
   "source": [
    "bootstrapped_means = bootstrapped_statistics(births,'Maternal Age', np.average)"
   ]
  },
  {
   "cell_type": "code",
   "execution_count": null,
   "id": "ffb4a880-b49a-4878-aca5-d2c914b3490e",
   "metadata": {},
   "outputs": [],
   "source": [
    "make_array(percentile(2.5,bootstrapped_means),percentile(97.5,bootstrapped_means))"
   ]
  },
  {
   "cell_type": "code",
   "execution_count": null,
   "id": "7f9f601c-d906-4670-ab69-ca8714491e11",
   "metadata": {},
   "outputs": [],
   "source": [
    "resampled_means = Table().with_columns(\n",
    "    'Bootstrap Sample Mean', bootstrapped_means\n",
    ")\n",
    "resampled_means.hist(bins=15)\n",
    "plots.plot([percentile(2.5,bootstrapped_means), \n",
    "            percentile(97.5,bootstrapped_means)], [0, 0], color='red', lw=8);\n",
    "plots.suptitle('95 percent confidence interval:', y = 1.05)\n",
    "plots.title(\"This time, we don't know whether we have covered \\n the true value!\");"
   ]
  },
  {
   "cell_type": "markdown",
   "id": "d8078b28-6c6b-4e1f-9509-9db5ab845bd3",
   "metadata": {},
   "source": [
    "### Confidence intervals can be used for hypothesis testing!"
   ]
  },
  {
   "cell_type": "markdown",
   "id": "490011a1-ff24-44cf-9349-b4e89d4c866b",
   "metadata": {},
   "source": [
    "**Discussion Hypothesis Test Setup**: \n",
    "\n",
    "- Null hypothesis: The average age of mothers in the population is 27 years; the random sample average is different due to chance.\n",
    "\n",
    "- Alternative hypothesis: The average age of the mothers in the population is not 27 years.\n",
    "\n",
    "- *p*-value cutoff: 5% \n"
   ]
  },
  {
   "cell_type": "markdown",
   "id": "7b6796de-8577-4028-9a64-e96a1592946d",
   "metadata": {},
   "source": [
    "### The bootstrap method is not perfect!\n",
    "\n",
    "- Back to the SF compensation table. Again, we have the population parameter, so we can use this to see how the bootstrap might fail.\n",
    "\n",
    "- Here are a few of the cases which were discussed in the slides."
   ]
  },
  {
   "cell_type": "markdown",
   "id": "e629883a-b7c1-49d2-b5de-1b6bf46356b8",
   "metadata": {},
   "source": [
    "#### Potential failure case: quantity is calculated from rare subjects of the population "
   ]
  },
  {
   "cell_type": "code",
   "execution_count": null,
   "id": "f6e7cd8f-3213-4836-9f20-a1bc18130ee6",
   "metadata": {},
   "outputs": [],
   "source": [
    "population_max = np.max(population.column('Total Compensation'))\n",
    "population_max"
   ]
  },
  {
   "cell_type": "code",
   "execution_count": null,
   "id": "7c0d144c-7a8d-44ce-b42f-a37f4c4f7370",
   "metadata": {},
   "outputs": [],
   "source": [
    "sample_size = 400\n",
    "original_sample = population.sample(sample_size, with_replacement=False)"
   ]
  },
  {
   "cell_type": "code",
   "execution_count": null,
   "id": "e51a93e8-eb49-4c6d-89ef-52ff17bf8ae6",
   "metadata": {},
   "outputs": [],
   "source": [
    "bootstrap_confidence_interval(original_sample,'Total Compensation', np.max, 95)"
   ]
  },
  {
   "cell_type": "markdown",
   "id": "52d9206b-a1e8-4865-bdaa-9c523276552b",
   "metadata": {},
   "source": [
    "#### Potential failure case: original sample size is too small"
   ]
  },
  {
   "cell_type": "code",
   "execution_count": null,
   "id": "d471e7e0-593d-434a-8e0e-c8300f8c2d3e",
   "metadata": {},
   "outputs": [],
   "source": [
    "population_mean = np.average(population.column('Total Compensation'))\n",
    "population_mean"
   ]
  },
  {
   "cell_type": "code",
   "execution_count": null,
   "id": "67bc2fd4-adac-46b1-af7c-e5347aa30504",
   "metadata": {},
   "outputs": [],
   "source": [
    "sample_size = 5\n",
    "original_sample = population.sample(sample_size, with_replacement=False)"
   ]
  },
  {
   "cell_type": "code",
   "execution_count": null,
   "id": "8ac8449e-d8e3-4cb3-9278-8f3dc1082541",
   "metadata": {},
   "outputs": [],
   "source": [
    "bootstrap_confidence_interval(original_sample,'Total Compensation', np.average, 95)"
   ]
  }
 ],
 "metadata": {
  "kernelspec": {
   "display_name": "Python 3 (ipykernel)",
   "language": "python",
   "name": "python3"
  },
  "language_info": {
   "codemirror_mode": {
    "name": "ipython",
    "version": 3
   },
   "file_extension": ".py",
   "mimetype": "text/x-python",
   "name": "python",
   "nbconvert_exporter": "python",
   "pygments_lexer": "ipython3",
   "version": "3.12.4"
  }
 },
 "nbformat": 4,
 "nbformat_minor": 5
}
