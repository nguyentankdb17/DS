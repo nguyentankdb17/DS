{
 "cells": [
  {
   "cell_type": "code",
   "execution_count": null,
   "id": "bd14fe40-1675-4a10-b600-3815e2c3d118",
   "metadata": {},
   "outputs": [],
   "source": [
    "from datascience import *\n",
    "import numpy as np\n",
    "import warnings\n",
    "warnings.filterwarnings(\"ignore\")\n",
    "\n",
    "%matplotlib inline\n",
    "import matplotlib.pyplot as plots\n",
    "plots.style.use('fivethirtyeight')\n",
    "plots.rcParams[\"patch.force_edgecolor\"] = True"
   ]
  },
  {
   "cell_type": "markdown",
   "id": "8f0e96a9-28a1-4d0f-8282-d843f614586e",
   "metadata": {},
   "source": [
    "## Review\n",
    "- Conducted at https://pollev.com/jeremysanchez during class time"
   ]
  },
  {
   "cell_type": "markdown",
   "id": "6d62098d-ff44-43b5-9623-05f9d7279026",
   "metadata": {},
   "source": [
    "## New material"
   ]
  },
  {
   "cell_type": "markdown",
   "id": "d28c2f35-8591-491e-bb90-44eba0365c98",
   "metadata": {},
   "source": [
    "### Every variable has a distribution"
   ]
  },
  {
   "cell_type": "code",
   "execution_count": null,
   "id": "3767385b-a853-43dc-b158-cf3208541b9a",
   "metadata": {},
   "outputs": [],
   "source": [
    "top_movies = Table.read_table('top_movies_2017.csv')\n",
    "top_movies.show(6)"
   ]
  },
  {
   "cell_type": "code",
   "execution_count": null,
   "id": "e62cfa1a-2d4a-4135-b66e-e6af2b23ab0f",
   "metadata": {},
   "outputs": [],
   "source": [
    "studio_distribution = top_movies.group('Studio')"
   ]
  },
  {
   "cell_type": "code",
   "execution_count": null,
   "id": "a807979e-5701-48c3-965f-7bb864b77496",
   "metadata": {},
   "outputs": [],
   "source": [
    "studio_distribution.show(6)"
   ]
  },
  {
   "cell_type": "markdown",
   "id": "c6be9300-5897-4a43-be83-31abd0234ead",
   "metadata": {},
   "source": [
    "### Visualizing distributions"
   ]
  },
  {
   "cell_type": "markdown",
   "id": "7e24ab91-b28f-41c8-9ed1-1eaefc43610a",
   "metadata": {},
   "source": [
    "#### **Task:** Visualize the distribution of studios responsible for the highest grossing movies as of 2017."
   ]
  },
  {
   "cell_type": "code",
   "execution_count": null,
   "id": "8f627e6d-0b9a-4e3f-8630-c42e57308f04",
   "metadata": {},
   "outputs": [],
   "source": [
    "studio_distribution.barh('Studio')"
   ]
  },
  {
   "cell_type": "code",
   "execution_count": null,
   "id": "15cbe2cf-3460-4693-b209-47152b1e4abc",
   "metadata": {},
   "outputs": [],
   "source": [
    "studio_distribution.sort('count', descending=True).barh('Studio')\n",
    "print(\"Five studios are largely responsible for the highest grossing movies\")"
   ]
  },
  {
   "cell_type": "markdown",
   "id": "81941bd1-e61e-4784-b0ff-33ee8dcd0250",
   "metadata": {},
   "source": [
    "_____"
   ]
  },
  {
   "cell_type": "markdown",
   "id": "01570b82-818e-4755-89e0-264df0fb9735",
   "metadata": {},
   "source": [
    "### Use binning for numerical distributions"
   ]
  },
  {
   "cell_type": "markdown",
   "id": "fc115f25-7244-4dad-8c8b-f094cb5fd6f4",
   "metadata": {},
   "source": [
    "#### **Task**: Visualize the distribution of how long the highest grossing movies as of 2017 have been out (in years)."
   ]
  },
  {
   "cell_type": "code",
   "execution_count": null,
   "id": "8b303b83-8625-45d5-82e6-c5076440efde",
   "metadata": {},
   "outputs": [],
   "source": [
    "ages = 2022 - top_movies.column('Year')"
   ]
  },
  {
   "cell_type": "code",
   "execution_count": null,
   "id": "0d65d141-b44e-4e3a-9e03-b1f511d80f82",
   "metadata": {},
   "outputs": [],
   "source": [
    "top_movies = top_movies.with_column('Age', ages)"
   ]
  },
  {
   "cell_type": "code",
   "execution_count": null,
   "id": "4ff7b3d7-c92b-4607-a618-f933ba8e51fc",
   "metadata": {},
   "outputs": [],
   "source": [
    "top_movies.select('Title', 'Age').show(6)"
   ]
  },
  {
   "cell_type": "code",
   "execution_count": null,
   "id": "537495ee-34e2-49be-a435-94acb825bc69",
   "metadata": {},
   "outputs": [],
   "source": [
    "min(ages), max(ages)"
   ]
  },
  {
   "cell_type": "markdown",
   "id": "97679f38-a9d2-4bce-8a76-056153ecc595",
   "metadata": {},
   "source": [
    "- If you want to make equally sized bins, `np.arange()` is a great tool to help you."
   ]
  },
  {
   "cell_type": "code",
   "execution_count": null,
   "id": "514046e3-2b18-4cad-a23f-a374bdee3772",
   "metadata": {},
   "outputs": [],
   "source": [
    "top_movies.hist('Age', bins = np.arange(0, 110, 10), unit = 'Year')"
   ]
  },
  {
   "cell_type": "markdown",
   "id": "7d507ea2-59cd-4d02-81e7-da7ff303dc1e",
   "metadata": {},
   "source": [
    "- Otherwise, you can pick your own bins. These are just bins that we picked out.\n"
   ]
  },
  {
   "cell_type": "code",
   "execution_count": null,
   "id": "4439de01-50cd-4364-b232-636abb82bb45",
   "metadata": {},
   "outputs": [],
   "source": [
    "my_bins = make_array(0, 5, 10, 15, 25, 40, 65, 101)"
   ]
  },
  {
   "cell_type": "code",
   "execution_count": null,
   "id": "18fbfe8f-f468-422d-8c53-5483443ed8a5",
   "metadata": {},
   "outputs": [],
   "source": [
    "binned_data = top_movies.bin('Age', bins = my_bins)\n",
    "binned_data"
   ]
  },
  {
   "cell_type": "markdown",
   "id": "e872d3f5-3e31-40f6-a744-199c84b067af",
   "metadata": {},
   "source": [
    "**Note:** The last bin does not include any observations!! \n",
    " - This is because $101$ is the right endpoint of the last bin. It is not the beginning of any bin."
   ]
  },
  {
   "cell_type": "markdown",
   "id": "06e9691c-0998-4cc8-8b2e-77025271f2f2",
   "metadata": {},
   "source": [
    "### Introducing the histogram"
   ]
  },
  {
   "cell_type": "code",
   "execution_count": null,
   "id": "54c02a32-db42-445c-a245-de759f57f70f",
   "metadata": {},
   "outputs": [],
   "source": [
    "top_movies.hist('Age', bins = my_bins, unit = 'Year')"
   ]
  },
  {
   "cell_type": "markdown",
   "id": "43c12e6b-ceb3-4c57-9196-84baee6e725e",
   "metadata": {},
   "source": [
    "#### **Discussion Question (1 min)**: Compare the bins $[25, 40)$ and $[40, 65)$. \n",
    "\n",
    "- Which one has more movies?\n",
    "- Which one is more crowded?"
   ]
  },
  {
   "cell_type": "code",
   "execution_count": null,
   "id": "f9dc4076-ef5a-40ac-afb3-901b7550e06a",
   "metadata": {},
   "outputs": [],
   "source": []
  },
  {
   "cell_type": "markdown",
   "id": "59b2dc20-aa42-4a44-ad08-8035b82201a0",
   "metadata": {},
   "source": [
    "____"
   ]
  },
  {
   "cell_type": "markdown",
   "id": "37040a3d-e718-4654-a733-83c164f90ff8",
   "metadata": {},
   "source": [
    "#### **Task**: Find the height of the $[40,65)$ bin in the histogram above."
   ]
  },
  {
   "cell_type": "markdown",
   "id": "36338332-284e-4767-b96c-bb6d4f40d5ca",
   "metadata": {},
   "source": [
    "$$\\text{height} = \\frac{\\text{percent}}{\\text{width}}$$"
   ]
  },
  {
   "cell_type": "markdown",
   "id": "82b37ead-98dd-4129-8490-702f1305208a",
   "metadata": {},
   "source": [
    "Add a column containing what percent of movies are in each bin (the **area** of each bin)"
   ]
  },
  {
   "cell_type": "code",
   "execution_count": null,
   "id": "102daaa4-cbc6-4867-9fbf-c5f936a87c3b",
   "metadata": {},
   "outputs": [],
   "source": [
    "binned_data = binned_data.with_column('Percent', 100*binned_data.column('Age count')/200)"
   ]
  },
  {
   "cell_type": "code",
   "execution_count": null,
   "id": "6c5e39ab-3c2e-4245-8348-fb2e61a7ebb0",
   "metadata": {},
   "outputs": [],
   "source": [
    "binned_data.show(3)"
   ]
  },
  {
   "cell_type": "code",
   "execution_count": null,
   "id": "272c2c69-5c11-4dc6-a3c9-4d14a27b6b28",
   "metadata": {},
   "outputs": [],
   "source": [
    "percent = binned_data.where('bin', 40).column('Percent').item(0)"
   ]
  },
  {
   "cell_type": "code",
   "execution_count": null,
   "id": "60b5258a-be17-48c5-aa0f-eecc2d1f9ebd",
   "metadata": {},
   "outputs": [],
   "source": [
    "width = 65-40\n",
    "height = percent / width"
   ]
  },
  {
   "cell_type": "code",
   "execution_count": null,
   "id": "f929f09c-dc83-481c-93fa-2f66591cf96f",
   "metadata": {},
   "outputs": [],
   "source": [
    "height"
   ]
  },
  {
   "cell_type": "markdown",
   "id": "396b9009-1109-45da-a290-93e30963ec51",
   "metadata": {},
   "source": [
    "#### **Task**: Find the heights of the (rest of the) bins."
   ]
  },
  {
   "cell_type": "markdown",
   "id": "0eaba517-2c26-4213-b106-0ab1f2a9acec",
   "metadata": {},
   "source": [
    "$$\\text{height} = \\frac{\\text{percent}}{\\text{width}}$$"
   ]
  },
  {
   "cell_type": "code",
   "execution_count": null,
   "id": "6b413885-39d0-4dc7-8c7d-bfd0a2f51ede",
   "metadata": {},
   "outputs": [],
   "source": [
    "height_table = binned_data.take(np.arange(binned_data.num_rows - 1))\n",
    "height_table "
   ]
  },
  {
   "cell_type": "code",
   "execution_count": null,
   "id": "779fd557-6308-42be-aed5-2eaf2bda5329",
   "metadata": {},
   "outputs": [],
   "source": [
    "bin_widths = np.diff(binned_data.column('bin'))"
   ]
  },
  {
   "cell_type": "code",
   "execution_count": null,
   "id": "3c36b022-8f57-4399-891a-95ac2f214172",
   "metadata": {},
   "outputs": [],
   "source": [
    "bin_widths"
   ]
  },
  {
   "cell_type": "code",
   "execution_count": null,
   "id": "dac9e89e-d92c-4942-8004-4fed1378bb12",
   "metadata": {},
   "outputs": [],
   "source": [
    "height_table = height_table.with_column('Width', bin_widths)\n",
    "height_table"
   ]
  },
  {
   "cell_type": "code",
   "execution_count": null,
   "id": "fe39a09e-4309-4c41-a5b0-73f0b4f2a9a6",
   "metadata": {},
   "outputs": [],
   "source": [
    "height_table = height_table.with_column('Height',\n",
    "                                        height_table.column('Percent')/height_table.column('Width'))"
   ]
  },
  {
   "cell_type": "code",
   "execution_count": null,
   "id": "840137d5-6c87-4a98-9fe8-94e5f7c92854",
   "metadata": {},
   "outputs": [],
   "source": [
    "height_table"
   ]
  },
  {
   "cell_type": "markdown",
   "id": "fd52024c-59ae-4dd3-a067-9fd3a9c5fc20",
   "metadata": {},
   "source": [
    "To check our work one last time:"
   ]
  },
  {
   "cell_type": "code",
   "execution_count": null,
   "id": "7030a73a-ce07-493b-809b-cf6d64efb631",
   "metadata": {},
   "outputs": [],
   "source": [
    "top_movies.hist('Age', bins = my_bins, unit = 'Year')"
   ]
  }
 ],
 "metadata": {
  "kernelspec": {
   "display_name": "Python 3 (ipykernel)",
   "language": "python",
   "name": "python3"
  },
  "language_info": {
   "codemirror_mode": {
    "name": "ipython",
    "version": 3
   },
   "file_extension": ".py",
   "mimetype": "text/x-python",
   "name": "python",
   "nbconvert_exporter": "python",
   "pygments_lexer": "ipython3",
   "version": "3.12.4"
  }
 },
 "nbformat": 4,
 "nbformat_minor": 5
}
