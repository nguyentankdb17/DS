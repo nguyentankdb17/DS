{
 "cells": [
  {
   "cell_type": "code",
   "execution_count": 1,
   "id": "01437af7-c222-4796-aebb-e18d6ffe7aee",
   "metadata": {},
   "outputs": [],
   "source": [
    "from datascience import *\n",
    "import numpy as np\n",
    "\n",
    "%matplotlib inline\n",
    "import matplotlib.pyplot as plots\n",
    "plots.style.use('fivethirtyeight')\n",
    "\n",
    "import warnings\n",
    "warnings.simplefilter(\"ignore\")"
   ]
  },
  {
   "cell_type": "markdown",
   "id": "4ad127cf-743b-4d75-bda7-8641a8a0aa49",
   "metadata": {},
   "source": [
    "## Review"
   ]
  },
  {
   "cell_type": "code",
   "execution_count": 2,
   "id": "35a3e098-0aab-414d-ab62-f3770e616405",
   "metadata": {},
   "outputs": [],
   "source": [
    "welcome_survey = Table().read_table(\"welcome-survey.csv\")"
   ]
  },
  {
   "cell_type": "code",
   "execution_count": 3,
   "id": "3543dbc9-080b-48c3-9bc8-28ac5ba57767",
   "metadata": {},
   "outputs": [
    {
     "data": {
      "text/html": [
       "<table border=\"1\" class=\"dataframe\">\n",
       "    <thead>\n",
       "        <tr>\n",
       "            <th>Year</th> <th>Minority</th> <th>Major</th> <th>Programming</th> <th>Programming.Affinity</th> <th>Statistics</th> <th>Letter.Grade</th> <th>Requirement</th> <th>Birthday</th> <th>Extrovert</th> <th>People.Texted</th> <th>Hours.of.Sleep</th> <th>Handedness</th> <th>Sleep.Position</th> <th>Pets</th> <th>Piercings</th> <th>Languages</th>\n",
       "        </tr>\n",
       "    </thead>\n",
       "    <tbody>\n",
       "        <tr>\n",
       "            <td>First Year </td> <td>No      </td> <td>Business, Cognitive Science</td> <td>False      </td> <td>2                   </td> <td>True      </td> <td>Yes         </td> <td>Yes        </td> <td>9/22    </td> <td>5        </td> <td>3            </td> <td>8             </td> <td>Right-handed</td> <td>On your back      </td> <td>False</td> <td>0        </td> <td>3        </td>\n",
       "        </tr>\n",
       "        <tr>\n",
       "            <td>Second Year</td> <td>No      </td> <td>Applied Math, Physics      </td> <td>False      </td> <td>3                   </td> <td>False     </td> <td>Yes         </td> <td>No         </td> <td>2/11    </td> <td>8        </td> <td>20           </td> <td>7             </td> <td>Right-handed</td> <td>On your right side</td> <td>True </td> <td>2        </td> <td>2        </td>\n",
       "        </tr>\n",
       "        <tr>\n",
       "            <td>First Year </td> <td>Yes     </td> <td>Applied Math               </td> <td>False      </td> <td>1                   </td> <td>False     </td> <td>Maybe       </td> <td>Yes        </td> <td>5/24    </td> <td>5        </td> <td>4            </td> <td>8             </td> <td>Right-handed</td> <td>On your left side </td> <td>True </td> <td>5        </td> <td>3        </td>\n",
       "        </tr>\n",
       "        <tr>\n",
       "            <td>Second Year</td> <td>No      </td> <td>Chemical Engineering       </td> <td>True       </td> <td>4                   </td> <td>True      </td> <td>Yes         </td> <td>Yes        </td> <td>10/12   </td> <td>8        </td> <td>7            </td> <td>6             </td> <td>Right-handed</td> <td>On your stomach   </td> <td>True </td> <td>0        </td> <td>1        </td>\n",
       "        </tr>\n",
       "        <tr>\n",
       "            <td>First Year </td> <td>No      </td> <td>Data Science               </td> <td>True       </td> <td>3                   </td> <td>False     </td> <td>Yes         </td> <td>Yes        </td> <td>3/31    </td> <td>5        </td> <td>4            </td> <td>8             </td> <td>Right-handed</td> <td>On your right side</td> <td>False</td> <td>0        </td> <td>2        </td>\n",
       "        </tr>\n",
       "    </tbody>\n",
       "</table>\n",
       "<p>... (1031 rows omitted)</p>"
      ],
      "text/plain": [
       "<IPython.core.display.HTML object>"
      ]
     },
     "metadata": {},
     "output_type": "display_data"
    }
   ],
   "source": [
    "welcome_survey.show(5)"
   ]
  },
  {
   "cell_type": "markdown",
   "id": "91dc1235-9b3f-4659-9bec-03313d6d7db9",
   "metadata": {},
   "source": [
    "## **Task 1:** \n",
    "\n",
    "- Find the proportion of Data 8 students in the survey who have coding experience."
   ]
  },
  {
   "cell_type": "markdown",
   "id": "a25d5f23-c28c-4711-8b97-a7f602f0848e",
   "metadata": {},
   "source": [
    "Find the **proportion** of Data 8 students in the survey **who have coding experience**."
   ]
  },
  {
   "cell_type": "markdown",
   "id": "631160fd-d2b8-44be-8d49-6256e1a96c4a",
   "metadata": {},
   "source": [
    "1. What should our final answer look like?\n",
    "2. What is a route(s) we can take to get to our final answer? [2 mins]"
   ]
  },
  {
   "cell_type": "code",
   "execution_count": 90,
   "id": "35b8f8a3-566e-4478-8250-f6ccffee1a52",
   "metadata": {},
   "outputs": [
    {
     "data": {
      "text/plain": [
       "0.56467181467181471"
      ]
     },
     "execution_count": 90,
     "metadata": {},
     "output_type": "execute_result"
    }
   ],
   "source": [
    "programming_table = welcome_survey.group('Programming')\n",
    "programming_table.column('count').item(1)/np.sum(programming_table.column('count'))"
   ]
  },
  {
   "cell_type": "code",
   "execution_count": 68,
   "id": "853ffce6-ed9d-417d-8557-48a397cbe7e9",
   "metadata": {},
   "outputs": [
    {
     "data": {
      "text/plain": [
       "0.56467181467181471"
      ]
     },
     "execution_count": 68,
     "metadata": {},
     "output_type": "execute_result"
    }
   ],
   "source": [
    "np.average(welcome_survey.column('Programming'))"
   ]
  },
  {
   "cell_type": "code",
   "execution_count": 80,
   "id": "b0704b1f-91b2-4a6a-aa22-16c5adb3639a",
   "metadata": {},
   "outputs": [
    {
     "data": {
      "text/plain": [
       "0.5646718146718147"
      ]
     },
     "execution_count": 80,
     "metadata": {},
     "output_type": "execute_result"
    }
   ],
   "source": [
    "np.count_nonzero(welcome_survey.column('Programming'))/np.size(welcome_survey.column('Programming'))"
   ]
  },
  {
   "cell_type": "markdown",
   "id": "f2d50018-3d4a-4372-9101-bbbdd5ee6873",
   "metadata": {},
   "source": [
    "____"
   ]
  },
  {
   "cell_type": "code",
   "execution_count": 100,
   "id": "017e68c4-7a37-4b19-a397-43562ea69ce0",
   "metadata": {},
   "outputs": [
    {
     "data": {
      "text/html": [
       "<table border=\"1\" class=\"dataframe\">\n",
       "    <thead>\n",
       "        <tr>\n",
       "            <th>Year</th> <th>Minority</th> <th>Major</th> <th>Programming</th> <th>Programming.Affinity</th> <th>Statistics</th> <th>Letter.Grade</th> <th>Requirement</th> <th>Birthday</th> <th>Extrovert</th> <th>People.Texted</th> <th>Hours.of.Sleep</th> <th>Handedness</th> <th>Sleep.Position</th> <th>Pets</th> <th>Piercings</th> <th>Languages</th> <th>Piercing?</th>\n",
       "        </tr>\n",
       "    </thead>\n",
       "    <tbody>\n",
       "        <tr>\n",
       "            <td>First Year </td> <td>No          </td> <td>Business, Cognitive Science</td> <td>False      </td> <td>2                   </td> <td>True      </td> <td>Yes         </td> <td>Yes        </td> <td>9/22    </td> <td>5        </td> <td>3            </td> <td>8             </td> <td>Right-handed</td> <td>On your back      </td> <td>False</td> <td>0        </td> <td>3        </td> <td>False    </td>\n",
       "        </tr>\n",
       "        <tr>\n",
       "            <td>Second Year</td> <td>No          </td> <td>Applied Math, Physics      </td> <td>False      </td> <td>3                   </td> <td>False     </td> <td>Yes         </td> <td>No         </td> <td>2/11    </td> <td>8        </td> <td>20           </td> <td>7             </td> <td>Right-handed</td> <td>On your right side</td> <td>True </td> <td>2        </td> <td>2        </td> <td>True     </td>\n",
       "        </tr>\n",
       "        <tr>\n",
       "            <td>First Year </td> <td>Yes         </td> <td>Applied Math               </td> <td>False      </td> <td>1                   </td> <td>False     </td> <td>Maybe       </td> <td>Yes        </td> <td>5/24    </td> <td>5        </td> <td>4            </td> <td>8             </td> <td>Right-handed</td> <td>On your left side </td> <td>True </td> <td>5        </td> <td>3        </td> <td>True     </td>\n",
       "        </tr>\n",
       "        <tr>\n",
       "            <td>Second Year</td> <td>No          </td> <td>Chemical Engineering       </td> <td>True       </td> <td>4                   </td> <td>True      </td> <td>Yes         </td> <td>Yes        </td> <td>10/12   </td> <td>8        </td> <td>7            </td> <td>6             </td> <td>Right-handed</td> <td>On your stomach   </td> <td>True </td> <td>0        </td> <td>1        </td> <td>False    </td>\n",
       "        </tr>\n",
       "        <tr>\n",
       "            <td>First Year </td> <td>No          </td> <td>Data Science               </td> <td>True       </td> <td>3                   </td> <td>False     </td> <td>Yes         </td> <td>Yes        </td> <td>3/31    </td> <td>5        </td> <td>4            </td> <td>8             </td> <td>Right-handed</td> <td>On your right side</td> <td>False</td> <td>0        </td> <td>2        </td> <td>False    </td>\n",
       "        </tr>\n",
       "        <tr>\n",
       "            <td>Third Year </td> <td>I don't know</td> <td>Molecular and Cell Biology </td> <td>False      </td> <td>2                   </td> <td>True      </td> <td>Yes         </td> <td>Yes        </td> <td>7/17    </td> <td>1        </td> <td>2            </td> <td>6             </td> <td>Right-handed</td> <td>On your back      </td> <td>False</td> <td>2        </td> <td>2        </td> <td>True     </td>\n",
       "        </tr>\n",
       "        <tr>\n",
       "            <td>First Year </td> <td>No          </td> <td>Statistics                 </td> <td>True       </td> <td>2                   </td> <td>True      </td> <td>Yes         </td> <td>Yes        </td> <td>6/6     </td> <td>2        </td> <td>2            </td> <td>8             </td> <td>Left-handed </td> <td>On your right side</td> <td>False</td> <td>4        </td> <td>1        </td> <td>True     </td>\n",
       "        </tr>\n",
       "        <tr>\n",
       "            <td>Third Year </td> <td>Yes         </td> <td>Molecular and Cell Biology </td> <td>False      </td> <td>2                   </td> <td>True      </td> <td>Yes         </td> <td>Yes        </td> <td>4/18    </td> <td>7        </td> <td>5            </td> <td>8             </td> <td>Right-handed</td> <td>On your right side</td> <td>True </td> <td>2        </td> <td>6        </td> <td>True     </td>\n",
       "        </tr>\n",
       "        <tr>\n",
       "            <td>First Year </td> <td>No          </td> <td>Data Science               </td> <td>True       </td> <td>4                   </td> <td>True      </td> <td>Yes         </td> <td>Yes        </td> <td>1/1     </td> <td>6        </td> <td>3            </td> <td>7.5           </td> <td>Right-handed</td> <td>On your right side</td> <td>True </td> <td>0        </td> <td>4        </td> <td>False    </td>\n",
       "        </tr>\n",
       "        <tr>\n",
       "            <td>First Year </td> <td>Yes         </td> <td>Computer Science           </td> <td>True       </td> <td>4                   </td> <td>False     </td> <td>Yes         </td> <td>Yes        </td> <td>10/17   </td> <td>6        </td> <td>10           </td> <td>7             </td> <td>Right-handed</td> <td>On your right side</td> <td>True </td> <td>0        </td> <td>2        </td> <td>False    </td>\n",
       "        </tr>\n",
       "    </tbody>\n",
       "</table>\n",
       "<p>... (1026 rows omitted)</p>"
      ],
      "text/plain": [
       "Year        | Minority     | Major                       | Programming | Programming.Affinity | Statistics | Letter.Grade | Requirement | Birthday | Extrovert | People.Texted | Hours.of.Sleep | Handedness   | Sleep.Position     | Pets  | Piercings | Languages | Piercing?\n",
       "First Year  | No           | Business, Cognitive Science | False       | 2                    | True       | Yes          | Yes         | 9/22     | 5         | 3             | 8              | Right-handed | On your back       | False | 0         | 3         | False\n",
       "Second Year | No           | Applied Math, Physics       | False       | 3                    | False      | Yes          | No          | 2/11     | 8         | 20            | 7              | Right-handed | On your right side | True  | 2         | 2         | True\n",
       "First Year  | Yes          | Applied Math                | False       | 1                    | False      | Maybe        | Yes         | 5/24     | 5         | 4             | 8              | Right-handed | On your left side  | True  | 5         | 3         | True\n",
       "Second Year | No           | Chemical Engineering        | True        | 4                    | True       | Yes          | Yes         | 10/12    | 8         | 7             | 6              | Right-handed | On your stomach    | True  | 0         | 1         | False\n",
       "First Year  | No           | Data Science                | True        | 3                    | False      | Yes          | Yes         | 3/31     | 5         | 4             | 8              | Right-handed | On your right side | False | 0         | 2         | False\n",
       "Third Year  | I don't know | Molecular and Cell Biology  | False       | 2                    | True       | Yes          | Yes         | 7/17     | 1         | 2             | 6              | Right-handed | On your back       | False | 2         | 2         | True\n",
       "First Year  | No           | Statistics                  | True        | 2                    | True       | Yes          | Yes         | 6/6      | 2         | 2             | 8              | Left-handed  | On your right side | False | 4         | 1         | True\n",
       "Third Year  | Yes          | Molecular and Cell Biology  | False       | 2                    | True       | Yes          | Yes         | 4/18     | 7         | 5             | 8              | Right-handed | On your right side | True  | 2         | 6         | True\n",
       "First Year  | No           | Data Science                | True        | 4                    | True       | Yes          | Yes         | 1/1      | 6         | 3             | 7.5            | Right-handed | On your right side | True  | 0         | 4         | False\n",
       "First Year  | Yes          | Computer Science            | True        | 4                    | False      | Yes          | Yes         | 10/17    | 6         | 10            | 7              | Right-handed | On your right side | True  | 0         | 2         | False\n",
       "... (1026 rows omitted)"
      ]
     },
     "execution_count": 100,
     "metadata": {},
     "output_type": "execute_result"
    }
   ],
   "source": [
    "welcome_survey = welcome_survey.with_columns('Piercing?', welcome_survey.column('Piercings') > 0)\n",
    "welcome_survey"
   ]
  },
  {
   "cell_type": "markdown",
   "id": "6981c821-297d-4fbc-97c3-17a228b0d58d",
   "metadata": {},
   "source": [
    "## **Task 2:** \n",
    "\n",
    "- Using a visualization, compare the distributions of the `Piercing?` variable between those with programming experience and those without.\n",
    "\n",
    "1. What type of visualization should we use?\n",
    "2.  What should our final answer look like?\n",
    "     - In the `datascience` library, plots are generated from Tables.\n",
    "     - So, what should the table just before the plot look like?\n",
    "3. What is a route(s) we can take to this table? [2 min]\n"
   ]
  },
  {
   "cell_type": "markdown",
   "id": "be0d1b5e-78e1-40c4-a05a-166dec192ebf",
   "metadata": {},
   "source": [
    "Using a **visualization**, **compare the distributions** of the `Piercing?` variable **between those with programming experience and those without**."
   ]
  },
  {
   "cell_type": "markdown",
   "id": "2b7c1294-1ba8-4b38-950d-a2814992d272",
   "metadata": {},
   "source": [
    "1. What type of visualization should we use?\n",
    "2.  What should our final answer look like?\n",
    "     - In the `datascience` library, plots are generated from Tables.\n",
    "     - So, what should the table just before the plot look like?\n",
    "3. What is a route(s) we can take to this table? [2 min]"
   ]
  },
  {
   "cell_type": "code",
   "execution_count": 96,
   "id": "0483f739-7f48-4864-bdc9-cbb9e39b4b63",
   "metadata": {},
   "outputs": [
    {
     "data": {
      "text/html": [
       "<table border=\"1\" class=\"dataframe\">\n",
       "    <thead>\n",
       "        <tr>\n",
       "            <th>Programming</th> <th>Piercing?</th> <th>count</th>\n",
       "        </tr>\n",
       "    </thead>\n",
       "    <tbody>\n",
       "        <tr>\n",
       "            <td>False      </td> <td>False    </td> <td>173  </td>\n",
       "        </tr>\n",
       "        <tr>\n",
       "            <td>False      </td> <td>True     </td> <td>278  </td>\n",
       "        </tr>\n",
       "        <tr>\n",
       "            <td>True       </td> <td>False    </td> <td>349  </td>\n",
       "        </tr>\n",
       "        <tr>\n",
       "            <td>True       </td> <td>True     </td> <td>236  </td>\n",
       "        </tr>\n",
       "    </tbody>\n",
       "</table>"
      ],
      "text/plain": [
       "Programming | Piercing? | count\n",
       "False       | False     | 173\n",
       "False       | True      | 278\n",
       "True        | False     | 349\n",
       "True        | True      | 236"
      ]
     },
     "execution_count": 96,
     "metadata": {},
     "output_type": "execute_result"
    }
   ],
   "source": [
    "welcome_survey.group(['Programming', 'Piercing?'])"
   ]
  },
  {
   "cell_type": "code",
   "execution_count": 110,
   "id": "b9830e86-5bac-44b7-a5aa-7437957d4cea",
   "metadata": {},
   "outputs": [
    {
     "data": {
      "text/html": [
       "<table border=\"1\" class=\"dataframe\">\n",
       "    <thead>\n",
       "        <tr>\n",
       "            <th>Programming</th> <th>No Piercings</th> <th>At least one piercing</th>\n",
       "        </tr>\n",
       "    </thead>\n",
       "    <tbody>\n",
       "        <tr>\n",
       "            <td>False      </td> <td>173         </td> <td>278                  </td>\n",
       "        </tr>\n",
       "        <tr>\n",
       "            <td>True       </td> <td>349         </td> <td>236                  </td>\n",
       "        </tr>\n",
       "    </tbody>\n",
       "</table>"
      ],
      "text/plain": [
       "Programming | No Piercings | At least one piercing\n",
       "False       | 173          | 278\n",
       "True        | 349          | 236"
      ]
     },
     "execution_count": 110,
     "metadata": {},
     "output_type": "execute_result"
    }
   ],
   "source": [
    "welcome_survey.pivot('Piercing?',\n",
    "                     'Programming').relabeled('False','No Piercings').relabeled('True','At least one piercing')"
   ]
  },
  {
   "cell_type": "code",
   "execution_count": 111,
   "id": "be55c9d4-ad46-4a4a-b695-ac1cfc820225",
   "metadata": {},
   "outputs": [
    {
     "data": {
      "image/png": "[encoded data removed]",
      "text/plain": [
       "<Figure size 600x400 with 1 Axes>"
      ]
     },
     "metadata": {},
     "output_type": "display_data"
    }
   ],
   "source": [
    "pp_pivot = welcome_survey.pivot('Piercing?',\n",
    "                     'Programming')\n",
    "\n",
    "Table().with_columns('Programming', pp_pivot.column(0),\n",
    "                     'At least one piercing', pp_pivot.column(2),\n",
    "                     'No piercing', pp_pivot.column(1)).barh(0)"
   ]
  },
  {
   "cell_type": "markdown",
   "id": "7cfdae73-bd15-4bab-9b89-f85070320526",
   "metadata": {},
   "source": [
    "## **Task 3** (1D Random Walk):\n",
    "\n",
    "Prof Jeremy stands at a starting point for his walk of 100 steps. For each \"step\": he is equally likely to step one unit to the left, to step one unit to the right, or to stay put. Approximate, through simulation, the probability that after these 100 steps, he is more than five points to the right of his starting point.\n"
   ]
  },
  {
   "cell_type": "markdown",
   "id": "61f95808-f235-4a41-a46a-a0b6980c1567",
   "metadata": {},
   "source": [
    "Prof Jeremy stands at a starting point for his walk of **100 steps**. For **each \"step\": he is equally likely to step one unit to the left, to step one unit to the right, or to stay put**. Approximate, through simulation, the probability that after these 100 steps, he is **more than five points to the right** of his starting point."
   ]
  },
  {
   "cell_type": "markdown",
   "id": "815a8466-f7bf-4dd5-bf74-758a588756e4",
   "metadata": {},
   "source": [
    "1. What is the distribution of possible outcomes per \"step\" (in units traveled), and the probability of each of these occuring?\n",
    "2. Can we simulate one step based off of this information?\n",
    "3. Can we simulate many steps and compute the distance traveled? [2 min]\n",
    "4. Can we simulate many, many walks and then save the distance traveled in each walk? "
   ]
  },
  {
   "cell_type": "code",
   "execution_count": 9,
   "id": "d76d6230-454b-4dd6-b339-e4999d7ca3b2",
   "metadata": {},
   "outputs": [],
   "source": [
    "def one_step():\n",
    "    return np.random.choice(make_array(-1,0,1))"
   ]
  },
  {
   "cell_type": "code",
   "execution_count": 10,
   "id": "a587dfde-f3a4-494c-98da-9147fa698fec",
   "metadata": {},
   "outputs": [],
   "source": [
    "def walk():\n",
    "    steps = make_array()\n",
    "    for i in np.arange(100):\n",
    "        steps = np.append(steps, one_step())\n",
    "\n",
    "    return sum(steps)"
   ]
  },
  {
   "cell_type": "code",
   "execution_count": 11,
   "id": "38c20d96-490d-46bf-8609-4774ab47a385",
   "metadata": {},
   "outputs": [],
   "source": [
    "walks = make_array()\n",
    "num_walks = 1000\n",
    "\n",
    "for i in np.arange(num_walks):\n",
    "    walks = np.append(walks, walk())"
   ]
  },
  {
   "cell_type": "code",
   "execution_count": 23,
   "id": "4c20b26c-eb6c-4745-85d3-68700954b379",
   "metadata": {},
   "outputs": [
    {
     "data": {
      "text/plain": [
       "array([  3. ,   5. ,  11.8])"
      ]
     },
     "execution_count": 23,
     "metadata": {},
     "output_type": "execute_result"
    }
   ],
   "source": [
    "np.array([1,True,5]) + np.array([2,4,6.8])"
   ]
  },
  {
   "cell_type": "code",
   "execution_count": 221,
   "id": "a1793136-42f3-4ee4-a9f7-17794804bf64",
   "metadata": {},
   "outputs": [
    {
     "data": {
      "text/plain": [
       "0.27000000000000002"
      ]
     },
     "execution_count": 221,
     "metadata": {},
     "output_type": "execute_result"
    }
   ],
   "source": []
  }
 ],
 "metadata": {
  "kernelspec": {
   "display_name": "Python 3 (ipykernel)",
   "language": "python",
   "name": "python3"
  },
  "language_info": {
   "codemirror_mode": {
    "name": "ipython",
    "version": 3
   },
   "file_extension": ".py",
   "mimetype": "text/x-python",
   "name": "python",
   "nbconvert_exporter": "python",
   "pygments_lexer": "ipython3",
   "version": "3.12.4"
  }
 },
 "nbformat": 4,
 "nbformat_minor": 5
}
