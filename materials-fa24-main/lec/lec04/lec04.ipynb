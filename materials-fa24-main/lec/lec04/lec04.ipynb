{
 "cells": [
  {
   "cell_type": "code",
   "execution_count": null,
   "id": "0415f774-cd96-4309-879e-03a3fe784b31",
   "metadata": {},
   "outputs": [],
   "source": [
    "from datascience import *\n",
    "import numpy as np\n",
    "\n",
    "%matplotlib inline\n",
    "import matplotlib.pyplot as plots\n",
    "plots.style.use('fivethirtyeight')"
   ]
  },
  {
   "cell_type": "markdown",
   "id": "525b41da-2041-457a-b77e-924e8f5b81d1",
   "metadata": {},
   "source": [
    "## Review Questions"
   ]
  },
  {
   "cell_type": "code",
   "execution_count": null,
   "id": "822be408-a051-43cb-8e49-cb82e69c3e57",
   "metadata": {},
   "outputs": [],
   "source": [
    "cones = Table.read_table('cones.csv')\n",
    "cones"
   ]
  },
  {
   "cell_type": "markdown",
   "id": "bc1bfadb-68fa-4841-8e4b-faec023d8a92",
   "metadata": {},
   "source": [
    "**Review Question 1**: How many rows and columns are in the `cones` table once the following cell has finished executing?"
   ]
  },
  {
   "cell_type": "code",
   "execution_count": null,
   "id": "ad8d1fe1-a5da-4084-a9bb-8f5bc4f79063",
   "metadata": {},
   "outputs": [],
   "source": [
    "cones.select('Flavor', 'Price')"
   ]
  },
  {
   "cell_type": "markdown",
   "id": "2eb7c7bf-a177-4cbc-80ed-96dc1eb863da",
   "metadata": {},
   "source": [
    "**Review Question 2**: Which one of the following two lines of code fail?"
   ]
  },
  {
   "cell_type": "code",
   "execution_count": null,
   "id": "73971496-27f8-469f-8783-910b648c4f01",
   "metadata": {},
   "outputs": [],
   "source": [
    "cones.drop('Color').where('Color', 'pink')"
   ]
  },
  {
   "cell_type": "code",
   "execution_count": null,
   "id": "98907b19-7711-4246-8395-3a8862878681",
   "metadata": {},
   "outputs": [],
   "source": [
    "nba.where('Color', 'pink').drop('Color')"
   ]
  },
  {
   "cell_type": "markdown",
   "id": "0a96199c-f9ba-4526-8870-de414f9377c6",
   "metadata": {},
   "source": [
    "## `int` and `float`"
   ]
  },
  {
   "cell_type": "code",
   "execution_count": null,
   "id": "d6d3fe41-02af-43fb-9e4a-130ba7dcf68d",
   "metadata": {},
   "outputs": [],
   "source": [
    "1 + 3 "
   ]
  },
  {
   "cell_type": "code",
   "execution_count": null,
   "id": "ce494816-de53-46ac-8bf3-c6d2d4c6ae3d",
   "metadata": {},
   "outputs": [],
   "source": [
    "1234567 * 890"
   ]
  },
  {
   "cell_type": "code",
   "execution_count": null,
   "id": "28cb59a2-41f9-4414-a130-fb6ba5d03bf1",
   "metadata": {},
   "outputs": [],
   "source": [
    "1234567 ** 20"
   ]
  },
  {
   "cell_type": "markdown",
   "id": "93636245-29a7-4ac0-9a18-882b44dc181b",
   "metadata": {},
   "source": [
    "____"
   ]
  },
  {
   "cell_type": "code",
   "execution_count": null,
   "id": "3efc462f-2f7d-4c74-b9e8-2ec19a8a7400",
   "metadata": {},
   "outputs": [],
   "source": [
    "2024"
   ]
  },
  {
   "cell_type": "code",
   "execution_count": null,
   "id": "264a6249-c266-425f-9acd-0740c8350906",
   "metadata": {},
   "outputs": [],
   "source": [
    "1012 * 2"
   ]
  },
  {
   "cell_type": "code",
   "execution_count": null,
   "id": "bdffd470-2712-448e-ad8e-3b1fee8b994a",
   "metadata": {},
   "outputs": [],
   "source": [
    "4048/2"
   ]
  },
  {
   "cell_type": "markdown",
   "id": "2a1c90cb-045a-470d-8d37-d52146675723",
   "metadata": {},
   "source": [
    "_______"
   ]
  },
  {
   "cell_type": "markdown",
   "id": "dfe3ce6f-a51d-424b-a1d3-5226abacc185",
   "metadata": {},
   "source": [
    "#### More on `float` values"
   ]
  },
  {
   "cell_type": "code",
   "execution_count": null,
   "id": "ede6082e-4131-4b65-ac47-d56c934323b4",
   "metadata": {},
   "outputs": [],
   "source": [
    "10/3"
   ]
  },
  {
   "cell_type": "code",
   "execution_count": null,
   "id": "dc2cb67e-1121-473f-9b56-6248d05026a9",
   "metadata": {},
   "outputs": [],
   "source": [
    "75892745.215489247589274985712"
   ]
  },
  {
   "cell_type": "code",
   "execution_count": null,
   "id": "44c981b8-7f1d-4964-a886-2ca3edae6078",
   "metadata": {},
   "outputs": [],
   "source": [
    "75892745.215489247589274985712 - 75892745.21548925"
   ]
  },
  {
   "cell_type": "markdown",
   "id": "d50c3f30-8ec8-4086-91f0-a6d9ceaa8c4f",
   "metadata": {},
   "source": [
    "____"
   ]
  },
  {
   "cell_type": "code",
   "execution_count": null,
   "id": "31e164d9-95c7-44eb-8c52-735bc7ca59e5",
   "metadata": {},
   "outputs": [],
   "source": [
    "(13 ** 0.5) "
   ]
  },
  {
   "cell_type": "code",
   "execution_count": null,
   "id": "bb3e03f4-cfe7-48f3-a7a2-e5f0989ebc84",
   "metadata": {},
   "outputs": [],
   "source": [
    "(13 ** 0.5) ** 2"
   ]
  },
  {
   "cell_type": "markdown",
   "id": "11489e70-a2de-407b-85bc-d68a0628c19d",
   "metadata": {},
   "source": [
    "____"
   ]
  },
  {
   "cell_type": "code",
   "execution_count": null,
   "id": "85600ed8-8a1a-413e-94bb-b2e083750ce0",
   "metadata": {},
   "outputs": [],
   "source": [
    "(1234567 ** 20)/1"
   ]
  },
  {
   "cell_type": "markdown",
   "id": "5cd918a5-ef9a-47a7-9ef5-727cbe0ce802",
   "metadata": {},
   "source": [
    "#### Strings"
   ]
  },
  {
   "cell_type": "code",
   "execution_count": null,
   "id": "5ebb3423-e9a7-4bc5-93bf-dd3f31cc2914",
   "metadata": {},
   "outputs": [],
   "source": [
    "'Flavor'"
   ]
  },
  {
   "cell_type": "code",
   "execution_count": null,
   "id": "5e6ee53d-68ce-4684-bd0f-2ea53921e963",
   "metadata": {},
   "outputs": [],
   "source": [
    "Flavor"
   ]
  },
  {
   "cell_type": "code",
   "execution_count": null,
   "id": "c33ca77b-93fa-448d-9510-ea135da52a92",
   "metadata": {},
   "outputs": [],
   "source": [
    "'I wouldn't ever ignore my homework'"
   ]
  },
  {
   "cell_type": "code",
   "execution_count": null,
   "id": "8104f505-dae9-4ea0-a92e-c24f1b195939",
   "metadata": {},
   "outputs": [],
   "source": [
    "\"I wouldn't ever ignore my homework\""
   ]
  },
  {
   "cell_type": "markdown",
   "id": "d1bb96a7-94e2-4a77-bc59-474384c6d2bb",
   "metadata": {},
   "source": [
    "________"
   ]
  },
  {
   "cell_type": "code",
   "execution_count": null,
   "id": "07c31e97-173f-4db7-8605-e62b8520087a",
   "metadata": {},
   "outputs": [],
   "source": [
    "\"I\" + \"wouldn't ever ignore my homework\""
   ]
  },
  {
   "cell_type": "code",
   "execution_count": null,
   "id": "ca9c4206-f490-4525-8ee5-7bad40c38823",
   "metadata": {},
   "outputs": [],
   "source": [
    "\"I\" + \" wouldn't ever ignore my homework\""
   ]
  },
  {
   "cell_type": "code",
   "execution_count": null,
   "id": "cc918015-04de-4fdf-97a7-1b48d1a9e677",
   "metadata": {},
   "outputs": [],
   "source": [
    "\"Ben\" + \" 10\""
   ]
  },
  {
   "cell_type": "code",
   "execution_count": null,
   "id": "57181106-874b-4a2c-9d54-0db81475005e",
   "metadata": {},
   "outputs": [],
   "source": [
    "\"Ben\" + 10"
   ]
  },
  {
   "cell_type": "code",
   "execution_count": null,
   "id": "460bbb1c-3295-4195-99ac-05ba781127c1",
   "metadata": {},
   "outputs": [],
   "source": [
    "'ha' * 100"
   ]
  },
  {
   "cell_type": "markdown",
   "id": "4745a500-ae8f-4296-ba28-83eff2e69c4e",
   "metadata": {},
   "source": [
    "#### Conversions"
   ]
  },
  {
   "cell_type": "code",
   "execution_count": null,
   "id": "6e68b6e3-2145-4cb2-9055-29d1ecbb812c",
   "metadata": {},
   "outputs": [],
   "source": [
    "int('3')"
   ]
  },
  {
   "cell_type": "code",
   "execution_count": null,
   "id": "9d9eb20b-f2a8-43da-98c1-c46c63a1203b",
   "metadata": {},
   "outputs": [],
   "source": [
    "int(float('3.0'))"
   ]
  },
  {
   "cell_type": "code",
   "execution_count": null,
   "id": "ecf80134-573f-4491-b4e9-03c4a119895a",
   "metadata": {},
   "outputs": [],
   "source": [
    "float(int('3'))"
   ]
  },
  {
   "cell_type": "code",
   "execution_count": null,
   "id": "cb88a090-2501-4af0-9319-63bf5d6ca6f4",
   "metadata": {},
   "outputs": [],
   "source": [
    "str(10)"
   ]
  },
  {
   "cell_type": "code",
   "execution_count": null,
   "id": "27736552-3ad9-42a9-800f-600b99749a26",
   "metadata": {},
   "outputs": [],
   "source": [
    "'Ben ' + str(10)"
   ]
  },
  {
   "cell_type": "code",
   "execution_count": null,
   "id": "35569633-ae1d-4a1b-9437-770060f7094b",
   "metadata": {},
   "outputs": [],
   "source": [
    "2 + float(8)"
   ]
  },
  {
   "cell_type": "markdown",
   "id": "9127a29f-f106-48bb-9caa-a392e07d37c7",
   "metadata": {},
   "source": [
    "#### \"Conversions\""
   ]
  },
  {
   "cell_type": "code",
   "execution_count": null,
   "id": "ee6a870c-01bf-453d-83e2-edadbebfcc95",
   "metadata": {},
   "outputs": [],
   "source": [
    "float('one point two')"
   ]
  },
  {
   "cell_type": "code",
   "execution_count": null,
   "id": "3b40b406-c57b-4b31-9b55-1a531e746447",
   "metadata": {},
   "outputs": [],
   "source": [
    "int(1.2)"
   ]
  },
  {
   "cell_type": "code",
   "execution_count": null,
   "id": "4b77615d-c777-4cce-ac90-2b3913519d7d",
   "metadata": {},
   "outputs": [],
   "source": [
    "int(1.23)"
   ]
  },
  {
   "cell_type": "code",
   "execution_count": null,
   "id": "8bb37253-e426-4a5d-89ed-42c81473cda1",
   "metadata": {},
   "outputs": [],
   "source": [
    "round(1.23, ndigits = 1)"
   ]
  },
  {
   "cell_type": "code",
   "execution_count": null,
   "id": "4d95e3e5-cf07-4c4b-ab7e-46ff104c649c",
   "metadata": {},
   "outputs": [],
   "source": [
    "int(1.6)"
   ]
  },
  {
   "cell_type": "code",
   "execution_count": null,
   "id": "29a790e1-5400-4ec4-95ab-e4b72ff8f21b",
   "metadata": {},
   "outputs": [],
   "source": [
    "round(1.6)"
   ]
  },
  {
   "cell_type": "markdown",
   "id": "38cb5198-0152-4bba-9ca4-7a594e2bf882",
   "metadata": {},
   "source": [
    "_____"
   ]
  },
  {
   "cell_type": "markdown",
   "id": "c34770e0-9ca0-49cd-8b83-22ff2f314432",
   "metadata": {},
   "source": [
    "#### Every value has a **data type**"
   ]
  },
  {
   "cell_type": "code",
   "execution_count": null,
   "id": "f2d3377d-41f2-4d6d-87eb-c662d3af1e56",
   "metadata": {},
   "outputs": [],
   "source": [
    "type(10)"
   ]
  },
  {
   "cell_type": "code",
   "execution_count": null,
   "id": "0c9e9cc5-54b4-4f91-b1ec-28940db61aa8",
   "metadata": {},
   "outputs": [],
   "source": [
    "a = 10"
   ]
  },
  {
   "cell_type": "code",
   "execution_count": null,
   "id": "0259b2fc-491d-4ab1-a318-9cfdbb7926d6",
   "metadata": {},
   "outputs": [],
   "source": [
    "type(a)"
   ]
  },
  {
   "cell_type": "code",
   "execution_count": null,
   "id": "8e4d071d-64bb-4973-a9aa-06ab7dfa6804",
   "metadata": {},
   "outputs": [],
   "source": [
    "type(1012*2)"
   ]
  },
  {
   "cell_type": "code",
   "execution_count": null,
   "id": "148307dc-b30a-4450-b1d6-c15ec3230f38",
   "metadata": {},
   "outputs": [],
   "source": [
    "type(4048/2)"
   ]
  },
  {
   "cell_type": "code",
   "execution_count": null,
   "id": "4f7c0a3b-ecb4-4961-b926-380f128aaad2",
   "metadata": {},
   "outputs": [],
   "source": [
    "type('Ben')"
   ]
  },
  {
   "cell_type": "code",
   "execution_count": null,
   "id": "ac07898f-8933-4954-8819-c04a48baedb1",
   "metadata": {},
   "outputs": [],
   "source": [
    "type('Ben ' + str(10))"
   ]
  },
  {
   "cell_type": "code",
   "execution_count": null,
   "id": "041d22e8-1bd9-42f2-aa13-2f83e455be72",
   "metadata": {},
   "outputs": [],
   "source": [
    "type(abs)"
   ]
  },
  {
   "cell_type": "code",
   "execution_count": null,
   "id": "aa8e01f9-3e3f-489f-b6a5-93e08754ccbf",
   "metadata": {},
   "outputs": [],
   "source": [
    "nba = Table.read_table('nba_salaries.csv')\n",
    "type(nba)"
   ]
  },
  {
   "cell_type": "markdown",
   "id": "42e348df-da18-446b-a41e-fa5dcf6df073",
   "metadata": {},
   "source": [
    "#### **Arrays** are sequences of values"
   ]
  },
  {
   "cell_type": "code",
   "execution_count": null,
   "id": "851bef34-d359-4346-bc17-ff49b8cb92d3",
   "metadata": {},
   "outputs": [],
   "source": [
    "my_array = make_array(1, 2, 3, 4)"
   ]
  },
  {
   "cell_type": "code",
   "execution_count": null,
   "id": "da8818f8-1bb4-459c-b615-2008c1bd2a1a",
   "metadata": {},
   "outputs": [],
   "source": [
    "my_array"
   ]
  },
  {
   "cell_type": "code",
   "execution_count": null,
   "id": "a80f5de0-2b9f-4d71-8f0e-7a454b0dcbf7",
   "metadata": {},
   "outputs": [],
   "source": [
    "type(my_array)"
   ]
  },
  {
   "cell_type": "code",
   "execution_count": null,
   "id": "d2cfc673-c429-455e-bda7-e93b1a44a9b6",
   "metadata": {},
   "outputs": [],
   "source": [
    "my_array.item(1)"
   ]
  },
  {
   "cell_type": "code",
   "execution_count": null,
   "id": "02b72942-599a-4b5e-b4a0-7571d9545bfd",
   "metadata": {},
   "outputs": [],
   "source": [
    "my_array.item(0)"
   ]
  },
  {
   "cell_type": "code",
   "execution_count": null,
   "id": "60c17c98-437f-4c75-aa6f-5702f0ac4df7",
   "metadata": {},
   "outputs": [],
   "source": [
    "my_array.item(4)"
   ]
  },
  {
   "cell_type": "markdown",
   "id": "496bd730-dfc7-41fd-9293-ea5e7feaa522",
   "metadata": {},
   "source": [
    "____"
   ]
  },
  {
   "cell_type": "code",
   "execution_count": null,
   "id": "41bbb49c-3f1a-4356-8ee3-c92ef553e882",
   "metadata": {},
   "outputs": [],
   "source": [
    "my_array + 2"
   ]
  },
  {
   "cell_type": "code",
   "execution_count": null,
   "id": "3e306d5e-40dd-4e93-8047-7b3757eeb9f6",
   "metadata": {},
   "outputs": [],
   "source": [
    "my_array * 2"
   ]
  },
  {
   "cell_type": "code",
   "execution_count": null,
   "id": "897667ee-2b18-496a-a6c2-0f146157543e",
   "metadata": {},
   "outputs": [],
   "source": [
    "my_array ** 2"
   ]
  },
  {
   "cell_type": "code",
   "execution_count": null,
   "id": "334a25ee-f2d2-4d61-aec5-09f58862ada0",
   "metadata": {},
   "outputs": [],
   "source": [
    "my_array_2 = make_array(4,5,6,7)"
   ]
  },
  {
   "cell_type": "code",
   "execution_count": null,
   "id": "c12b3809-251d-4565-ba21-ebafe235f93b",
   "metadata": {},
   "outputs": [],
   "source": [
    "my_array + my_array_2"
   ]
  },
  {
   "cell_type": "code",
   "execution_count": null,
   "id": "6157adb4-ef46-4a7b-9ffd-a75d8824c314",
   "metadata": {},
   "outputs": [],
   "source": [
    "my_array + make_array(8,9,10)"
   ]
  },
  {
   "cell_type": "code",
   "execution_count": null,
   "id": "66f4f544-4633-4c24-a0fd-5593e8942737",
   "metadata": {},
   "outputs": [],
   "source": [
    "my_array * make_array(8,9,10)"
   ]
  },
  {
   "cell_type": "markdown",
   "id": "6e1067d4-2c59-47ba-a304-f28b19eaf411",
   "metadata": {},
   "source": [
    "**Functions on arrays**"
   ]
  },
  {
   "cell_type": "code",
   "execution_count": null,
   "id": "2422119c-7e16-4ed3-99e2-411e0882fc08",
   "metadata": {},
   "outputs": [],
   "source": [
    "my_array = make_array(1, 2, 3, 4)"
   ]
  },
  {
   "cell_type": "code",
   "execution_count": null,
   "id": "474ea27d-81ea-4560-8ddf-547e5297beef",
   "metadata": {},
   "outputs": [],
   "source": [
    "sum(my_array)"
   ]
  },
  {
   "cell_type": "code",
   "execution_count": null,
   "id": "2feea3b8-b869-410b-8814-580c040f5204",
   "metadata": {},
   "outputs": [],
   "source": [
    "np.average(my_array)"
   ]
  },
  {
   "cell_type": "code",
   "execution_count": null,
   "id": "56ef704a-85a3-46ce-b416-2bfdab8c2863",
   "metadata": {},
   "outputs": [],
   "source": [
    "len(my_array)"
   ]
  },
  {
   "cell_type": "markdown",
   "id": "80c392ce-cd29-4d7f-b095-28c5987566f4",
   "metadata": {},
   "source": [
    "_____"
   ]
  },
  {
   "cell_type": "code",
   "execution_count": null,
   "id": "73e40edd-cf79-480f-a00b-fe370d1b740b",
   "metadata": {},
   "outputs": [],
   "source": [
    "nba.show(6)"
   ]
  },
  {
   "cell_type": "code",
   "execution_count": null,
   "id": "4fcfcba8-2474-4c2b-9020-eb1025ceb138",
   "metadata": {},
   "outputs": [],
   "source": [
    "nba.sort('season', descending=True).show(6)"
   ]
  },
  {
   "cell_type": "code",
   "execution_count": null,
   "id": "aacfe5d3-d9ac-455c-b185-0bd972118a3b",
   "metadata": {},
   "outputs": [],
   "source": [
    "nba.select('salary')"
   ]
  },
  {
   "cell_type": "code",
   "execution_count": null,
   "id": "1e25f609-6691-4027-a99a-178e586dd231",
   "metadata": {},
   "outputs": [],
   "source": [
    "type(nba.select('salary'))"
   ]
  },
  {
   "cell_type": "code",
   "execution_count": null,
   "id": "1fc64e20-9b19-433b-9a10-3c7a2e0f70f2",
   "metadata": {},
   "outputs": [],
   "source": [
    "nba.column('salary')"
   ]
  },
  {
   "cell_type": "code",
   "execution_count": null,
   "id": "9a754d49-7984-45c4-b283-4a67c12cefc3",
   "metadata": {},
   "outputs": [],
   "source": [
    "type(nba.column('salary'))"
   ]
  },
  {
   "cell_type": "code",
   "execution_count": null,
   "id": "ad5c5993-7b78-4edb-b07c-60203e971f2a",
   "metadata": {},
   "outputs": [],
   "source": [
    "np.average(nba.column('salary'))"
   ]
  }
 ],
 "metadata": {
  "kernelspec": {
   "display_name": "Python 3 (ipykernel)",
   "language": "python",
   "name": "python3"
  },
  "language_info": {
   "codemirror_mode": {
    "name": "ipython",
    "version": 3
   },
   "file_extension": ".py",
   "mimetype": "text/x-python",
   "name": "python",
   "nbconvert_exporter": "python",
   "pygments_lexer": "ipython3",
   "version": "3.12.4"
  }
 },
 "nbformat": 4,
 "nbformat_minor": 5
}
