{
 "cells": [
  {
   "cell_type": "code",
   "execution_count": 3,
   "id": "fca6d9dd-068e-49d4-a21d-f141222b0712",
   "metadata": {},
   "outputs": [],
   "source": [
    "from datascience import *\n",
    "import numpy as np\n",
    "\n",
    "%matplotlib inline\n",
    "import matplotlib.pyplot as plt\n",
    "plt.style.use('fivethirtyeight')"
   ]
  },
  {
   "cell_type": "markdown",
   "id": "fc17d025-491d-4b1a-ab17-d462075eb62f",
   "metadata": {},
   "source": [
    "## Review"
   ]
  },
  {
   "cell_type": "code",
   "execution_count": null,
   "id": "de6f22ba-fb83-4205-b759-34055f0ad51a",
   "metadata": {},
   "outputs": [],
   "source": [
    "def simulated_difference(table, group_label, variable_label, function):\n",
    "    \"\"\"\n",
    "    Takes: \n",
    "       - name of table\n",
    "       - column label of numerical variable\n",
    "       - column label of categorical variable\n",
    "       - statistic to be calculated (as a function)\n",
    "       \n",
    "    Returns: Difference in statistics of the two groups\n",
    "    \"\"\"\n",
    "    shuffled_group = table.select(group_label).sample(with_replacement=False)\n",
    "    simulated_table = Table().with_columns(group_label, shuffled_group.column(0),\n",
    "                                        variable_label, table.column(variable_label))\n",
    "    \n",
    "    stats_array = simulated_table.group(group_label, function).column(1)\n",
    "    \n",
    "    \n",
    "    return stats_array.item(1)-stats_array.item(0)"
   ]
  },
  {
   "cell_type": "code",
   "execution_count": null,
   "id": "ff5404e6-a518-4726-b854-033b10154df1",
   "metadata": {},
   "outputs": [],
   "source": [
    "restaurants = Table().read_table('berkeley-restaurants.csv')"
   ]
  },
  {
   "cell_type": "code",
   "execution_count": null,
   "id": "e9563ca7-d8d0-4203-9c8d-3b88940bdb22",
   "metadata": {},
   "outputs": [],
   "source": [
    "southside_and_north_berkeley = restaurants.where('Neighborhood',\n",
    "                                                 are.contained_in(make_array('Southside',\n",
    "                                                                             'North Berkeley')))"
   ]
  },
  {
   "cell_type": "code",
   "execution_count": null,
   "id": "d1eb0c09-d064-4a87-9884-5c8ed7ee6991",
   "metadata": {},
   "outputs": [],
   "source": [
    "restaurants = Table().read_table('berkeley-restaurants.csv')\n",
    "restaurants"
   ]
  },
  {
   "cell_type": "markdown",
   "id": "f8d80aaf-2dc6-42c5-a3dd-d813c39e959e",
   "metadata": {},
   "source": [
    "_____"
   ]
  },
  {
   "cell_type": "markdown",
   "id": "0b65e889-e28d-46b4-a19f-a8f6f8d1c231",
   "metadata": {},
   "source": [
    "### Review Question 1"
   ]
  },
  {
   "cell_type": "markdown",
   "id": "65a1cd12-3041-469a-89fa-7c1eaf644e10",
   "metadata": {},
   "source": [
    "### Review Question 2"
   ]
  },
  {
   "cell_type": "markdown",
   "id": "15bcaae1-122c-44fa-a2a2-321d08ea7f15",
   "metadata": {},
   "source": [
    "______"
   ]
  },
  {
   "cell_type": "code",
   "execution_count": null,
   "id": "c625b9a3-6d28-4e84-91bd-c2e7da2115e9",
   "metadata": {},
   "outputs": [],
   "source": [
    "southside_and_north_berkeley.group('Neighborhood')"
   ]
  },
  {
   "cell_type": "markdown",
   "id": "cb59deaf-1731-4141-ad79-6f92fa40e23f",
   "metadata": {},
   "source": [
    "### Review Question 3"
   ]
  },
  {
   "cell_type": "markdown",
   "id": "41a3ef65-af1b-41c9-943d-d1229969ae70",
   "metadata": {},
   "source": [
    "### Review Questions 4 and 5"
   ]
  },
  {
   "cell_type": "markdown",
   "id": "b20173ea-a71a-40ed-afdb-8648eebaed81",
   "metadata": {},
   "source": [
    "### Review Question 6"
   ]
  }
 ],
 "metadata": {
  "kernelspec": {
   "display_name": "Python 3 (ipykernel)",
   "language": "python",
   "name": "python3"
  },
  "language_info": {
   "codemirror_mode": {
    "name": "ipython",
    "version": 3
   },
   "file_extension": ".py",
   "mimetype": "text/x-python",
   "name": "python",
   "nbconvert_exporter": "python",
   "pygments_lexer": "ipython3",
   "version": "3.12.4"
  }
 },
 "nbformat": 4,
 "nbformat_minor": 5
}
