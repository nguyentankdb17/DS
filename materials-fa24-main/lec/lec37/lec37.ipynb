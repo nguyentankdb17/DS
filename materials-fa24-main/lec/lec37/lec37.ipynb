{
 "cells": [
  {
   "cell_type": "code",
   "execution_count": null,
   "id": "073ef43a-f636-450a-8a8f-4d75c33ec59a",
   "metadata": {},
   "outputs": [],
   "source": [
    "from datascience import *\n",
    "import numpy as np\n",
    "import matplotlib\n",
    "from mpl_toolkits.mplot3d import Axes3D\n",
    "\n",
    "%matplotlib inline\n",
    "import matplotlib.pyplot as plt\n",
    "plt.style.use('fivethirtyeight')\n",
    "\n",
    "import warnings\n",
    "warnings.simplefilter(\"ignore\")"
   ]
  },
  {
   "cell_type": "markdown",
   "id": "8b70ebef-21a9-484e-bc35-dc332472e732",
   "metadata": {},
   "source": [
    "## Review"
   ]
  },
  {
   "cell_type": "code",
   "execution_count": null,
   "id": "eb8acc4c-8223-4aa1-81d1-bb10068f6942",
   "metadata": {},
   "outputs": [],
   "source": [
    "def standard_units(any_numbers):\n",
    "    \"Convert any array of numbers to standard units.\"\n",
    "    return (any_numbers - np.mean(any_numbers))/np.std(any_numbers)  \n",
    "\n",
    "def correlation(t, x, y):\n",
    "    return np.mean(standard_units(t.column(x))*standard_units(t.column(y)))"
   ]
  },
  {
   "cell_type": "code",
   "execution_count": null,
   "id": "ed1bdf7f-058b-4384-9515-07c4b0177f5a",
   "metadata": {},
   "outputs": [],
   "source": [
    "def distance(point1, point2):\n",
    "    \"\"\"Returns the distance between point1 and point2\n",
    "    where each argument is an array \n",
    "    consisting of the coordinates of the point\"\"\"\n",
    "    return np.sum((point1-point2)**2) ** 0.5\n",
    "\n",
    "def all_distances(training, new_row, y_name):\n",
    "    \"\"\"Returns an array of distances\n",
    "    between each point in the training set\n",
    "    and the new point (which is a row of attributes)\"\"\"\n",
    "    attributes = training.drop(y_name)\n",
    "    def distance_from_new(row):\n",
    "        return distance(make_array(new_row), make_array(row))\n",
    "    return attributes.apply(distance_from_new)\n",
    "\n",
    "\n",
    "def table_with_distances(training, new_point, y_name):\n",
    "    \"\"\"Augments the training table \n",
    "    with a column of distances from new_point\"\"\"\n",
    "    return training.with_column('Distance', all_distances(training, new_point, y_name))\n",
    "\n",
    "\n",
    "def nearest(training, new_point, y_name, k):\n",
    "    \"\"\"Returns a table of the k rows of the augmented table\n",
    "    corresponding to the k smallest distances\"\"\"\n",
    "    with_dists = table_with_distances(training, new_point, y_name)\n",
    "    sorted_by_distance = with_dists.sort('Distance')\n",
    "    nearest_neighbors_table = sorted_by_distance.take(np.arange(k))\n",
    "    return nearest_neighbors_table\n"
   ]
  },
  {
   "cell_type": "markdown",
   "id": "069a980f-3612-40b6-aff2-20c7ce378d8c",
   "metadata": {},
   "source": [
    "## New material"
   ]
  },
  {
   "cell_type": "code",
   "execution_count": null,
   "id": "f626bb3f-d01c-402f-bdad-411bb3d4aa85",
   "metadata": {},
   "outputs": [],
   "source": [
    "all_sales = Table.read_table('house.csv')"
   ]
  },
  {
   "cell_type": "code",
   "execution_count": null,
   "id": "b10e10c4-3e86-4522-b9f0-6e7f557984e3",
   "metadata": {},
   "outputs": [],
   "source": [
    "sales = all_sales.where('Bldg Type', '1Fam').where('Sale Condition', 'Normal').select(\n",
    "    'SalePrice', '1st Flr SF', '2nd Flr SF', \n",
    "    'Total Bsmt SF', 'Garage Area', \n",
    "    'Wood Deck SF', 'Open Porch SF', 'Lot Area', \n",
    "    'Year Built', 'Yr Sold')"
   ]
  },
  {
   "cell_type": "markdown",
   "id": "fcf0c4ee-3065-4b09-ad7c-78eaae88982e",
   "metadata": {},
   "source": [
    "Exploration!"
   ]
  },
  {
   "cell_type": "code",
   "execution_count": null,
   "id": "1a405929-1bcc-4e43-a910-61c68fcba48b",
   "metadata": {},
   "outputs": [],
   "source": [
    "sales.num_rows"
   ]
  },
  {
   "cell_type": "code",
   "execution_count": null,
   "id": "1c065fb8-7d50-449b-9260-1045842b7744",
   "metadata": {},
   "outputs": [],
   "source": [
    "sales.sample(6).show(6)"
   ]
  },
  {
   "cell_type": "code",
   "execution_count": null,
   "id": "8cecf35e-2645-4681-9e77-6bf8d58a7a86",
   "metadata": {},
   "outputs": [],
   "source": [
    "sales.hist('SalePrice', bins=32, unit='$')"
   ]
  },
  {
   "cell_type": "code",
   "execution_count": null,
   "id": "742c3cc0-3b24-4bd4-9e15-eb910abbf130",
   "metadata": {},
   "outputs": [],
   "source": [
    "sales.scatter('1st Flr SF', 'SalePrice')"
   ]
  },
  {
   "cell_type": "code",
   "execution_count": null,
   "id": "1ca42c8a-222b-4135-a331-b5b4272fd75c",
   "metadata": {},
   "outputs": [],
   "source": [
    "correlation(sales, 'SalePrice', '1st Flr SF')"
   ]
  },
  {
   "cell_type": "markdown",
   "id": "514121f9-2119-4dd4-a590-b1ea16997b4f",
   "metadata": {},
   "source": [
    "- It's always a good idea to take a look at each of the variables in some capacity.\n",
    "    -  To make the demo shorter we will just look at the $r$ for each variable, but you should look at the plots as well."
   ]
  },
  {
   "cell_type": "code",
   "execution_count": null,
   "id": "d9cbd9e8-a094-4865-9f88-15458412c6f9",
   "metadata": {},
   "outputs": [],
   "source": [
    "for label in sales.labels:\n",
    "    print('Correlation of', label, 'and SalePrice:\\t', correlation(sales, label, 'SalePrice'))"
   ]
  },
  {
   "cell_type": "markdown",
   "id": "d963e2e5-cc48-4869-85db-ab2f05d88be2",
   "metadata": {},
   "source": [
    "______"
   ]
  },
  {
   "cell_type": "markdown",
   "id": "cf9af3d8-a4a9-46fb-bc22-06cf8e2739e7",
   "metadata": {},
   "source": [
    "For ease of computational efficiency, we will use the five variables having the highest correlation coefficients with `SalePrice`."
   ]
  },
  {
   "cell_type": "code",
   "execution_count": null,
   "id": "6cd35686-8ed9-45a9-8cea-e66d1e953459",
   "metadata": {},
   "outputs": [],
   "source": [
    "sales = sales.select(0, 1, 2, 3, 4, 8)\n",
    "sales.show(3)"
   ]
  },
  {
   "cell_type": "markdown",
   "id": "3df6d879-be68-4335-a442-421515af0159",
   "metadata": {},
   "source": [
    "### How is an MLR estimate calculated?"
   ]
  },
  {
   "cell_type": "markdown",
   "id": "8d273e83-2ddd-46b3-aca1-12b8598ce4d9",
   "metadata": {},
   "source": [
    "This is a 50/50 train-test split."
   ]
  },
  {
   "cell_type": "code",
   "execution_count": null,
   "id": "d3227fbd-e13e-4bd4-b09b-2f2b87cb23f3",
   "metadata": {},
   "outputs": [],
   "source": [
    "train, test = sales.split(k = round(sales.num_rows/2))"
   ]
  },
  {
   "cell_type": "markdown",
   "id": "5a198272-e030-48ba-9e6f-c66e3f4e4d53",
   "metadata": {},
   "source": [
    "**Task**: Find the best slopes for the linear regression model:\n",
    "\n",
    "$$\\text{estimate of sale price} = a*\\text{1st floor SF} + b*\\text{2nd floor SF} + c*\\text{Bsmt SF} + d*\\text{Garage Area} + e*\\text{Year Built} + f$$"
   ]
  },
  {
   "cell_type": "markdown",
   "id": "6fe1d0e4-e57b-428d-b253-1ead731c0d5b",
   "metadata": {},
   "source": [
    "We are going to find the best slopes in the model by minimization. Let's set up our equation to do this in a function!"
   ]
  },
  {
   "cell_type": "code",
   "execution_count": null,
   "id": "62365164-7da2-44fb-806a-66d74fcb6516",
   "metadata": {},
   "outputs": [],
   "source": [
    "def sales_train_rmse(a,b,c,d,e,f):\n",
    "\n",
    "    y = train.column('SalePrice')\n",
    "    \n",
    "    first_floor = train.column('1st Flr SF')\n",
    "    second_floor = train.column('2nd Flr SF')\n",
    "    basement = train.column('Total Bsmt SF')\n",
    "    garage = train.column('Garage Area')\n",
    "    year = train.column('Year Built')\n",
    "    \n",
    "    estimate = a*first_floor + b*second_floor + c*basement + d*garage + e*year + f\n",
    "    \n",
    "    return (np.mean((y - estimate) ** 2)) ** 0.5"
   ]
  },
  {
   "cell_type": "markdown",
   "id": "5e657aa9-5de1-490f-9385-b2a487b2b4d5",
   "metadata": {},
   "source": [
    "You do not need to be concerned with how to supply the `start` argument in `minimize()`. We will do this for you. In this case, we generated the starting slopes at random from a normal distribution with mean 10 and standard deviation of 1."
   ]
  },
  {
   "cell_type": "code",
   "execution_count": null,
   "id": "f9bd1ec3-0b84-4e64-ace7-8c9b07293981",
   "metadata": {},
   "outputs": [],
   "source": [
    "example_slopes = np.random.normal(10, 1, len(train.row(0)))"
   ]
  },
  {
   "cell_type": "markdown",
   "id": "6228882d-7a17-48b2-b926-c48ac5496ff2",
   "metadata": {},
   "source": [
    "The `smooth` argument will always read `True` for our purposes!"
   ]
  },
  {
   "cell_type": "code",
   "execution_count": null,
   "id": "8545b7e0-78a0-4ca9-b54c-85ace2115c12",
   "metadata": {},
   "outputs": [],
   "source": [
    "minimize(sales_train_rmse, start=example_slopes, smooth=True)"
   ]
  },
  {
   "cell_type": "code",
   "execution_count": null,
   "id": "49404734-a387-4cf9-ac35-224a26686334",
   "metadata": {},
   "outputs": [],
   "source": [
    "sales_train_rmse(## copy the slopes that you get from minimize() in here!)"
   ]
  },
  {
   "cell_type": "markdown",
   "id": "451a9b98-cc7f-44cc-b9d2-78673cd848f8",
   "metadata": {},
   "source": [
    "**Task**: Find the fitted values (sale price predictions on the *training* set) for our model."
   ]
  },
  {
   "cell_type": "code",
   "execution_count": null,
   "id": "85721f24-8716-4ec6-8e5d-235695d8dfe8",
   "metadata": {},
   "outputs": [],
   "source": [
    "def sales_estimate(data, a,b,c,d,e,f):\n",
    "\n",
    "    first_floor = data.column('1st Flr SF')\n",
    "    second_floor = data.column('2nd Flr SF')\n",
    "    basement = data.column('Total Bsmt SF')\n",
    "    garage = data.column('Garage Area')\n",
    "    year = data.column('Year Built')\n",
    "    \n",
    "    return a*first_floor + b*second_floor + c*basement + d*garage + e*year + f"
   ]
  },
  {
   "cell_type": "code",
   "execution_count": null,
   "id": "c4feaf43-6bed-4d69-9fa7-803b49ed997c",
   "metadata": {},
   "outputs": [],
   "source": [
    "fitted_values = sales_estimate(train, ## copy the slopes that you get from minimize() in here!)"
   ]
  },
  {
   "cell_type": "markdown",
   "id": "83d960a9-ce80-4d4f-ad18-34cde81f9b46",
   "metadata": {},
   "source": [
    "### How can we evaluate our model fit?"
   ]
  },
  {
   "cell_type": "code",
   "execution_count": null,
   "id": "ef30c166-e69c-4f9a-83fb-1a6ec42e44ff",
   "metadata": {},
   "outputs": [],
   "source": [
    "fit_table = Table().with_columns('Actual', train.column('SalePrice'),\n",
    "                                'Fitted',  fitted_values,\n",
    "                                'Residuals', (train.column('SalePrice') - fitted_values))"
   ]
  },
  {
   "cell_type": "code",
   "execution_count": null,
   "id": "ad3459b3-2d3e-4663-86af-6129027d54f9",
   "metadata": {},
   "outputs": [],
   "source": [
    "fit_table.sample(3).show()"
   ]
  },
  {
   "cell_type": "code",
   "execution_count": null,
   "id": "e8508b2e-a10b-442f-8c1d-925c605ba76c",
   "metadata": {},
   "outputs": [],
   "source": [
    "fit_table.scatter('Actual', 'Residuals')"
   ]
  },
  {
   "cell_type": "code",
   "execution_count": null,
   "id": "09539594-d38b-459b-bce0-7c5328da2b13",
   "metadata": {},
   "outputs": [],
   "source": [
    "fit_table.scatter('Fitted','Actual')"
   ]
  },
  {
   "cell_type": "markdown",
   "id": "69a7dc5b-18cf-4ba9-ac9a-ba98973ac09a",
   "metadata": {},
   "source": [
    "### How we evaluate accuracy of an MLR model?"
   ]
  },
  {
   "cell_type": "markdown",
   "id": "e9908944-c486-4e1e-b69f-431316d23a70",
   "metadata": {},
   "source": [
    "**Task** calculate the RMSE between:\n",
    "\n",
    "- the predicted house prices of the testing data\n",
    "- the actual house prices of the testing data"
   ]
  },
  {
   "cell_type": "code",
   "execution_count": null,
   "id": "e827b281-299a-4314-8b0f-99a5c27280ec",
   "metadata": {},
   "outputs": [],
   "source": [
    "def sales_test_rmse(a,b,c,d,e,f):\n",
    "\n",
    "    y = test.column('SalePrice')\n",
    "    \n",
    "    first_floor = test.column('1st Flr SF')\n",
    "    second_floor = test.column('2nd Flr SF')\n",
    "    basement = test.column('Total Bsmt SF')\n",
    "    garage = test.column('Garage Area')\n",
    "    year = test.column('Year Built')\n",
    "    \n",
    "    estimate = a*first_floor + b*second_floor + c*basement + d*garage + e*year + f\n",
    "    \n",
    "    return (np.mean((y - estimate) ** 2)) ** 0.5"
   ]
  },
  {
   "cell_type": "code",
   "execution_count": null,
   "id": "c8a75a59-7650-4e4b-b00b-7c00a5b39d9a",
   "metadata": {},
   "outputs": [],
   "source": [
    "sales_test_rmse(## copy the slopes that you get from minimize() in here! )"
   ]
  },
  {
   "cell_type": "markdown",
   "id": "d0073a11-b885-4540-8d36-1e8cd919453c",
   "metadata": {},
   "source": [
    "### We can bring nearest neighbors to linear regression, too!"
   ]
  },
  {
   "cell_type": "code",
   "execution_count": null,
   "id": "74b5a98a-382d-47bb-9b37-7c343d62e97e",
   "metadata": {},
   "outputs": [],
   "source": [
    "example_row = test.drop(0).row(0)"
   ]
  },
  {
   "cell_type": "code",
   "execution_count": null,
   "id": "c9b1f414-6ba5-444f-9b8b-c296a5d158bd",
   "metadata": {},
   "outputs": [],
   "source": [
    "nearest(train, example_row, 'SalePrice', 5)"
   ]
  },
  {
   "cell_type": "code",
   "execution_count": null,
   "id": "b6168733-425a-441c-bb83-9f37344eb28b",
   "metadata": {},
   "outputs": [],
   "source": [
    "def nn_5_regression_estimate(new_point):\n",
    "    return np.average(nearest(train, new_point, 'SalePrice', 5).column('SalePrice'))"
   ]
  },
  {
   "cell_type": "code",
   "execution_count": null,
   "id": "dc4ddca2-8c91-491c-8f83-c1d6fa11b3ef",
   "metadata": {},
   "outputs": [],
   "source": [
    "nn_5_regression_estimate(example_row)"
   ]
  },
  {
   "cell_type": "markdown",
   "id": "9aff6ba7-0ef9-483c-a188-6739a6499a42",
   "metadata": {},
   "source": [
    "Perform a 5-nearest neighbors regression on all testing points."
   ]
  },
  {
   "cell_type": "code",
   "execution_count": null,
   "id": "c660c78b-f1cb-4a20-b074-af74af1f7e24",
   "metadata": {},
   "outputs": [],
   "source": [
    "predictions = test.drop('SalePrice').apply(nn_5_regression_estimate)"
   ]
  },
  {
   "cell_type": "markdown",
   "id": "7a893408-3324-4805-9948-3c26d57866cb",
   "metadata": {},
   "source": [
    "Calculate the $\\text{RMSE}$ for our model!"
   ]
  },
  {
   "cell_type": "code",
   "execution_count": null,
   "id": "3bf9452e-2028-4378-bf65-ed92ac13d82e",
   "metadata": {},
   "outputs": [],
   "source": [
    "(np.mean((test.column('SalePrice') - predictions) ** 2)) ** 0.5"
   ]
  }
 ],
 "metadata": {
  "kernelspec": {
   "display_name": "Python 3 (ipykernel)",
   "language": "python",
   "name": "python3"
  },
  "language_info": {
   "codemirror_mode": {
    "name": "ipython",
    "version": 3
   },
   "file_extension": ".py",
   "mimetype": "text/x-python",
   "name": "python",
   "nbconvert_exporter": "python",
   "pygments_lexer": "ipython3",
   "version": "3.12.4"
  }
 },
 "nbformat": 4,
 "nbformat_minor": 5
}
