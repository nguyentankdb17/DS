{
 "cells": [
  {
   "cell_type": "code",
   "execution_count": null,
   "id": "bee93afe-448d-4177-b1b6-26b294e6cf56",
   "metadata": {},
   "outputs": [],
   "source": [
    "from datascience import *\n",
    "import numpy as np"
   ]
  },
  {
   "cell_type": "markdown",
   "id": "5dfd45c1-7429-493b-a83f-30197c2a7640",
   "metadata": {},
   "source": [
    "## Review"
   ]
  },
  {
   "cell_type": "markdown",
   "id": "06df9485-6861-433b-bd2b-b8fbaffc3a14",
   "metadata": {},
   "source": [
    "**Discussion Question 1:** Question 4, Midterm, Spring 2023.\n",
    "- What will the following Python expression evaluate to? "
   ]
  },
  {
   "cell_type": "code",
   "execution_count": null,
   "id": "5be1ed82-7173-40d3-bd99-e695f27b0c0b",
   "metadata": {},
   "outputs": [],
   "source": [
    "'data' + str(round(8.2))"
   ]
  },
  {
   "cell_type": "markdown",
   "id": "8064204a-ff21-4196-998f-6446ac46c151",
   "metadata": {},
   "source": [
    "**Discussion Question 1:** Question 1, Final, Fall 2019.\n",
    "- What will the following Python expression evaluate to?"
   ]
  },
  {
   "cell_type": "code",
   "execution_count": null,
   "id": "12fa9794-5274-4535-8368-0344544ff84c",
   "metadata": {},
   "outputs": [],
   "source": [
    "make_array(1,2,3) * 2"
   ]
  },
  {
   "cell_type": "markdown",
   "id": "a343bbbb-31b7-4e6b-98c5-be14c71a56b0",
   "metadata": {},
   "source": [
    "____"
   ]
  },
  {
   "cell_type": "code",
   "execution_count": null,
   "id": "3699013a-6d25-4540-918b-fc7690857996",
   "metadata": {},
   "outputs": [],
   "source": [
    "nba = Table.read_table('nba_salaries.csv')"
   ]
  },
  {
   "cell_type": "code",
   "execution_count": null,
   "id": "4fbab426-13b4-4cc0-b2df-5fdcf9790392",
   "metadata": {},
   "outputs": [],
   "source": [
    "recent_curry = nba.where('name', 'Stephen Curry').where('season', are.above(2015))\n",
    "recent_curry"
   ]
  },
  {
   "cell_type": "markdown",
   "id": "21df9aed-b599-4c86-8b77-e8e3817559a7",
   "metadata": {},
   "source": [
    "**Discussion Question 3:** \n",
    "- Which of the following two lines of code correctly calculates the average salary of Steph Curry from 2016-2020?"
   ]
  },
  {
   "cell_type": "code",
   "execution_count": null,
   "id": "92e2e30f-94ac-4076-a201-0dcae60dface",
   "metadata": {},
   "outputs": [],
   "source": [
    "np.average(recent_curry.select('salary'))"
   ]
  },
  {
   "cell_type": "code",
   "execution_count": null,
   "id": "2625801c-98e9-4692-ada7-6e75734ceaf6",
   "metadata": {},
   "outputs": [],
   "source": [
    "np.average(recent_curry.column('salary'))"
   ]
  },
  {
   "cell_type": "markdown",
   "id": "91f81a3c-dd2c-4bb3-afea-29d5df1740eb",
   "metadata": {},
   "source": [
    "____"
   ]
  },
  {
   "cell_type": "code",
   "execution_count": null,
   "id": "24143759-4ba3-4f63-a243-fc76472a0d1b",
   "metadata": {},
   "outputs": [],
   "source": [
    "recent_lebron = nba.where('name', 'LeBron James').where('season', are.above(2015))\n",
    "recent_lebron"
   ]
  },
  {
   "cell_type": "markdown",
   "id": "46dc70ad-6555-40fe-af28-1460fd40a2ef",
   "metadata": {},
   "source": [
    "**Discussion Question (Challenge)**:\n",
    "- Which one of following calculations can be performed using array arithmetic and the tables `recent_curry` and `recent_lebron`?\n",
    "    - The difference in the average salaries of LeBron James and Stephen Curry from 2016-2020\n",
    "    - The average of the differences of salaries of Lebron James and Stephen Curry from 2016-2020"
   ]
  },
  {
   "cell_type": "code",
   "execution_count": null,
   "id": "2acc87ee-0b14-41fe-8a5b-965941442933",
   "metadata": {},
   "outputs": [],
   "source": [
    "np.average(recent_stephen_curry.column('salary'))"
   ]
  },
  {
   "cell_type": "markdown",
   "id": "23c71efc-1335-4ff1-8374-9461a945bfc7",
   "metadata": {},
   "source": [
    "## Ranges"
   ]
  },
  {
   "cell_type": "code",
   "execution_count": null,
   "id": "6da835d7-157d-48de-89ce-ddf3fba99d20",
   "metadata": {},
   "outputs": [],
   "source": [
    "make_array(0,1,2,3,4,5,6)"
   ]
  },
  {
   "cell_type": "code",
   "execution_count": null,
   "id": "97857cfa-975f-4ce5-9731-30fe219a23a1",
   "metadata": {},
   "outputs": [],
   "source": [
    "np.arange(7)"
   ]
  },
  {
   "cell_type": "code",
   "execution_count": null,
   "id": "2f77dd73-4023-47af-9d96-c12c5c6cffc4",
   "metadata": {},
   "outputs": [],
   "source": [
    "np.arange(stop=7)"
   ]
  },
  {
   "cell_type": "code",
   "execution_count": null,
   "id": "146c77a7-b8e2-4c65-8141-bc44d36ae64a",
   "metadata": {},
   "outputs": [],
   "source": [
    "np.arange?"
   ]
  },
  {
   "cell_type": "code",
   "execution_count": null,
   "id": "ce04120c-37f6-45c3-b5ec-7cd35da024c5",
   "metadata": {},
   "outputs": [],
   "source": [
    "np.arange(start=0, stop=7, step=1)"
   ]
  },
  {
   "cell_type": "code",
   "execution_count": null,
   "id": "28dfc077-75ed-43fa-a307-9f430ddcf2fc",
   "metadata": {},
   "outputs": [],
   "source": [
    "np.arange(5, 11)"
   ]
  },
  {
   "cell_type": "code",
   "execution_count": null,
   "id": "58d5cd86-4178-4e8a-9f6f-3c9f98588aa4",
   "metadata": {},
   "outputs": [],
   "source": [
    "np.arange(0, 1, 0.1)"
   ]
  },
  {
   "cell_type": "code",
   "execution_count": null,
   "id": "eefe5c2d-a866-49af-bdd1-1044869c7e72",
   "metadata": {},
   "outputs": [],
   "source": [
    "np.arange(20,0,-2)"
   ]
  },
  {
   "cell_type": "markdown",
   "id": "d3e4563c-bb78-4c3b-b619-0d86858534ff",
   "metadata": {},
   "source": [
    "**Discussion Question 4:**    \n",
    "- What will the following Python expression evaluate to?\n"
   ]
  },
  {
   "cell_type": "code",
   "execution_count": null,
   "id": "96e51d20-5c0b-4853-bc66-e9a9fe6f5d5a",
   "metadata": {},
   "outputs": [],
   "source": [
    "make_array(1,2,3) + np.arange(start=1, stop=4)"
   ]
  },
  {
   "cell_type": "markdown",
   "id": "f8194f71-ac67-4a84-9d9d-96f91af8fd06",
   "metadata": {},
   "source": [
    "## Creating Tables"
   ]
  },
  {
   "cell_type": "markdown",
   "id": "4577499f-3164-4358-b2a9-6d717bd6e8da",
   "metadata": {},
   "source": [
    "**Way 1:** Reading from a file"
   ]
  },
  {
   "cell_type": "code",
   "execution_count": null,
   "id": "c828c8d5-3bfa-4e4e-ab89-76ceca83f242",
   "metadata": {},
   "outputs": [],
   "source": [
    "nba = Table.read_table('nba_salaries.csv')\n",
    "nba.show(6)"
   ]
  },
  {
   "cell_type": "markdown",
   "id": "675f9a70-c23f-49c6-8dd4-bc543ec13edf",
   "metadata": {},
   "source": [
    "**Way 2:** Creating from scratch"
   ]
  },
  {
   "cell_type": "code",
   "execution_count": null,
   "id": "817105f4-3736-42ef-8cf9-776a7cc29f7b",
   "metadata": {},
   "outputs": [],
   "source": [
    "streets = make_array('Bancroft', 'Durant', 'Channing', 'Haste')\n",
    "streets"
   ]
  },
  {
   "cell_type": "code",
   "execution_count": null,
   "id": "d893396f-20d4-47b7-814f-ea91100543f6",
   "metadata": {},
   "outputs": [],
   "source": [
    "Table()"
   ]
  },
  {
   "cell_type": "code",
   "execution_count": null,
   "id": "4b8cf9df-f60c-4e8e-9904-eedfa283caac",
   "metadata": {},
   "outputs": [],
   "source": [
    "southside = Table().with_column('Streets', streets)\n",
    "southside"
   ]
  },
  {
   "cell_type": "code",
   "execution_count": null,
   "id": "afa1ac30-20ac-47b8-a478-386bc9feb73c",
   "metadata": {},
   "outputs": [],
   "source": [
    "southside.with_column('Blocks from campus', np.arange(4))"
   ]
  },
  {
   "cell_type": "code",
   "execution_count": null,
   "id": "7852e483-7906-4c07-8599-aa1359b6b0b9",
   "metadata": {},
   "outputs": [],
   "source": [
    "Table().with_columns(\n",
    "    'Streets', streets,\n",
    "    'Blocks from campus', np.arange(4)\n",
    ")"
   ]
  },
  {
   "cell_type": "markdown",
   "id": "90c55df6-bf02-4a79-85c7-b02987b5735a",
   "metadata": {},
   "source": [
    "## Case Study: W.E.B. DuBois"
   ]
  },
  {
   "cell_type": "code",
   "execution_count": null,
   "id": "c4120695-d49e-4ba8-89d4-9197fada6eea",
   "metadata": {},
   "outputs": [],
   "source": [
    "du_bois = Table.read_table('du_bois.csv')"
   ]
  },
  {
   "cell_type": "markdown",
   "id": "243fab88-ee76-48a8-b4a1-b9fc910edcc9",
   "metadata": {},
   "source": [
    "**Task**: Return the number of rows and columns in this dataset."
   ]
  },
  {
   "cell_type": "code",
   "execution_count": null,
   "id": "7fb51cf3-4600-4785-aeaf-9fc9a4027d22",
   "metadata": {},
   "outputs": [],
   "source": [
    "du_bois.num_rows"
   ]
  },
  {
   "cell_type": "code",
   "execution_count": null,
   "id": "35574fdf-5e8f-4683-8a82-a1bc90dfd242",
   "metadata": {},
   "outputs": [],
   "source": [
    "du_bois.num_columns"
   ]
  },
  {
   "cell_type": "markdown",
   "id": "1bfadcf9-776d-4084-91a1-40d4271696f2",
   "metadata": {},
   "source": [
    "**Task:** Return the information that was recorded on each \"individual\" in this dataset."
   ]
  },
  {
   "cell_type": "code",
   "execution_count": null,
   "id": "b572728e-3fa6-47c0-9c80-264aeb6abb22",
   "metadata": {},
   "outputs": [],
   "source": [
    "du_bois.labels"
   ]
  },
  {
   "cell_type": "code",
   "execution_count": null,
   "id": "6735d937-93a7-45dc-8be2-5120e1b1a533",
   "metadata": {},
   "outputs": [],
   "source": [
    "du_bois"
   ]
  },
  {
   "cell_type": "markdown",
   "id": "3057510a-250c-4b24-a1cf-550636b2121a",
   "metadata": {},
   "source": [
    "**Task:** Isolate just the information about the families with the highest earning income bracket on average, circa 1900."
   ]
  },
  {
   "cell_type": "code",
   "execution_count": null,
   "id": "0bebf12c-27ab-4d6e-83bd-da810b91bb20",
   "metadata": {},
   "outputs": [],
   "source": [
    "du_bois.sort('ACTUAL AVERAGE', descending=True)"
   ]
  },
  {
   "cell_type": "code",
   "execution_count": null,
   "id": "7d0ff2c5-569f-4b39-97eb-effafca0357e",
   "metadata": {},
   "outputs": [],
   "source": [
    "du_bois.sort('ACTUAL AVERAGE', descending=True).take(0)"
   ]
  },
  {
   "cell_type": "markdown",
   "id": "58e1c515-74ca-4deb-9619-014be48c3659",
   "metadata": {},
   "source": [
    "**Task:** Estimate the amount of money each that each income class of Black Americans spent on food, circa 1900."
   ]
  },
  {
   "cell_type": "code",
   "execution_count": null,
   "id": "f9af38ec-2cd0-4703-bafb-15fab5f3e1be",
   "metadata": {},
   "outputs": [],
   "source": [
    "food_dollars = du_bois.column('ACTUAL AVERAGE') * du_bois.column('FOOD')"
   ]
  },
  {
   "cell_type": "code",
   "execution_count": null,
   "id": "3a873727-6459-4a51-aef3-e65225819ecc",
   "metadata": {},
   "outputs": [],
   "source": [
    "du_bois = du_bois.with_columns('Food $', food_dollars)\n",
    "du_bois"
   ]
  }
 ],
 "metadata": {
  "kernelspec": {
   "display_name": "Python 3 (ipykernel)",
   "language": "python",
   "name": "python3"
  },
  "language_info": {
   "codemirror_mode": {
    "name": "ipython",
    "version": 3
   },
   "file_extension": ".py",
   "mimetype": "text/x-python",
   "name": "python",
   "nbconvert_exporter": "python",
   "pygments_lexer": "ipython3",
   "version": "3.12.4"
  }
 },
 "nbformat": 4,
 "nbformat_minor": 5
}
