{
 "cells": [
  {
   "cell_type": "code",
   "execution_count": null,
   "metadata": {},
   "outputs": [],
   "source": [
    "from datascience import *\n",
    "%matplotlib inline\n",
    "\n",
    "import matplotlib.pyplot as plt\n",
    "plt.style.use('fivethirtyeight')\n",
    "import numpy as np\n",
    "import warnings\n",
    "warnings.simplefilter(action='ignore', category=np.VisibleDeprecationWarning)"
   ]
  },
  {
   "cell_type": "markdown",
   "metadata": {},
   "source": [
    "## New material"
   ]
  },
  {
   "cell_type": "markdown",
   "metadata": {},
   "source": [
    "### Probability Question 1"
   ]
  },
  {
   "cell_type": "markdown",
   "metadata": {},
   "source": [
    "$P(\\{Q, K\\})$"
   ]
  },
  {
   "cell_type": "markdown",
   "metadata": {},
   "source": [
    "- Solution with equally likely outcomes:\n",
    "\n",
    "$$\\{A, Q\\}, \\{A, K\\}, \\{K, Q\\}, \\{K, A\\}, \\textbf{\\{Q, K\\}}, \\{Q, A\\}$$"
   ]
  },
  {
   "cell_type": "markdown",
   "metadata": {},
   "source": [
    "so $P(\\{Q, K\\})$ = $\\frac{1}{6}$"
   ]
  },
  {
   "cell_type": "markdown",
   "metadata": {},
   "source": [
    "Another solution: $P(\\{Q, K\\})$ = $P(Q \\text{ on first draw}) * P(K \\text{ on second draw})$  = $\\frac{1}{3} * \\frac{1}{2} = \\frac{1}{6}$\n",
    "\n",
    "- This solution uses the **multplication rule**."
   ]
  },
  {
   "cell_type": "markdown",
   "metadata": {},
   "source": [
    "### Probability Question 2"
   ]
  },
  {
   "cell_type": "markdown",
   "metadata": {},
   "source": [
    "- Solution with equally likely outcomes:\n",
    "\n",
    "$$\\{A, Q\\}, \\{A, K\\}, \\textbf{\\{K, Q\\}}, \\{K, A\\}, \\textbf{\\{Q, K\\}}, \\{Q, A\\}$$"
   ]
  },
  {
   "cell_type": "markdown",
   "metadata": {},
   "source": [
    "The two bolded outcomes are distinct (they cannot happen at the same time). So we have that"
   ]
  },
  {
   "cell_type": "markdown",
   "metadata": {},
   "source": [
    "$P(\\text{ending up with } Q \\text{ and } K)$ = $P(\\{Q, K\\})$ + $P(\\{K, Q\\})$ = $\\frac{1}{6} + \\frac{1}{6} = \\frac{2}{6} = \\frac{1}{3}$\n",
    "- This solution uses the **addition rule**."
   ]
  },
  {
   "cell_type": "markdown",
   "metadata": {},
   "source": [
    "### Demo for Questions 1 and 2"
   ]
  },
  {
   "cell_type": "code",
   "execution_count": null,
   "metadata": {},
   "outputs": [],
   "source": [
    "#Assuming we only have three cards\n",
    "cards = make_array('A', 'K', 'Q')\n",
    "cards"
   ]
  },
  {
   "cell_type": "code",
   "execution_count": null,
   "metadata": {},
   "outputs": [],
   "source": [
    "#Draw 2 cards without replacement from the 3 card deck\n",
    "np.random.choice(cards, 2, replace=False)"
   ]
  },
  {
   "cell_type": "markdown",
   "metadata": {},
   "source": [
    "You could have also made an array of size six and drawn from this six times."
   ]
  },
  {
   "cell_type": "code",
   "execution_count": null,
   "metadata": {},
   "outputs": [],
   "source": [
    "#Defining a function to simulate the game\n",
    "def three_card_game():\n",
    "    two_cards_drawn = np.random.choice(cards, 2, replace=False)\n",
    "    return make_array(two_cards_drawn.item(0), two_cards_drawn.item(1))"
   ]
  },
  {
   "cell_type": "code",
   "execution_count": null,
   "metadata": {},
   "outputs": [],
   "source": [
    "three_card_game()"
   ]
  },
  {
   "cell_type": "code",
   "execution_count": null,
   "metadata": {},
   "outputs": [],
   "source": [
    "results = Table(make_array('First Card', 'Second Card'))\n",
    "results"
   ]
  },
  {
   "cell_type": "code",
   "execution_count": null,
   "metadata": {},
   "outputs": [],
   "source": [
    "#Repeat the simulation 10,000 times\n",
    "for i in np.arange(10000):\n",
    "    results.append(three_card_game())\n",
    "results.show(5)"
   ]
  },
  {
   "cell_type": "code",
   "execution_count": null,
   "metadata": {},
   "outputs": [],
   "source": [
    "#Getting the count of each unique 2 card combinations from the simulations\n",
    "results_grouped = results.group(make_array('First Card','Second Card'))\n",
    "results_grouped"
   ]
  },
  {
   "cell_type": "code",
   "execution_count": null,
   "metadata": {},
   "outputs": [],
   "source": [
    "#Let's see if the number of unique combinations is what we wrote above\n",
    "unique_combinations = results_grouped.num_rows\n",
    "unique_combinations"
   ]
  },
  {
   "cell_type": "code",
   "execution_count": null,
   "metadata": {},
   "outputs": [],
   "source": [
    "#How many times each combination appeared\n",
    "card_counts = results_grouped.column('count')\n",
    "\n",
    "#How many total simulations were conducted\n",
    "total_simulations = sum(results_grouped.column('count'))\n",
    "\n",
    "#Updating the table to contain the proportion of times each combination appeared\n",
    "results_grouped = results_grouped.with_column('Proportion',(card_counts/total_simulations))\n",
    "results_grouped"
   ]
  },
  {
   "cell_type": "markdown",
   "metadata": {},
   "source": [
    "This justifies our earlier calculations. The proportion of $\\{Q, K\\}$ is approximately $\\frac{1}{6}$, and the combined proportion of either $\\{Q, K\\}$ or  $\\{K, Q\\}$ is $\\frac{2}{6} = \\frac{1}{3}$."
   ]
  },
  {
   "cell_type": "code",
   "execution_count": null,
   "metadata": {},
   "outputs": [],
   "source": []
  },
  {
   "cell_type": "code",
   "execution_count": null,
   "metadata": {},
   "outputs": [],
   "source": []
  },
  {
   "cell_type": "markdown",
   "metadata": {},
   "source": [
    "### Demo for The Monty Hall Problem ###"
   ]
  },
  {
   "cell_type": "code",
   "execution_count": null,
   "metadata": {},
   "outputs": [],
   "source": [
    "goats = make_array('first goat', 'second goat')\n",
    "doors = make_array('car', 'first goat', 'second goat')\n",
    "doors"
   ]
  },
  {
   "cell_type": "code",
   "execution_count": null,
   "metadata": {},
   "outputs": [],
   "source": [
    "#Define a function that determines which goat is revealed\n",
    "def other_goat(x):\n",
    "    if x == 'first goat':\n",
    "        return 'second goat'\n",
    "    elif x == 'second goat':\n",
    "        return 'first goat'"
   ]
  },
  {
   "cell_type": "code",
   "execution_count": null,
   "metadata": {},
   "outputs": [],
   "source": [
    "make_array(other_goat('first goat'), other_goat('second goat'))"
   ]
  },
  {
   "cell_type": "code",
   "execution_count": null,
   "metadata": {},
   "outputs": [],
   "source": [
    "def monty_hall():\n",
    "    \"\"\"Return \n",
    "    [contestant's guess, what Monty reveals, \n",
    "    what remains behind the other door]\"\"\"\n",
    "    \n",
    "    #Contest randonmlychooses one of the three doors\n",
    "    contestant_choice = np.random.choice(doors)\n",
    "\n",
    "    #Scenario #1 - Contest chooses the first goat\n",
    "    if contestant_choice == 'first goat':\n",
    "        monty_choice = 'second goat'\n",
    "        remaining_choice = 'car'\n",
    "        \n",
    "    #Scenario #2 - Content chooses the second goat\n",
    "    if contestant_choice == 'second goat':\n",
    "        monty_choice = 'first goat'\n",
    "        remaining_choice = 'car'\n",
    "    \n",
    "   #Scenario #3 - Contestant chooses the car\n",
    "    if contestant_choice == 'car':\n",
    "        monty_choice = np.random.choice(goats)\n",
    "        remaining_choice = other_goat(monty_choice)\n",
    "        \n",
    "    return make_array(contestant_choice, monty_choice, remaining_choice)"
   ]
  },
  {
   "cell_type": "code",
   "execution_count": null,
   "metadata": {},
   "outputs": [],
   "source": [
    "#Simuate one outcome of the Monty Hall problem\n",
    "monty_hall()"
   ]
  },
  {
   "cell_type": "code",
   "execution_count": null,
   "metadata": {},
   "outputs": [],
   "source": [
    "results = Table(make_array(\"Contestant's Choice\", \"Monty's Choice\", 'Remaining'))\n",
    "\n",
    "for i in np.arange(10000):\n",
    "    results.append(monty_hall())\n"
   ]
  },
  {
   "cell_type": "code",
   "execution_count": null,
   "metadata": {},
   "outputs": [],
   "source": [
    "results.show(3)"
   ]
  },
  {
   "cell_type": "code",
   "execution_count": null,
   "metadata": {},
   "outputs": [],
   "source": [
    "results.group(\"Contestant's Choice\").barh(\"Contestant's Choice\")"
   ]
  },
  {
   "cell_type": "code",
   "execution_count": null,
   "metadata": {},
   "outputs": [],
   "source": [
    "results.group('Remaining').barh('Remaining')"
   ]
  },
  {
   "cell_type": "code",
   "execution_count": null,
   "metadata": {},
   "outputs": [],
   "source": []
  }
 ],
 "metadata": {
  "kernelspec": {
   "display_name": "Python 3 (ipykernel)",
   "language": "python",
   "name": "python3"
  },
  "language_info": {
   "codemirror_mode": {
    "name": "ipython",
    "version": 3
   },
   "file_extension": ".py",
   "mimetype": "text/x-python",
   "name": "python",
   "nbconvert_exporter": "python",
   "pygments_lexer": "ipython3",
   "version": "3.12.4"
  }
 },
 "nbformat": 4,
 "nbformat_minor": 4
}
